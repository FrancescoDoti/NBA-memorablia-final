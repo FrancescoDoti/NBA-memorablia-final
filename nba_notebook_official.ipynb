{
 "cells": [
  {
   "cell_type": "markdown",
   "metadata": {},
   "source": [
    "# Data import and visualization"
   ]
  },
  {
   "cell_type": "code",
   "execution_count": 1,
   "metadata": {},
   "outputs": [],
   "source": [
    "import sklearn\n",
    "import matplotlib.pyplot as plt\n",
    "import numpy as np\n",
    "import pandas as pd\n",
    "import seaborn as sns\n",
    "from sklearn.linear_model import LogisticRegression\n",
    "from sklearn.model_selection import train_test_split\n",
    "import warnings\n",
    "from sklearn.impute import SimpleImputer\n",
    "from sklearn.experimental import enable_iterative_imputer\n",
    "from sklearn.impute import IterativeImputer\n",
    "from imblearn.over_sampling import SMOTE\n",
    "import imblearn\n",
    "%matplotlib inline\n",
    "warnings.simplefilter(action='ignore', category=FutureWarning)\n",
    "plt.style.use(\"Solarize_Light2\")\n",
    "np.random.seed(548)\n",
    "\n",
    "#common imports"
   ]
  },
  {
   "cell_type": "code",
   "execution_count": 2,
   "metadata": {
    "scrolled": true
   },
   "outputs": [
    {
     "name": "stdout",
     "output_type": "stream",
     "text": [
      "\n",
      "System:\n",
      "    python: 3.8.5 (default, Sep  3 2020, 21:29:08) [MSC v.1916 64 bit (AMD64)]\n",
      "executable: C:\\Users\\frame\\anaconda3\\python.exe\n",
      "   machine: Windows-10-10.0.22621-SP0\n",
      "\n",
      "Python dependencies:\n",
      "      sklearn: 1.2.2\n",
      "          pip: 20.2.4\n",
      "   setuptools: 50.3.1.post20201107\n",
      "        numpy: 1.24.2\n",
      "        scipy: 1.5.2\n",
      "       Cython: 0.29.21\n",
      "       pandas: 1.1.3\n",
      "   matplotlib: 3.3.2\n",
      "       joblib: 1.2.0\n",
      "threadpoolctl: 3.1.0\n",
      "\n",
      "Built with OpenMP: True\n",
      "\n",
      "threadpoolctl info:\n",
      "       user_api: openmp\n",
      "   internal_api: openmp\n",
      "         prefix: vcomp\n",
      "       filepath: C:\\Users\\frame\\anaconda3\\Lib\\site-packages\\sklearn\\.libs\\vcomp140.dll\n",
      "        version: None\n",
      "    num_threads: 8\n",
      "\n",
      "       user_api: blas\n",
      "   internal_api: openblas\n",
      "         prefix: libopenblas\n",
      "       filepath: C:\\Users\\frame\\anaconda3\\Lib\\site-packages\\numpy\\.libs\\libopenblas64__v0.3.21-gcc_10_3_0.dll\n",
      "        version: 0.3.21\n",
      "threading_layer: pthreads\n",
      "   architecture: SkylakeX\n",
      "    num_threads: 8\n",
      "\n",
      "       user_api: blas\n",
      "   internal_api: mkl\n",
      "         prefix: mkl_rt\n",
      "       filepath: C:\\Users\\frame\\anaconda3\\Library\\bin\\mkl_rt.dll\n",
      "        version: 2020.0.2\n",
      "threading_layer: intel\n",
      "    num_threads: 4\n",
      "None\n"
     ]
    }
   ],
   "source": [
    "import sklearn\n",
    "print(sklearn.show_versions())"
   ]
  },
  {
   "cell_type": "code",
   "execution_count": 3,
   "metadata": {
    "scrolled": false
   },
   "outputs": [
    {
     "data": {
      "text/html": [
       "<div>\n",
       "<style scoped>\n",
       "    .dataframe tbody tr th:only-of-type {\n",
       "        vertical-align: middle;\n",
       "    }\n",
       "\n",
       "    .dataframe tbody tr th {\n",
       "        vertical-align: top;\n",
       "    }\n",
       "\n",
       "    .dataframe thead th {\n",
       "        text-align: right;\n",
       "    }\n",
       "</style>\n",
       "<table border=\"1\" class=\"dataframe\">\n",
       "  <thead>\n",
       "    <tr style=\"text-align: right;\">\n",
       "      <th></th>\n",
       "      <th>league</th>\n",
       "      <th>games</th>\n",
       "      <th>minutes</th>\n",
       "      <th>pts</th>\n",
       "      <th>offReb</th>\n",
       "      <th>defReb</th>\n",
       "      <th>reb</th>\n",
       "      <th>asts</th>\n",
       "      <th>stl</th>\n",
       "      <th>blk</th>\n",
       "      <th>...</th>\n",
       "      <th>ftm</th>\n",
       "      <th>tpa</th>\n",
       "      <th>tpm</th>\n",
       "      <th>totalSeasons</th>\n",
       "      <th>Position</th>\n",
       "      <th>firstSeason</th>\n",
       "      <th>lastSeason</th>\n",
       "      <th>careerEnded</th>\n",
       "      <th>yrsRetired2004</th>\n",
       "      <th>class</th>\n",
       "    </tr>\n",
       "  </thead>\n",
       "  <tbody>\n",
       "    <tr>\n",
       "      <th>0</th>\n",
       "      <td>1</td>\n",
       "      <td>408</td>\n",
       "      <td>9825.0</td>\n",
       "      <td>5232.0</td>\n",
       "      <td>476.0</td>\n",
       "      <td>824.0</td>\n",
       "      <td>1300.0</td>\n",
       "      <td>866.0</td>\n",
       "      <td>265.0</td>\n",
       "      <td>175.0</td>\n",
       "      <td>...</td>\n",
       "      <td>1125.0</td>\n",
       "      <td>153.0</td>\n",
       "      <td>45.0</td>\n",
       "      <td>9</td>\n",
       "      <td>1</td>\n",
       "      <td>1982</td>\n",
       "      <td>1990</td>\n",
       "      <td>1.0</td>\n",
       "      <td>14.0</td>\n",
       "      <td>0</td>\n",
       "    </tr>\n",
       "    <tr>\n",
       "      <th>1</th>\n",
       "      <td>1</td>\n",
       "      <td>51</td>\n",
       "      <td>NaN</td>\n",
       "      <td>587.0</td>\n",
       "      <td>NaN</td>\n",
       "      <td>NaN</td>\n",
       "      <td>NaN</td>\n",
       "      <td>158.0</td>\n",
       "      <td>NaN</td>\n",
       "      <td>NaN</td>\n",
       "      <td>...</td>\n",
       "      <td>143.0</td>\n",
       "      <td>NaN</td>\n",
       "      <td>NaN</td>\n",
       "      <td>1</td>\n",
       "      <td>1</td>\n",
       "      <td>1949</td>\n",
       "      <td>1949</td>\n",
       "      <td>1.0</td>\n",
       "      <td>55.0</td>\n",
       "      <td>0</td>\n",
       "    </tr>\n",
       "    <tr>\n",
       "      <th>2</th>\n",
       "      <td>1</td>\n",
       "      <td>265</td>\n",
       "      <td>NaN</td>\n",
       "      <td>1712.0</td>\n",
       "      <td>NaN</td>\n",
       "      <td>NaN</td>\n",
       "      <td>72.0</td>\n",
       "      <td>311.0</td>\n",
       "      <td>NaN</td>\n",
       "      <td>NaN</td>\n",
       "      <td>...</td>\n",
       "      <td>402.0</td>\n",
       "      <td>NaN</td>\n",
       "      <td>NaN</td>\n",
       "      <td>5</td>\n",
       "      <td>1</td>\n",
       "      <td>1946</td>\n",
       "      <td>1950</td>\n",
       "      <td>1.0</td>\n",
       "      <td>54.0</td>\n",
       "      <td>0</td>\n",
       "    </tr>\n",
       "    <tr>\n",
       "      <th>3</th>\n",
       "      <td>1</td>\n",
       "      <td>133</td>\n",
       "      <td>2587.0</td>\n",
       "      <td>992.0</td>\n",
       "      <td>55.0</td>\n",
       "      <td>198.0</td>\n",
       "      <td>253.0</td>\n",
       "      <td>291.0</td>\n",
       "      <td>123.0</td>\n",
       "      <td>14.0</td>\n",
       "      <td>...</td>\n",
       "      <td>102.0</td>\n",
       "      <td>349.0</td>\n",
       "      <td>134.0</td>\n",
       "      <td>2</td>\n",
       "      <td>1</td>\n",
       "      <td>2003</td>\n",
       "      <td>2004</td>\n",
       "      <td>NaN</td>\n",
       "      <td>NaN</td>\n",
       "      <td>0</td>\n",
       "    </tr>\n",
       "    <tr>\n",
       "      <th>4</th>\n",
       "      <td>1</td>\n",
       "      <td>8</td>\n",
       "      <td>28.0</td>\n",
       "      <td>7.0</td>\n",
       "      <td>NaN</td>\n",
       "      <td>2.0</td>\n",
       "      <td>2.0</td>\n",
       "      <td>NaN</td>\n",
       "      <td>NaN</td>\n",
       "      <td>NaN</td>\n",
       "      <td>...</td>\n",
       "      <td>3.0</td>\n",
       "      <td>NaN</td>\n",
       "      <td>NaN</td>\n",
       "      <td>1</td>\n",
       "      <td>1</td>\n",
       "      <td>2004</td>\n",
       "      <td>2004</td>\n",
       "      <td>NaN</td>\n",
       "      <td>NaN</td>\n",
       "      <td>0</td>\n",
       "    </tr>\n",
       "  </tbody>\n",
       "</table>\n",
       "<p>5 rows × 25 columns</p>\n",
       "</div>"
      ],
      "text/plain": [
       "   league  games  minutes     pts  offReb  defReb     reb   asts    stl  \\\n",
       "0       1    408   9825.0  5232.0   476.0   824.0  1300.0  866.0  265.0   \n",
       "1       1     51      NaN   587.0     NaN     NaN     NaN  158.0    NaN   \n",
       "2       1    265      NaN  1712.0     NaN     NaN    72.0  311.0    NaN   \n",
       "3       1    133   2587.0   992.0    55.0   198.0   253.0  291.0  123.0   \n",
       "4       1      8     28.0     7.0     NaN     2.0     2.0    NaN    NaN   \n",
       "\n",
       "     blk  ...     ftm    tpa    tpm  totalSeasons  Position  firstSeason  \\\n",
       "0  175.0  ...  1125.0  153.0   45.0             9         1         1982   \n",
       "1    NaN  ...   143.0    NaN    NaN             1         1         1949   \n",
       "2    NaN  ...   402.0    NaN    NaN             5         1         1946   \n",
       "3   14.0  ...   102.0  349.0  134.0             2         1         2003   \n",
       "4    NaN  ...     3.0    NaN    NaN             1         1         2004   \n",
       "\n",
       "   lastSeason  careerEnded  yrsRetired2004  class  \n",
       "0        1990          1.0            14.0      0  \n",
       "1        1949          1.0            55.0      0  \n",
       "2        1950          1.0            54.0      0  \n",
       "3        2004          NaN             NaN      0  \n",
       "4        2004          NaN             NaN      0  \n",
       "\n",
       "[5 rows x 25 columns]"
      ]
     },
     "execution_count": 3,
     "metadata": {},
     "output_type": "execute_result"
    }
   ],
   "source": [
    "data=pd.read_csv('C:/Users/frame/OneDrive/Desktop/Weka projects/CSV-Hall-of-fame-train.csv') #substitute this with path of the dataset on your device\n",
    "data.head()"
   ]
  },
  {
   "cell_type": "code",
   "execution_count": 4,
   "metadata": {},
   "outputs": [
    {
     "data": {
      "text/html": [
       "<div>\n",
       "<style scoped>\n",
       "    .dataframe tbody tr th:only-of-type {\n",
       "        vertical-align: middle;\n",
       "    }\n",
       "\n",
       "    .dataframe tbody tr th {\n",
       "        vertical-align: top;\n",
       "    }\n",
       "\n",
       "    .dataframe thead th {\n",
       "        text-align: right;\n",
       "    }\n",
       "</style>\n",
       "<table border=\"1\" class=\"dataframe\">\n",
       "  <thead>\n",
       "    <tr style=\"text-align: right;\">\n",
       "      <th></th>\n",
       "      <th>league</th>\n",
       "      <th>games</th>\n",
       "      <th>minutes</th>\n",
       "      <th>pts</th>\n",
       "      <th>offReb</th>\n",
       "      <th>defReb</th>\n",
       "      <th>reb</th>\n",
       "      <th>asts</th>\n",
       "      <th>stl</th>\n",
       "      <th>blk</th>\n",
       "      <th>...</th>\n",
       "      <th>ftm</th>\n",
       "      <th>tpa</th>\n",
       "      <th>tpm</th>\n",
       "      <th>totalSeasons</th>\n",
       "      <th>Position</th>\n",
       "      <th>firstSeason</th>\n",
       "      <th>lastSeason</th>\n",
       "      <th>careerEnded</th>\n",
       "      <th>yrsRetired2004</th>\n",
       "      <th>class</th>\n",
       "    </tr>\n",
       "  </thead>\n",
       "  <tbody>\n",
       "    <tr>\n",
       "      <th>0</th>\n",
       "      <td>1</td>\n",
       "      <td>408</td>\n",
       "      <td>9825.0</td>\n",
       "      <td>5232.0</td>\n",
       "      <td>476.0</td>\n",
       "      <td>824.0</td>\n",
       "      <td>1300.0</td>\n",
       "      <td>866.0</td>\n",
       "      <td>265.0</td>\n",
       "      <td>175.0</td>\n",
       "      <td>...</td>\n",
       "      <td>1125.0</td>\n",
       "      <td>153.0</td>\n",
       "      <td>45.0</td>\n",
       "      <td>9</td>\n",
       "      <td>1</td>\n",
       "      <td>1982</td>\n",
       "      <td>1990</td>\n",
       "      <td>1.0</td>\n",
       "      <td>14.0</td>\n",
       "      <td>0</td>\n",
       "    </tr>\n",
       "    <tr>\n",
       "      <th>3</th>\n",
       "      <td>1</td>\n",
       "      <td>133</td>\n",
       "      <td>2587.0</td>\n",
       "      <td>992.0</td>\n",
       "      <td>55.0</td>\n",
       "      <td>198.0</td>\n",
       "      <td>253.0</td>\n",
       "      <td>291.0</td>\n",
       "      <td>123.0</td>\n",
       "      <td>14.0</td>\n",
       "      <td>...</td>\n",
       "      <td>102.0</td>\n",
       "      <td>349.0</td>\n",
       "      <td>134.0</td>\n",
       "      <td>2</td>\n",
       "      <td>1</td>\n",
       "      <td>2003</td>\n",
       "      <td>2004</td>\n",
       "      <td>NaN</td>\n",
       "      <td>NaN</td>\n",
       "      <td>0</td>\n",
       "    </tr>\n",
       "    <tr>\n",
       "      <th>5</th>\n",
       "      <td>1</td>\n",
       "      <td>343</td>\n",
       "      <td>8569.0</td>\n",
       "      <td>3268.0</td>\n",
       "      <td>745.0</td>\n",
       "      <td>1787.0</td>\n",
       "      <td>2532.0</td>\n",
       "      <td>261.0</td>\n",
       "      <td>145.0</td>\n",
       "      <td>399.0</td>\n",
       "      <td>...</td>\n",
       "      <td>996.0</td>\n",
       "      <td>7.0</td>\n",
       "      <td>NaN</td>\n",
       "      <td>5</td>\n",
       "      <td>2</td>\n",
       "      <td>2000</td>\n",
       "      <td>2004</td>\n",
       "      <td>NaN</td>\n",
       "      <td>NaN</td>\n",
       "      <td>0</td>\n",
       "    </tr>\n",
       "    <tr>\n",
       "      <th>6</th>\n",
       "      <td>1</td>\n",
       "      <td>472</td>\n",
       "      <td>15767.0</td>\n",
       "      <td>9063.0</td>\n",
       "      <td>NaN</td>\n",
       "      <td>NaN</td>\n",
       "      <td>4220.0</td>\n",
       "      <td>815.0</td>\n",
       "      <td>NaN</td>\n",
       "      <td>NaN</td>\n",
       "      <td>...</td>\n",
       "      <td>2677.0</td>\n",
       "      <td>NaN</td>\n",
       "      <td>NaN</td>\n",
       "      <td>7</td>\n",
       "      <td>3</td>\n",
       "      <td>1953</td>\n",
       "      <td>1959</td>\n",
       "      <td>1.0</td>\n",
       "      <td>45.0</td>\n",
       "      <td>1</td>\n",
       "    </tr>\n",
       "    <tr>\n",
       "      <th>7</th>\n",
       "      <td>0</td>\n",
       "      <td>50</td>\n",
       "      <td>665.0</td>\n",
       "      <td>262.0</td>\n",
       "      <td>NaN</td>\n",
       "      <td>NaN</td>\n",
       "      <td>118.0</td>\n",
       "      <td>76.0</td>\n",
       "      <td>NaN</td>\n",
       "      <td>NaN</td>\n",
       "      <td>...</td>\n",
       "      <td>36.0</td>\n",
       "      <td>8.0</td>\n",
       "      <td>2.0</td>\n",
       "      <td>2</td>\n",
       "      <td>3</td>\n",
       "      <td>1972</td>\n",
       "      <td>1973</td>\n",
       "      <td>1.0</td>\n",
       "      <td>31.0</td>\n",
       "      <td>0</td>\n",
       "    </tr>\n",
       "    <tr>\n",
       "      <th>...</th>\n",
       "      <td>...</td>\n",
       "      <td>...</td>\n",
       "      <td>...</td>\n",
       "      <td>...</td>\n",
       "      <td>...</td>\n",
       "      <td>...</td>\n",
       "      <td>...</td>\n",
       "      <td>...</td>\n",
       "      <td>...</td>\n",
       "      <td>...</td>\n",
       "      <td>...</td>\n",
       "      <td>...</td>\n",
       "      <td>...</td>\n",
       "      <td>...</td>\n",
       "      <td>...</td>\n",
       "      <td>...</td>\n",
       "      <td>...</td>\n",
       "      <td>...</td>\n",
       "      <td>...</td>\n",
       "      <td>...</td>\n",
       "      <td>...</td>\n",
       "    </tr>\n",
       "    <tr>\n",
       "      <th>489</th>\n",
       "      <td>1</td>\n",
       "      <td>130</td>\n",
       "      <td>2221.0</td>\n",
       "      <td>1085.0</td>\n",
       "      <td>37.0</td>\n",
       "      <td>124.0</td>\n",
       "      <td>161.0</td>\n",
       "      <td>330.0</td>\n",
       "      <td>69.0</td>\n",
       "      <td>14.0</td>\n",
       "      <td>...</td>\n",
       "      <td>221.0</td>\n",
       "      <td>NaN</td>\n",
       "      <td>NaN</td>\n",
       "      <td>2</td>\n",
       "      <td>1</td>\n",
       "      <td>1976</td>\n",
       "      <td>1977</td>\n",
       "      <td>1.0</td>\n",
       "      <td>27.0</td>\n",
       "      <td>0</td>\n",
       "    </tr>\n",
       "    <tr>\n",
       "      <th>490</th>\n",
       "      <td>1</td>\n",
       "      <td>262</td>\n",
       "      <td>5229.0</td>\n",
       "      <td>2508.0</td>\n",
       "      <td>214.0</td>\n",
       "      <td>468.0</td>\n",
       "      <td>682.0</td>\n",
       "      <td>507.0</td>\n",
       "      <td>319.0</td>\n",
       "      <td>101.0</td>\n",
       "      <td>...</td>\n",
       "      <td>288.0</td>\n",
       "      <td>6.0</td>\n",
       "      <td>2.0</td>\n",
       "      <td>4</td>\n",
       "      <td>1</td>\n",
       "      <td>1976</td>\n",
       "      <td>1979</td>\n",
       "      <td>1.0</td>\n",
       "      <td>25.0</td>\n",
       "      <td>0</td>\n",
       "    </tr>\n",
       "    <tr>\n",
       "      <th>492</th>\n",
       "      <td>1</td>\n",
       "      <td>814</td>\n",
       "      <td>19241.0</td>\n",
       "      <td>9948.0</td>\n",
       "      <td>140.0</td>\n",
       "      <td>282.0</td>\n",
       "      <td>4555.0</td>\n",
       "      <td>1112.0</td>\n",
       "      <td>89.0</td>\n",
       "      <td>16.0</td>\n",
       "      <td>...</td>\n",
       "      <td>2054.0</td>\n",
       "      <td>NaN</td>\n",
       "      <td>NaN</td>\n",
       "      <td>12</td>\n",
       "      <td>3</td>\n",
       "      <td>1963</td>\n",
       "      <td>1974</td>\n",
       "      <td>1.0</td>\n",
       "      <td>30.0</td>\n",
       "      <td>0</td>\n",
       "    </tr>\n",
       "    <tr>\n",
       "      <th>493</th>\n",
       "      <td>1</td>\n",
       "      <td>98</td>\n",
       "      <td>1220.0</td>\n",
       "      <td>345.0</td>\n",
       "      <td>71.0</td>\n",
       "      <td>248.0</td>\n",
       "      <td>319.0</td>\n",
       "      <td>48.0</td>\n",
       "      <td>27.0</td>\n",
       "      <td>42.0</td>\n",
       "      <td>...</td>\n",
       "      <td>47.0</td>\n",
       "      <td>3.0</td>\n",
       "      <td>2.0</td>\n",
       "      <td>3</td>\n",
       "      <td>3</td>\n",
       "      <td>2000</td>\n",
       "      <td>2002</td>\n",
       "      <td>1.0</td>\n",
       "      <td>2.0</td>\n",
       "      <td>0</td>\n",
       "    </tr>\n",
       "    <tr>\n",
       "      <th>494</th>\n",
       "      <td>1</td>\n",
       "      <td>99</td>\n",
       "      <td>1301.0</td>\n",
       "      <td>407.0</td>\n",
       "      <td>NaN</td>\n",
       "      <td>NaN</td>\n",
       "      <td>349.0</td>\n",
       "      <td>52.0</td>\n",
       "      <td>NaN</td>\n",
       "      <td>NaN</td>\n",
       "      <td>...</td>\n",
       "      <td>93.0</td>\n",
       "      <td>NaN</td>\n",
       "      <td>NaN</td>\n",
       "      <td>3</td>\n",
       "      <td>3</td>\n",
       "      <td>1954</td>\n",
       "      <td>1956</td>\n",
       "      <td>1.0</td>\n",
       "      <td>48.0</td>\n",
       "      <td>0</td>\n",
       "    </tr>\n",
       "  </tbody>\n",
       "</table>\n",
       "<p>437 rows × 25 columns</p>\n",
       "</div>"
      ],
      "text/plain": [
       "     league  games  minutes     pts  offReb  defReb     reb    asts    stl  \\\n",
       "0         1    408   9825.0  5232.0   476.0   824.0  1300.0   866.0  265.0   \n",
       "3         1    133   2587.0   992.0    55.0   198.0   253.0   291.0  123.0   \n",
       "5         1    343   8569.0  3268.0   745.0  1787.0  2532.0   261.0  145.0   \n",
       "6         1    472  15767.0  9063.0     NaN     NaN  4220.0   815.0    NaN   \n",
       "7         0     50    665.0   262.0     NaN     NaN   118.0    76.0    NaN   \n",
       "..      ...    ...      ...     ...     ...     ...     ...     ...    ...   \n",
       "489       1    130   2221.0  1085.0    37.0   124.0   161.0   330.0   69.0   \n",
       "490       1    262   5229.0  2508.0   214.0   468.0   682.0   507.0  319.0   \n",
       "492       1    814  19241.0  9948.0   140.0   282.0  4555.0  1112.0   89.0   \n",
       "493       1     98   1220.0   345.0    71.0   248.0   319.0    48.0   27.0   \n",
       "494       1     99   1301.0   407.0     NaN     NaN   349.0    52.0    NaN   \n",
       "\n",
       "       blk  ...     ftm    tpa    tpm  totalSeasons  Position  firstSeason  \\\n",
       "0    175.0  ...  1125.0  153.0   45.0             9         1         1982   \n",
       "3     14.0  ...   102.0  349.0  134.0             2         1         2003   \n",
       "5    399.0  ...   996.0    7.0    NaN             5         2         2000   \n",
       "6      NaN  ...  2677.0    NaN    NaN             7         3         1953   \n",
       "7      NaN  ...    36.0    8.0    2.0             2         3         1972   \n",
       "..     ...  ...     ...    ...    ...           ...       ...          ...   \n",
       "489   14.0  ...   221.0    NaN    NaN             2         1         1976   \n",
       "490  101.0  ...   288.0    6.0    2.0             4         1         1976   \n",
       "492   16.0  ...  2054.0    NaN    NaN            12         3         1963   \n",
       "493   42.0  ...    47.0    3.0    2.0             3         3         2000   \n",
       "494    NaN  ...    93.0    NaN    NaN             3         3         1954   \n",
       "\n",
       "     lastSeason  careerEnded  yrsRetired2004  class  \n",
       "0          1990          1.0            14.0      0  \n",
       "3          2004          NaN             NaN      0  \n",
       "5          2004          NaN             NaN      0  \n",
       "6          1959          1.0            45.0      1  \n",
       "7          1973          1.0            31.0      0  \n",
       "..          ...          ...             ...    ...  \n",
       "489        1977          1.0            27.0      0  \n",
       "490        1979          1.0            25.0      0  \n",
       "492        1974          1.0            30.0      0  \n",
       "493        2002          1.0             2.0      0  \n",
       "494        1956          1.0            48.0      0  \n",
       "\n",
       "[437 rows x 25 columns]"
      ]
     },
     "execution_count": 4,
     "metadata": {},
     "output_type": "execute_result"
    }
   ],
   "source": [
    "data_not_null= data.loc[data['minutes'].notnull()].loc[data['pts'].notnull()].loc[data['asts'].notnull()]\n",
    "data_not_null"
   ]
  },
  {
   "cell_type": "code",
   "execution_count": 5,
   "metadata": {},
   "outputs": [
    {
     "data": {
      "text/plain": [
       "(0.0, 10361.15)"
      ]
     },
     "execution_count": 5,
     "metadata": {},
     "output_type": "execute_result"
    },
    {
     "data": {
      "image/png": "[encoded data removed]",
      "text/plain": [
       "<Figure size 432x288 with 1 Axes>"
      ]
     },
     "metadata": {},
     "output_type": "display_data"
    },
    {
     "data": {
      "image/png": "[encoded data removed]",
      "text/plain": [
       "<Figure size 432x288 with 1 Axes>"
      ]
     },
     "metadata": {},
     "output_type": "display_data"
    }
   ],
   "source": [
    "# Show a visual of how stats of hall of famers have changed through the years\n",
    "\n",
    "hof_df= data.loc[data[\"class\"] == 1]\n",
    "\n",
    "plt.scatter(hof_df[\"firstSeason\"], hof_df[\"pts\"])\n",
    "plt.title(\"HOF PTS vs Year\")\n",
    "plt.ylim(0)\n",
    "\n",
    "plt.figure()\n",
    "plt.scatter(hof_df[\"firstSeason\"], hof_df[\"asts\"])\n",
    "plt.title(\"HOF AST vs Year\")\n",
    "plt.ylim(0)"
   ]
  },
  {
   "cell_type": "code",
   "execution_count": 6,
   "metadata": {},
   "outputs": [],
   "source": [
    "curr_points = np.mean(data_not_null.loc[data_not_null['class'] == 0][\"pts\"])\n",
    "curr_assists = np.mean(data_not_null.loc[data_not_null['class'] == 0][\"asts\"])\n",
    "\n",
    "hof_points = np.mean(data_not_null.loc[data_not_null['class'] == 1][\"pts\"])\n",
    "hof_assists = np.mean(data_not_null.loc[data_not_null['class'] == 1][\"asts\"])"
   ]
  },
  {
   "cell_type": "code",
   "execution_count": 7,
   "metadata": {},
   "outputs": [
    {
     "data": {
      "text/plain": [
       "Text(0.5, 1.0, 'Assists')"
      ]
     },
     "execution_count": 7,
     "metadata": {},
     "output_type": "execute_result"
    },
    {
     "data": {
      "image/png": "[encoded data removed]",
      "text/plain": [
       "<Figure size 1800x504 with 2 Axes>"
      ]
     },
     "metadata": {},
     "output_type": "display_data"
    }
   ],
   "source": [
    "# compare the average player today with the average hall of famer across all categories\n",
    "\n",
    "plt.figure(figsize=(25, 7))\n",
    "\n",
    "colors = ['crimson', 'blue']\n",
    "\n",
    "plt.subplot(1, 5,1)\n",
    "plt.bar([\"Average Hall of Famer\",\"Average Player\"], [hof_points, curr_points],color=colors)\n",
    "plt.title(\"Points\")\n",
    "\n",
    "plt.subplot(1, 5,2)\n",
    "plt.bar([\"Average Hall of Famer\", \"Average Player\"], [hof_assists, curr_assists],color=colors)\n",
    "plt.title(\"Assists\")\n"
   ]
  },
  {
   "cell_type": "code",
   "execution_count": 8,
   "metadata": {},
   "outputs": [],
   "source": [
    "curr_points_min = np.mean(data_not_null.loc[data_not_null['class'] == 0][\"pts\"]/data_not_null.loc[data_not_null['class'] == 0][\"minutes\"])\n",
    "curr_assists_min = np.mean(data_not_null.loc[data_not_null['class'] == 0][\"asts\"]/data_not_null.loc[data_not_null['class'] == 0][\"minutes\"])\n",
    "\n",
    "hof_points_min = np.mean(data_not_null.loc[data_not_null['class'] == 1][\"pts\"]/data_not_null.loc[data_not_null['class'] == 1][\"minutes\"])\n",
    "hof_assists_min = np.mean(data_not_null.loc[data_not_null['class'] == 1][\"asts\"]/data_not_null.loc[data_not_null['class'] == 1][\"minutes\"])"
   ]
  },
  {
   "cell_type": "code",
   "execution_count": 9,
   "metadata": {},
   "outputs": [
    {
     "data": {
      "text/plain": [
       "Text(0.5, 1.0, 'Assists')"
      ]
     },
     "execution_count": 9,
     "metadata": {},
     "output_type": "execute_result"
    },
    {
     "data": {
      "image/png": "[encoded data removed]",
      "text/plain": [
       "<Figure size 1800x504 with 2 Axes>"
      ]
     },
     "metadata": {},
     "output_type": "display_data"
    }
   ],
   "source": [
    "# compare the average player today with the average hall of famer across all categories\n",
    "\n",
    "plt.figure(figsize=(25, 7))\n",
    "\n",
    "colors = ['crimson', 'blue']\n",
    "\n",
    "plt.subplot(1, 5,1)\n",
    "plt.bar([\"Average Hall of Famer\",\"Average Player\"], [hof_points_min, curr_points_min],color=colors)\n",
    "plt.title(\"Points\")\n",
    "\n",
    "plt.subplot(1, 5,2)\n",
    "plt.bar([\"Average Hall of Famer\", \"Average Player\"], [hof_assists_min, curr_assists_min],color=colors)\n",
    "plt.title(\"Assists\")\n"
   ]
  },
  {
   "cell_type": "code",
   "execution_count": 10,
   "metadata": {},
   "outputs": [
    {
     "name": "stdout",
     "output_type": "stream",
     "text": [
      "[[1.00000000e+00 4.08000000e+02 9.82500000e+03 ... 1.00000000e+00\n",
      "  1.40000000e+01 0.00000000e+00]\n",
      " [1.00000000e+00 5.10000000e+01 5.45210068e+02 ... 1.00000000e+00\n",
      "  5.50000000e+01 0.00000000e+00]\n",
      " [1.00000000e+00 2.65000000e+02 3.13128378e+03 ... 1.00000000e+00\n",
      "  5.40000000e+01 0.00000000e+00]\n",
      " ...\n",
      " [1.00000000e+00 8.14000000e+02 1.92410000e+04 ... 1.00000000e+00\n",
      "  3.00000000e+01 0.00000000e+00]\n",
      " [1.00000000e+00 9.80000000e+01 1.22000000e+03 ... 1.00000000e+00\n",
      "  2.00000000e+00 0.00000000e+00]\n",
      " [1.00000000e+00 9.90000000e+01 1.30100000e+03 ... 1.00000000e+00\n",
      "  4.80000000e+01 0.00000000e+00]]\n"
     ]
    }
   ],
   "source": [
    "imp = IterativeImputer(max_iter=2000, tol=5e-2, min_value=0)\n",
    "print(imp.fit_transform(data))"
   ]
  },
  {
   "cell_type": "code",
   "execution_count": 11,
   "metadata": {
    "scrolled": false
   },
   "outputs": [
    {
     "data": {
      "text/html": [
       "<div>\n",
       "<style scoped>\n",
       "    .dataframe tbody tr th:only-of-type {\n",
       "        vertical-align: middle;\n",
       "    }\n",
       "\n",
       "    .dataframe tbody tr th {\n",
       "        vertical-align: top;\n",
       "    }\n",
       "\n",
       "    .dataframe thead th {\n",
       "        text-align: right;\n",
       "    }\n",
       "</style>\n",
       "<table border=\"1\" class=\"dataframe\">\n",
       "  <thead>\n",
       "    <tr style=\"text-align: right;\">\n",
       "      <th></th>\n",
       "      <th>league</th>\n",
       "      <th>games</th>\n",
       "      <th>minutes</th>\n",
       "      <th>pts</th>\n",
       "      <th>offReb</th>\n",
       "      <th>defReb</th>\n",
       "      <th>reb</th>\n",
       "      <th>asts</th>\n",
       "      <th>stl</th>\n",
       "      <th>blk</th>\n",
       "      <th>...</th>\n",
       "      <th>ftm</th>\n",
       "      <th>tpa</th>\n",
       "      <th>tpm</th>\n",
       "      <th>totalSeasons</th>\n",
       "      <th>Position</th>\n",
       "      <th>firstSeason</th>\n",
       "      <th>lastSeason</th>\n",
       "      <th>careerEnded</th>\n",
       "      <th>yrsRetired2004</th>\n",
       "      <th>class</th>\n",
       "    </tr>\n",
       "  </thead>\n",
       "  <tbody>\n",
       "    <tr>\n",
       "      <th>0</th>\n",
       "      <td>1.0</td>\n",
       "      <td>408.0</td>\n",
       "      <td>9825.000000</td>\n",
       "      <td>5232.000000</td>\n",
       "      <td>476.000000</td>\n",
       "      <td>824.000000</td>\n",
       "      <td>1300.000000</td>\n",
       "      <td>866.0</td>\n",
       "      <td>265.000000</td>\n",
       "      <td>175.000000</td>\n",
       "      <td>...</td>\n",
       "      <td>1125.000000</td>\n",
       "      <td>153.000000</td>\n",
       "      <td>45.000000</td>\n",
       "      <td>9.0</td>\n",
       "      <td>1.0</td>\n",
       "      <td>1982.0</td>\n",
       "      <td>1990.0</td>\n",
       "      <td>1.0</td>\n",
       "      <td>14.0</td>\n",
       "      <td>0.0</td>\n",
       "    </tr>\n",
       "    <tr>\n",
       "      <th>1</th>\n",
       "      <td>1.0</td>\n",
       "      <td>51.0</td>\n",
       "      <td>545.210068</td>\n",
       "      <td>587.000000</td>\n",
       "      <td>218.540129</td>\n",
       "      <td>369.353208</td>\n",
       "      <td>70.504732</td>\n",
       "      <td>158.0</td>\n",
       "      <td>117.569864</td>\n",
       "      <td>63.021274</td>\n",
       "      <td>...</td>\n",
       "      <td>143.000000</td>\n",
       "      <td>21.650991</td>\n",
       "      <td>0.000000</td>\n",
       "      <td>1.0</td>\n",
       "      <td>1.0</td>\n",
       "      <td>1949.0</td>\n",
       "      <td>1949.0</td>\n",
       "      <td>1.0</td>\n",
       "      <td>55.0</td>\n",
       "      <td>0.0</td>\n",
       "    </tr>\n",
       "    <tr>\n",
       "      <th>2</th>\n",
       "      <td>1.0</td>\n",
       "      <td>265.0</td>\n",
       "      <td>3131.283781</td>\n",
       "      <td>1712.000000</td>\n",
       "      <td>195.606018</td>\n",
       "      <td>221.077866</td>\n",
       "      <td>72.000000</td>\n",
       "      <td>311.0</td>\n",
       "      <td>152.790998</td>\n",
       "      <td>18.685580</td>\n",
       "      <td>...</td>\n",
       "      <td>402.000000</td>\n",
       "      <td>80.783052</td>\n",
       "      <td>0.199091</td>\n",
       "      <td>5.0</td>\n",
       "      <td>1.0</td>\n",
       "      <td>1946.0</td>\n",
       "      <td>1950.0</td>\n",
       "      <td>1.0</td>\n",
       "      <td>54.0</td>\n",
       "      <td>0.0</td>\n",
       "    </tr>\n",
       "    <tr>\n",
       "      <th>3</th>\n",
       "      <td>1.0</td>\n",
       "      <td>133.0</td>\n",
       "      <td>2587.000000</td>\n",
       "      <td>992.000000</td>\n",
       "      <td>55.000000</td>\n",
       "      <td>198.000000</td>\n",
       "      <td>253.000000</td>\n",
       "      <td>291.0</td>\n",
       "      <td>123.000000</td>\n",
       "      <td>14.000000</td>\n",
       "      <td>...</td>\n",
       "      <td>102.000000</td>\n",
       "      <td>349.000000</td>\n",
       "      <td>134.000000</td>\n",
       "      <td>2.0</td>\n",
       "      <td>1.0</td>\n",
       "      <td>2003.0</td>\n",
       "      <td>2004.0</td>\n",
       "      <td>1.0</td>\n",
       "      <td>0.0</td>\n",
       "      <td>0.0</td>\n",
       "    </tr>\n",
       "    <tr>\n",
       "      <th>4</th>\n",
       "      <td>1.0</td>\n",
       "      <td>8.0</td>\n",
       "      <td>28.000000</td>\n",
       "      <td>7.000000</td>\n",
       "      <td>0.000000</td>\n",
       "      <td>2.000000</td>\n",
       "      <td>2.000000</td>\n",
       "      <td>0.0</td>\n",
       "      <td>3.448778</td>\n",
       "      <td>0.000000</td>\n",
       "      <td>...</td>\n",
       "      <td>3.000000</td>\n",
       "      <td>10.062067</td>\n",
       "      <td>0.093153</td>\n",
       "      <td>1.0</td>\n",
       "      <td>1.0</td>\n",
       "      <td>2004.0</td>\n",
       "      <td>2004.0</td>\n",
       "      <td>1.0</td>\n",
       "      <td>0.0</td>\n",
       "      <td>0.0</td>\n",
       "    </tr>\n",
       "    <tr>\n",
       "      <th>...</th>\n",
       "      <td>...</td>\n",
       "      <td>...</td>\n",
       "      <td>...</td>\n",
       "      <td>...</td>\n",
       "      <td>...</td>\n",
       "      <td>...</td>\n",
       "      <td>...</td>\n",
       "      <td>...</td>\n",
       "      <td>...</td>\n",
       "      <td>...</td>\n",
       "      <td>...</td>\n",
       "      <td>...</td>\n",
       "      <td>...</td>\n",
       "      <td>...</td>\n",
       "      <td>...</td>\n",
       "      <td>...</td>\n",
       "      <td>...</td>\n",
       "      <td>...</td>\n",
       "      <td>...</td>\n",
       "      <td>...</td>\n",
       "      <td>...</td>\n",
       "    </tr>\n",
       "    <tr>\n",
       "      <th>490</th>\n",
       "      <td>1.0</td>\n",
       "      <td>262.0</td>\n",
       "      <td>5229.000000</td>\n",
       "      <td>2508.000000</td>\n",
       "      <td>214.000000</td>\n",
       "      <td>468.000000</td>\n",
       "      <td>682.000000</td>\n",
       "      <td>507.0</td>\n",
       "      <td>319.000000</td>\n",
       "      <td>101.000000</td>\n",
       "      <td>...</td>\n",
       "      <td>288.000000</td>\n",
       "      <td>6.000000</td>\n",
       "      <td>2.000000</td>\n",
       "      <td>4.0</td>\n",
       "      <td>1.0</td>\n",
       "      <td>1976.0</td>\n",
       "      <td>1979.0</td>\n",
       "      <td>1.0</td>\n",
       "      <td>25.0</td>\n",
       "      <td>0.0</td>\n",
       "    </tr>\n",
       "    <tr>\n",
       "      <th>491</th>\n",
       "      <td>1.0</td>\n",
       "      <td>3.0</td>\n",
       "      <td>1440.535144</td>\n",
       "      <td>2557.056933</td>\n",
       "      <td>485.733345</td>\n",
       "      <td>632.825277</td>\n",
       "      <td>983.116291</td>\n",
       "      <td>0.0</td>\n",
       "      <td>49.698293</td>\n",
       "      <td>199.825972</td>\n",
       "      <td>...</td>\n",
       "      <td>835.163994</td>\n",
       "      <td>0.000000</td>\n",
       "      <td>11.715366</td>\n",
       "      <td>1.0</td>\n",
       "      <td>3.0</td>\n",
       "      <td>1946.0</td>\n",
       "      <td>1946.0</td>\n",
       "      <td>1.0</td>\n",
       "      <td>58.0</td>\n",
       "      <td>0.0</td>\n",
       "    </tr>\n",
       "    <tr>\n",
       "      <th>492</th>\n",
       "      <td>1.0</td>\n",
       "      <td>814.0</td>\n",
       "      <td>19241.000000</td>\n",
       "      <td>9948.000000</td>\n",
       "      <td>140.000000</td>\n",
       "      <td>282.000000</td>\n",
       "      <td>4555.000000</td>\n",
       "      <td>1112.0</td>\n",
       "      <td>89.000000</td>\n",
       "      <td>16.000000</td>\n",
       "      <td>...</td>\n",
       "      <td>2054.000000</td>\n",
       "      <td>70.312834</td>\n",
       "      <td>7.640231</td>\n",
       "      <td>12.0</td>\n",
       "      <td>3.0</td>\n",
       "      <td>1963.0</td>\n",
       "      <td>1974.0</td>\n",
       "      <td>1.0</td>\n",
       "      <td>30.0</td>\n",
       "      <td>0.0</td>\n",
       "    </tr>\n",
       "    <tr>\n",
       "      <th>493</th>\n",
       "      <td>1.0</td>\n",
       "      <td>98.0</td>\n",
       "      <td>1220.000000</td>\n",
       "      <td>345.000000</td>\n",
       "      <td>71.000000</td>\n",
       "      <td>248.000000</td>\n",
       "      <td>319.000000</td>\n",
       "      <td>48.0</td>\n",
       "      <td>27.000000</td>\n",
       "      <td>42.000000</td>\n",
       "      <td>...</td>\n",
       "      <td>47.000000</td>\n",
       "      <td>3.000000</td>\n",
       "      <td>2.000000</td>\n",
       "      <td>3.0</td>\n",
       "      <td>3.0</td>\n",
       "      <td>2000.0</td>\n",
       "      <td>2002.0</td>\n",
       "      <td>1.0</td>\n",
       "      <td>2.0</td>\n",
       "      <td>0.0</td>\n",
       "    </tr>\n",
       "    <tr>\n",
       "      <th>494</th>\n",
       "      <td>1.0</td>\n",
       "      <td>99.0</td>\n",
       "      <td>1301.000000</td>\n",
       "      <td>407.000000</td>\n",
       "      <td>251.270368</td>\n",
       "      <td>469.665577</td>\n",
       "      <td>349.000000</td>\n",
       "      <td>52.0</td>\n",
       "      <td>109.771337</td>\n",
       "      <td>82.369411</td>\n",
       "      <td>...</td>\n",
       "      <td>93.000000</td>\n",
       "      <td>10.673230</td>\n",
       "      <td>0.000000</td>\n",
       "      <td>3.0</td>\n",
       "      <td>3.0</td>\n",
       "      <td>1954.0</td>\n",
       "      <td>1956.0</td>\n",
       "      <td>1.0</td>\n",
       "      <td>48.0</td>\n",
       "      <td>0.0</td>\n",
       "    </tr>\n",
       "  </tbody>\n",
       "</table>\n",
       "<p>495 rows × 25 columns</p>\n",
       "</div>"
      ],
      "text/plain": [
       "     league  games       minutes          pts      offReb      defReb  \\\n",
       "0       1.0  408.0   9825.000000  5232.000000  476.000000  824.000000   \n",
       "1       1.0   51.0    545.210068   587.000000  218.540129  369.353208   \n",
       "2       1.0  265.0   3131.283781  1712.000000  195.606018  221.077866   \n",
       "3       1.0  133.0   2587.000000   992.000000   55.000000  198.000000   \n",
       "4       1.0    8.0     28.000000     7.000000    0.000000    2.000000   \n",
       "..      ...    ...           ...          ...         ...         ...   \n",
       "490     1.0  262.0   5229.000000  2508.000000  214.000000  468.000000   \n",
       "491     1.0    3.0   1440.535144  2557.056933  485.733345  632.825277   \n",
       "492     1.0  814.0  19241.000000  9948.000000  140.000000  282.000000   \n",
       "493     1.0   98.0   1220.000000   345.000000   71.000000  248.000000   \n",
       "494     1.0   99.0   1301.000000   407.000000  251.270368  469.665577   \n",
       "\n",
       "             reb    asts         stl         blk  ...          ftm  \\\n",
       "0    1300.000000   866.0  265.000000  175.000000  ...  1125.000000   \n",
       "1      70.504732   158.0  117.569864   63.021274  ...   143.000000   \n",
       "2      72.000000   311.0  152.790998   18.685580  ...   402.000000   \n",
       "3     253.000000   291.0  123.000000   14.000000  ...   102.000000   \n",
       "4       2.000000     0.0    3.448778    0.000000  ...     3.000000   \n",
       "..           ...     ...         ...         ...  ...          ...   \n",
       "490   682.000000   507.0  319.000000  101.000000  ...   288.000000   \n",
       "491   983.116291     0.0   49.698293  199.825972  ...   835.163994   \n",
       "492  4555.000000  1112.0   89.000000   16.000000  ...  2054.000000   \n",
       "493   319.000000    48.0   27.000000   42.000000  ...    47.000000   \n",
       "494   349.000000    52.0  109.771337   82.369411  ...    93.000000   \n",
       "\n",
       "            tpa         tpm  totalSeasons  Position  firstSeason  lastSeason  \\\n",
       "0    153.000000   45.000000           9.0       1.0       1982.0      1990.0   \n",
       "1     21.650991    0.000000           1.0       1.0       1949.0      1949.0   \n",
       "2     80.783052    0.199091           5.0       1.0       1946.0      1950.0   \n",
       "3    349.000000  134.000000           2.0       1.0       2003.0      2004.0   \n",
       "4     10.062067    0.093153           1.0       1.0       2004.0      2004.0   \n",
       "..          ...         ...           ...       ...          ...         ...   \n",
       "490    6.000000    2.000000           4.0       1.0       1976.0      1979.0   \n",
       "491    0.000000   11.715366           1.0       3.0       1946.0      1946.0   \n",
       "492   70.312834    7.640231          12.0       3.0       1963.0      1974.0   \n",
       "493    3.000000    2.000000           3.0       3.0       2000.0      2002.0   \n",
       "494   10.673230    0.000000           3.0       3.0       1954.0      1956.0   \n",
       "\n",
       "     careerEnded  yrsRetired2004  class  \n",
       "0            1.0            14.0    0.0  \n",
       "1            1.0            55.0    0.0  \n",
       "2            1.0            54.0    0.0  \n",
       "3            1.0             0.0    0.0  \n",
       "4            1.0             0.0    0.0  \n",
       "..           ...             ...    ...  \n",
       "490          1.0            25.0    0.0  \n",
       "491          1.0            58.0    0.0  \n",
       "492          1.0            30.0    0.0  \n",
       "493          1.0             2.0    0.0  \n",
       "494          1.0            48.0    0.0  \n",
       "\n",
       "[495 rows x 25 columns]"
      ]
     },
     "execution_count": 11,
     "metadata": {},
     "output_type": "execute_result"
    }
   ],
   "source": [
    "idf = pd.DataFrame(imp.fit_transform(data))\n",
    "idf.columns=data.columns\n",
    "idf.index=data.index\n",
    "idf.head()\n",
    "idf"
   ]
  },
  {
   "cell_type": "code",
   "execution_count": 12,
   "metadata": {},
   "outputs": [],
   "source": [
    "idf.to_csv(r'C:/Users/frame/OneDrive/Desktop/Weka projects/NBA_balance.csv', index=False)"
   ]
  },
  {
   "cell_type": "code",
   "execution_count": 13,
   "metadata": {},
   "outputs": [
    {
     "name": "stdout",
     "output_type": "stream",
     "text": [
      "<class 'pandas.core.frame.DataFrame'>\n",
      "RangeIndex: 495 entries, 0 to 494\n",
      "Data columns (total 25 columns):\n",
      " #   Column          Non-Null Count  Dtype  \n",
      "---  ------          --------------  -----  \n",
      " 0   league          495 non-null    float64\n",
      " 1   games           495 non-null    float64\n",
      " 2   minutes         495 non-null    float64\n",
      " 3   pts             495 non-null    float64\n",
      " 4   offReb          495 non-null    float64\n",
      " 5   defReb          495 non-null    float64\n",
      " 6   reb             495 non-null    float64\n",
      " 7   asts            495 non-null    float64\n",
      " 8   stl             495 non-null    float64\n",
      " 9   blk             495 non-null    float64\n",
      " 10  turnover        495 non-null    float64\n",
      " 11  pf              495 non-null    float64\n",
      " 12  fga             495 non-null    float64\n",
      " 13  fgm             495 non-null    float64\n",
      " 14  fta             495 non-null    float64\n",
      " 15  ftm             495 non-null    float64\n",
      " 16  tpa             495 non-null    float64\n",
      " 17  tpm             495 non-null    float64\n",
      " 18  totalSeasons    495 non-null    float64\n",
      " 19  Position        495 non-null    float64\n",
      " 20  firstSeason     495 non-null    float64\n",
      " 21  lastSeason      495 non-null    float64\n",
      " 22  careerEnded     495 non-null    float64\n",
      " 23  yrsRetired2004  495 non-null    float64\n",
      " 24  class           495 non-null    float64\n",
      "dtypes: float64(25)\n",
      "memory usage: 96.8 KB\n"
     ]
    }
   ],
   "source": [
    "data = idf\n",
    "data.info()"
   ]
  },
  {
   "cell_type": "code",
   "execution_count": 14,
   "metadata": {},
   "outputs": [
    {
     "data": {
      "text/html": [
       "<div>\n",
       "<style scoped>\n",
       "    .dataframe tbody tr th:only-of-type {\n",
       "        vertical-align: middle;\n",
       "    }\n",
       "\n",
       "    .dataframe tbody tr th {\n",
       "        vertical-align: top;\n",
       "    }\n",
       "\n",
       "    .dataframe thead th {\n",
       "        text-align: right;\n",
       "    }\n",
       "</style>\n",
       "<table border=\"1\" class=\"dataframe\">\n",
       "  <thead>\n",
       "    <tr style=\"text-align: right;\">\n",
       "      <th></th>\n",
       "      <th>league</th>\n",
       "      <th>games</th>\n",
       "      <th>minutes</th>\n",
       "      <th>pts</th>\n",
       "      <th>offReb</th>\n",
       "      <th>defReb</th>\n",
       "      <th>reb</th>\n",
       "      <th>asts</th>\n",
       "      <th>stl</th>\n",
       "      <th>blk</th>\n",
       "      <th>...</th>\n",
       "      <th>ftm</th>\n",
       "      <th>tpa</th>\n",
       "      <th>tpm</th>\n",
       "      <th>totalSeasons</th>\n",
       "      <th>Position</th>\n",
       "      <th>firstSeason</th>\n",
       "      <th>lastSeason</th>\n",
       "      <th>careerEnded</th>\n",
       "      <th>yrsRetired2004</th>\n",
       "      <th>class</th>\n",
       "    </tr>\n",
       "  </thead>\n",
       "  <tbody>\n",
       "    <tr>\n",
       "      <th>count</th>\n",
       "      <td>495.000000</td>\n",
       "      <td>495.000000</td>\n",
       "      <td>495.000000</td>\n",
       "      <td>495.000000</td>\n",
       "      <td>495.000000</td>\n",
       "      <td>495.000000</td>\n",
       "      <td>495.000000</td>\n",
       "      <td>495.000000</td>\n",
       "      <td>495.000000</td>\n",
       "      <td>495.000000</td>\n",
       "      <td>...</td>\n",
       "      <td>495.000000</td>\n",
       "      <td>495.000000</td>\n",
       "      <td>495.000000</td>\n",
       "      <td>495.000000</td>\n",
       "      <td>495.000000</td>\n",
       "      <td>495.000000</td>\n",
       "      <td>495.000000</td>\n",
       "      <td>495.0</td>\n",
       "      <td>495.000000</td>\n",
       "      <td>495.000000</td>\n",
       "    </tr>\n",
       "    <tr>\n",
       "      <th>mean</th>\n",
       "      <td>0.860606</td>\n",
       "      <td>279.462626</td>\n",
       "      <td>6968.961174</td>\n",
       "      <td>3296.739346</td>\n",
       "      <td>349.299886</td>\n",
       "      <td>726.157343</td>\n",
       "      <td>1412.212004</td>\n",
       "      <td>732.501785</td>\n",
       "      <td>205.520555</td>\n",
       "      <td>120.536442</td>\n",
       "      <td>...</td>\n",
       "      <td>727.448737</td>\n",
       "      <td>167.589611</td>\n",
       "      <td>53.580589</td>\n",
       "      <td>5.357576</td>\n",
       "      <td>1.957576</td>\n",
       "      <td>1974.947475</td>\n",
       "      <td>1979.305051</td>\n",
       "      <td>1.0</td>\n",
       "      <td>24.694949</td>\n",
       "      <td>0.090909</td>\n",
       "    </tr>\n",
       "    <tr>\n",
       "      <th>std</th>\n",
       "      <td>0.346708</td>\n",
       "      <td>303.704033</td>\n",
       "      <td>9677.954386</td>\n",
       "      <td>5050.591728</td>\n",
       "      <td>558.662742</td>\n",
       "      <td>1068.621966</td>\n",
       "      <td>2573.730103</td>\n",
       "      <td>1293.371007</td>\n",
       "      <td>285.832367</td>\n",
       "      <td>213.517902</td>\n",
       "      <td>...</td>\n",
       "      <td>1181.270671</td>\n",
       "      <td>467.196316</td>\n",
       "      <td>171.024443</td>\n",
       "      <td>4.461647</td>\n",
       "      <td>0.915575</td>\n",
       "      <td>16.935973</td>\n",
       "      <td>17.555634</td>\n",
       "      <td>0.0</td>\n",
       "      <td>17.555634</td>\n",
       "      <td>0.287771</td>\n",
       "    </tr>\n",
       "    <tr>\n",
       "      <th>min</th>\n",
       "      <td>0.000000</td>\n",
       "      <td>1.000000</td>\n",
       "      <td>0.000000</td>\n",
       "      <td>1.000000</td>\n",
       "      <td>0.000000</td>\n",
       "      <td>0.000000</td>\n",
       "      <td>0.000000</td>\n",
       "      <td>0.000000</td>\n",
       "      <td>0.000000</td>\n",
       "      <td>0.000000</td>\n",
       "      <td>...</td>\n",
       "      <td>0.000000</td>\n",
       "      <td>0.000000</td>\n",
       "      <td>0.000000</td>\n",
       "      <td>1.000000</td>\n",
       "      <td>1.000000</td>\n",
       "      <td>1946.000000</td>\n",
       "      <td>1946.000000</td>\n",
       "      <td>1.0</td>\n",
       "      <td>0.000000</td>\n",
       "      <td>0.000000</td>\n",
       "    </tr>\n",
       "    <tr>\n",
       "      <th>25%</th>\n",
       "      <td>1.000000</td>\n",
       "      <td>46.000000</td>\n",
       "      <td>390.500000</td>\n",
       "      <td>167.500000</td>\n",
       "      <td>65.500000</td>\n",
       "      <td>155.216484</td>\n",
       "      <td>82.214787</td>\n",
       "      <td>31.500000</td>\n",
       "      <td>35.958500</td>\n",
       "      <td>15.000000</td>\n",
       "      <td>...</td>\n",
       "      <td>33.000000</td>\n",
       "      <td>5.250818</td>\n",
       "      <td>0.005402</td>\n",
       "      <td>1.000000</td>\n",
       "      <td>1.000000</td>\n",
       "      <td>1963.000000</td>\n",
       "      <td>1968.000000</td>\n",
       "      <td>1.0</td>\n",
       "      <td>9.000000</td>\n",
       "      <td>0.000000</td>\n",
       "    </tr>\n",
       "    <tr>\n",
       "      <th>50%</th>\n",
       "      <td>1.000000</td>\n",
       "      <td>151.000000</td>\n",
       "      <td>2351.000000</td>\n",
       "      <td>1030.000000</td>\n",
       "      <td>224.253472</td>\n",
       "      <td>406.923748</td>\n",
       "      <td>439.000000</td>\n",
       "      <td>190.000000</td>\n",
       "      <td>109.771337</td>\n",
       "      <td>63.690873</td>\n",
       "      <td>...</td>\n",
       "      <td>217.000000</td>\n",
       "      <td>18.000000</td>\n",
       "      <td>1.000000</td>\n",
       "      <td>4.000000</td>\n",
       "      <td>2.000000</td>\n",
       "      <td>1974.000000</td>\n",
       "      <td>1979.000000</td>\n",
       "      <td>1.0</td>\n",
       "      <td>25.000000</td>\n",
       "      <td>0.000000</td>\n",
       "    </tr>\n",
       "    <tr>\n",
       "      <th>75%</th>\n",
       "      <td>1.000000</td>\n",
       "      <td>439.000000</td>\n",
       "      <td>10102.500000</td>\n",
       "      <td>4115.000000</td>\n",
       "      <td>368.500000</td>\n",
       "      <td>779.565659</td>\n",
       "      <td>1646.500000</td>\n",
       "      <td>881.500000</td>\n",
       "      <td>223.500000</td>\n",
       "      <td>117.864416</td>\n",
       "      <td>...</td>\n",
       "      <td>808.500000</td>\n",
       "      <td>83.000000</td>\n",
       "      <td>13.456567</td>\n",
       "      <td>9.000000</td>\n",
       "      <td>3.000000</td>\n",
       "      <td>1989.000000</td>\n",
       "      <td>1995.000000</td>\n",
       "      <td>1.0</td>\n",
       "      <td>36.000000</td>\n",
       "      <td>0.000000</td>\n",
       "    </tr>\n",
       "    <tr>\n",
       "      <th>max</th>\n",
       "      <td>1.000000</td>\n",
       "      <td>1611.000000</td>\n",
       "      <td>47859.000000</td>\n",
       "      <td>31419.000000</td>\n",
       "      <td>6731.000000</td>\n",
       "      <td>10117.000000</td>\n",
       "      <td>23924.000000</td>\n",
       "      <td>9887.000000</td>\n",
       "      <td>2207.000000</td>\n",
       "      <td>2361.000000</td>\n",
       "      <td>...</td>\n",
       "      <td>8531.000000</td>\n",
       "      <td>3434.000000</td>\n",
       "      <td>1301.000000</td>\n",
       "      <td>21.000000</td>\n",
       "      <td>3.000000</td>\n",
       "      <td>2004.000000</td>\n",
       "      <td>2004.000000</td>\n",
       "      <td>1.0</td>\n",
       "      <td>58.000000</td>\n",
       "      <td>1.000000</td>\n",
       "    </tr>\n",
       "  </tbody>\n",
       "</table>\n",
       "<p>8 rows × 25 columns</p>\n",
       "</div>"
      ],
      "text/plain": [
       "           league        games       minutes           pts       offReb  \\\n",
       "count  495.000000   495.000000    495.000000    495.000000   495.000000   \n",
       "mean     0.860606   279.462626   6968.961174   3296.739346   349.299886   \n",
       "std      0.346708   303.704033   9677.954386   5050.591728   558.662742   \n",
       "min      0.000000     1.000000      0.000000      1.000000     0.000000   \n",
       "25%      1.000000    46.000000    390.500000    167.500000    65.500000   \n",
       "50%      1.000000   151.000000   2351.000000   1030.000000   224.253472   \n",
       "75%      1.000000   439.000000  10102.500000   4115.000000   368.500000   \n",
       "max      1.000000  1611.000000  47859.000000  31419.000000  6731.000000   \n",
       "\n",
       "             defReb           reb         asts          stl          blk  ...  \\\n",
       "count    495.000000    495.000000   495.000000   495.000000   495.000000  ...   \n",
       "mean     726.157343   1412.212004   732.501785   205.520555   120.536442  ...   \n",
       "std     1068.621966   2573.730103  1293.371007   285.832367   213.517902  ...   \n",
       "min        0.000000      0.000000     0.000000     0.000000     0.000000  ...   \n",
       "25%      155.216484     82.214787    31.500000    35.958500    15.000000  ...   \n",
       "50%      406.923748    439.000000   190.000000   109.771337    63.690873  ...   \n",
       "75%      779.565659   1646.500000   881.500000   223.500000   117.864416  ...   \n",
       "max    10117.000000  23924.000000  9887.000000  2207.000000  2361.000000  ...   \n",
       "\n",
       "               ftm          tpa          tpm  totalSeasons    Position  \\\n",
       "count   495.000000   495.000000   495.000000    495.000000  495.000000   \n",
       "mean    727.448737   167.589611    53.580589      5.357576    1.957576   \n",
       "std    1181.270671   467.196316   171.024443      4.461647    0.915575   \n",
       "min       0.000000     0.000000     0.000000      1.000000    1.000000   \n",
       "25%      33.000000     5.250818     0.005402      1.000000    1.000000   \n",
       "50%     217.000000    18.000000     1.000000      4.000000    2.000000   \n",
       "75%     808.500000    83.000000    13.456567      9.000000    3.000000   \n",
       "max    8531.000000  3434.000000  1301.000000     21.000000    3.000000   \n",
       "\n",
       "       firstSeason   lastSeason  careerEnded  yrsRetired2004       class  \n",
       "count   495.000000   495.000000        495.0      495.000000  495.000000  \n",
       "mean   1974.947475  1979.305051          1.0       24.694949    0.090909  \n",
       "std      16.935973    17.555634          0.0       17.555634    0.287771  \n",
       "min    1946.000000  1946.000000          1.0        0.000000    0.000000  \n",
       "25%    1963.000000  1968.000000          1.0        9.000000    0.000000  \n",
       "50%    1974.000000  1979.000000          1.0       25.000000    0.000000  \n",
       "75%    1989.000000  1995.000000          1.0       36.000000    0.000000  \n",
       "max    2004.000000  2004.000000          1.0       58.000000    1.000000  \n",
       "\n",
       "[8 rows x 25 columns]"
      ]
     },
     "execution_count": 14,
     "metadata": {},
     "output_type": "execute_result"
    }
   ],
   "source": [
    "data.describe()"
   ]
  },
  {
   "cell_type": "markdown",
   "metadata": {},
   "source": [
    " "
   ]
  },
  {
   "cell_type": "code",
   "execution_count": 15,
   "metadata": {
    "scrolled": false
   },
   "outputs": [
    {
     "data": {
      "image/png": "[encoded data removed]",
      "text/plain": [
       "<Figure size 432x288 with 1 Axes>"
      ]
     },
     "metadata": {},
     "output_type": "display_data"
    }
   ],
   "source": [
    "sns.countplot(x=\"class\", data=data)\n",
    "plt.show()"
   ]
  },
  {
   "cell_type": "markdown",
   "metadata": {},
   "source": [
    "Target class is heavily unbalanced."
   ]
  },
  {
   "cell_type": "code",
   "execution_count": 16,
   "metadata": {},
   "outputs": [],
   "source": [
    "pd.set_option('mode.chained_assignment',None) #to avoid display of chained assignment warning\n",
    "training_data, test_data = train_test_split(data, test_size=0.30, stratify=data['class'])\n",
    "training_data_not_balanced = training_data\n"
   ]
  },
  {
   "cell_type": "code",
   "execution_count": 17,
   "metadata": {
    "scrolled": true
   },
   "outputs": [
    {
     "data": {
      "text/html": [
       "<div>\n",
       "<style scoped>\n",
       "    .dataframe tbody tr th:only-of-type {\n",
       "        vertical-align: middle;\n",
       "    }\n",
       "\n",
       "    .dataframe tbody tr th {\n",
       "        vertical-align: top;\n",
       "    }\n",
       "\n",
       "    .dataframe thead th {\n",
       "        text-align: right;\n",
       "    }\n",
       "</style>\n",
       "<table border=\"1\" class=\"dataframe\">\n",
       "  <thead>\n",
       "    <tr style=\"text-align: right;\">\n",
       "      <th></th>\n",
       "      <th>league</th>\n",
       "      <th>games</th>\n",
       "      <th>minutes</th>\n",
       "      <th>pts</th>\n",
       "      <th>offReb</th>\n",
       "      <th>defReb</th>\n",
       "      <th>reb</th>\n",
       "      <th>asts</th>\n",
       "      <th>stl</th>\n",
       "      <th>blk</th>\n",
       "      <th>...</th>\n",
       "      <th>ftm</th>\n",
       "      <th>tpa</th>\n",
       "      <th>tpm</th>\n",
       "      <th>totalSeasons</th>\n",
       "      <th>Position</th>\n",
       "      <th>firstSeason</th>\n",
       "      <th>lastSeason</th>\n",
       "      <th>careerEnded</th>\n",
       "      <th>yrsRetired2004</th>\n",
       "      <th>class</th>\n",
       "    </tr>\n",
       "  </thead>\n",
       "  <tbody>\n",
       "    <tr>\n",
       "      <th>0</th>\n",
       "      <td>0.0</td>\n",
       "      <td>58.000000</td>\n",
       "      <td>1137.000000</td>\n",
       "      <td>358.000000</td>\n",
       "      <td>106.171079</td>\n",
       "      <td>221.106329</td>\n",
       "      <td>140.000000</td>\n",
       "      <td>101.000000</td>\n",
       "      <td>56.648372</td>\n",
       "      <td>28.293308</td>\n",
       "      <td>...</td>\n",
       "      <td>137.000000</td>\n",
       "      <td>18.000000</td>\n",
       "      <td>1.000000</td>\n",
       "      <td>2.000000</td>\n",
       "      <td>1.0</td>\n",
       "      <td>1967.000000</td>\n",
       "      <td>1968.000000</td>\n",
       "      <td>1.0</td>\n",
       "      <td>36.000000</td>\n",
       "      <td>0.0</td>\n",
       "    </tr>\n",
       "    <tr>\n",
       "      <th>1</th>\n",
       "      <td>1.0</td>\n",
       "      <td>493.000000</td>\n",
       "      <td>11338.000000</td>\n",
       "      <td>3625.000000</td>\n",
       "      <td>940.000000</td>\n",
       "      <td>1953.000000</td>\n",
       "      <td>2893.000000</td>\n",
       "      <td>1061.000000</td>\n",
       "      <td>455.000000</td>\n",
       "      <td>758.000000</td>\n",
       "      <td>...</td>\n",
       "      <td>548.000000</td>\n",
       "      <td>42.000000</td>\n",
       "      <td>5.000000</td>\n",
       "      <td>12.000000</td>\n",
       "      <td>2.0</td>\n",
       "      <td>1992.000000</td>\n",
       "      <td>2003.000000</td>\n",
       "      <td>1.0</td>\n",
       "      <td>1.000000</td>\n",
       "      <td>0.0</td>\n",
       "    </tr>\n",
       "    <tr>\n",
       "      <th>2</th>\n",
       "      <td>1.0</td>\n",
       "      <td>83.000000</td>\n",
       "      <td>1117.000000</td>\n",
       "      <td>258.000000</td>\n",
       "      <td>99.000000</td>\n",
       "      <td>179.000000</td>\n",
       "      <td>278.000000</td>\n",
       "      <td>64.000000</td>\n",
       "      <td>14.000000</td>\n",
       "      <td>46.000000</td>\n",
       "      <td>...</td>\n",
       "      <td>66.000000</td>\n",
       "      <td>1.000000</td>\n",
       "      <td>0.000000</td>\n",
       "      <td>2.000000</td>\n",
       "      <td>2.0</td>\n",
       "      <td>2003.000000</td>\n",
       "      <td>2004.000000</td>\n",
       "      <td>1.0</td>\n",
       "      <td>0.000000</td>\n",
       "      <td>0.0</td>\n",
       "    </tr>\n",
       "    <tr>\n",
       "      <th>3</th>\n",
       "      <td>1.0</td>\n",
       "      <td>681.000000</td>\n",
       "      <td>12499.000000</td>\n",
       "      <td>4599.000000</td>\n",
       "      <td>1061.000000</td>\n",
       "      <td>1925.000000</td>\n",
       "      <td>2986.000000</td>\n",
       "      <td>616.000000</td>\n",
       "      <td>305.000000</td>\n",
       "      <td>750.000000</td>\n",
       "      <td>...</td>\n",
       "      <td>803.000000</td>\n",
       "      <td>4.000000</td>\n",
       "      <td>0.858570</td>\n",
       "      <td>11.000000</td>\n",
       "      <td>2.0</td>\n",
       "      <td>1983.000000</td>\n",
       "      <td>1993.000000</td>\n",
       "      <td>1.0</td>\n",
       "      <td>11.000000</td>\n",
       "      <td>0.0</td>\n",
       "    </tr>\n",
       "    <tr>\n",
       "      <th>4</th>\n",
       "      <td>1.0</td>\n",
       "      <td>186.000000</td>\n",
       "      <td>737.000000</td>\n",
       "      <td>1084.000000</td>\n",
       "      <td>165.904678</td>\n",
       "      <td>385.208388</td>\n",
       "      <td>510.000000</td>\n",
       "      <td>327.000000</td>\n",
       "      <td>101.596523</td>\n",
       "      <td>90.336316</td>\n",
       "      <td>...</td>\n",
       "      <td>216.000000</td>\n",
       "      <td>44.675424</td>\n",
       "      <td>0.557814</td>\n",
       "      <td>3.000000</td>\n",
       "      <td>3.0</td>\n",
       "      <td>1949.000000</td>\n",
       "      <td>1951.000000</td>\n",
       "      <td>1.0</td>\n",
       "      <td>53.000000</td>\n",
       "      <td>0.0</td>\n",
       "    </tr>\n",
       "    <tr>\n",
       "      <th>...</th>\n",
       "      <td>...</td>\n",
       "      <td>...</td>\n",
       "      <td>...</td>\n",
       "      <td>...</td>\n",
       "      <td>...</td>\n",
       "      <td>...</td>\n",
       "      <td>...</td>\n",
       "      <td>...</td>\n",
       "      <td>...</td>\n",
       "      <td>...</td>\n",
       "      <td>...</td>\n",
       "      <td>...</td>\n",
       "      <td>...</td>\n",
       "      <td>...</td>\n",
       "      <td>...</td>\n",
       "      <td>...</td>\n",
       "      <td>...</td>\n",
       "      <td>...</td>\n",
       "      <td>...</td>\n",
       "      <td>...</td>\n",
       "      <td>...</td>\n",
       "    </tr>\n",
       "    <tr>\n",
       "      <th>625</th>\n",
       "      <td>1.0</td>\n",
       "      <td>742.014944</td>\n",
       "      <td>21929.647571</td>\n",
       "      <td>7370.915317</td>\n",
       "      <td>177.486243</td>\n",
       "      <td>679.736660</td>\n",
       "      <td>2512.541715</td>\n",
       "      <td>3147.424658</td>\n",
       "      <td>458.503533</td>\n",
       "      <td>11.855151</td>\n",
       "      <td>...</td>\n",
       "      <td>2064.743462</td>\n",
       "      <td>129.814392</td>\n",
       "      <td>0.591060</td>\n",
       "      <td>11.000000</td>\n",
       "      <td>1.0</td>\n",
       "      <td>1949.381071</td>\n",
       "      <td>1959.381071</td>\n",
       "      <td>1.0</td>\n",
       "      <td>44.618929</td>\n",
       "      <td>1.0</td>\n",
       "    </tr>\n",
       "    <tr>\n",
       "      <th>626</th>\n",
       "      <td>1.0</td>\n",
       "      <td>867.972833</td>\n",
       "      <td>30907.027960</td>\n",
       "      <td>16461.373945</td>\n",
       "      <td>347.019393</td>\n",
       "      <td>1029.949678</td>\n",
       "      <td>2071.812129</td>\n",
       "      <td>6368.737900</td>\n",
       "      <td>714.139513</td>\n",
       "      <td>81.994190</td>\n",
       "      <td>...</td>\n",
       "      <td>4623.495946</td>\n",
       "      <td>82.422469</td>\n",
       "      <td>18.668603</td>\n",
       "      <td>13.852713</td>\n",
       "      <td>1.0</td>\n",
       "      <td>1970.000000</td>\n",
       "      <td>1982.852713</td>\n",
       "      <td>1.0</td>\n",
       "      <td>21.147287</td>\n",
       "      <td>1.0</td>\n",
       "    </tr>\n",
       "    <tr>\n",
       "      <th>627</th>\n",
       "      <td>1.0</td>\n",
       "      <td>706.889493</td>\n",
       "      <td>16249.511146</td>\n",
       "      <td>6511.561069</td>\n",
       "      <td>23.076029</td>\n",
       "      <td>359.395519</td>\n",
       "      <td>2382.551753</td>\n",
       "      <td>3678.822581</td>\n",
       "      <td>405.627189</td>\n",
       "      <td>0.000000</td>\n",
       "      <td>...</td>\n",
       "      <td>1782.840460</td>\n",
       "      <td>144.648481</td>\n",
       "      <td>3.289002</td>\n",
       "      <td>11.000000</td>\n",
       "      <td>1.0</td>\n",
       "      <td>1947.267704</td>\n",
       "      <td>1957.267704</td>\n",
       "      <td>1.0</td>\n",
       "      <td>46.732296</td>\n",
       "      <td>1.0</td>\n",
       "    </tr>\n",
       "    <tr>\n",
       "      <th>628</th>\n",
       "      <td>1.0</td>\n",
       "      <td>900.658201</td>\n",
       "      <td>32746.988137</td>\n",
       "      <td>18301.761553</td>\n",
       "      <td>416.988275</td>\n",
       "      <td>744.746118</td>\n",
       "      <td>3401.214720</td>\n",
       "      <td>5411.752050</td>\n",
       "      <td>486.226584</td>\n",
       "      <td>88.890624</td>\n",
       "      <td>...</td>\n",
       "      <td>4406.568383</td>\n",
       "      <td>134.500707</td>\n",
       "      <td>2.392574</td>\n",
       "      <td>12.027344</td>\n",
       "      <td>1.0</td>\n",
       "      <td>1966.054688</td>\n",
       "      <td>1977.082032</td>\n",
       "      <td>1.0</td>\n",
       "      <td>26.917968</td>\n",
       "      <td>1.0</td>\n",
       "    </tr>\n",
       "    <tr>\n",
       "      <th>629</th>\n",
       "      <td>1.0</td>\n",
       "      <td>670.584963</td>\n",
       "      <td>24817.062392</td>\n",
       "      <td>15920.343225</td>\n",
       "      <td>424.266742</td>\n",
       "      <td>1428.686624</td>\n",
       "      <td>2903.972923</td>\n",
       "      <td>3674.305332</td>\n",
       "      <td>594.083752</td>\n",
       "      <td>104.307406</td>\n",
       "      <td>...</td>\n",
       "      <td>3545.687748</td>\n",
       "      <td>13.944973</td>\n",
       "      <td>9.489418</td>\n",
       "      <td>10.226077</td>\n",
       "      <td>1.0</td>\n",
       "      <td>1969.773923</td>\n",
       "      <td>1979.000000</td>\n",
       "      <td>1.0</td>\n",
       "      <td>25.000000</td>\n",
       "      <td>1.0</td>\n",
       "    </tr>\n",
       "  </tbody>\n",
       "</table>\n",
       "<p>630 rows × 25 columns</p>\n",
       "</div>"
      ],
      "text/plain": [
       "     league       games       minutes           pts       offReb       defReb  \\\n",
       "0       0.0   58.000000   1137.000000    358.000000   106.171079   221.106329   \n",
       "1       1.0  493.000000  11338.000000   3625.000000   940.000000  1953.000000   \n",
       "2       1.0   83.000000   1117.000000    258.000000    99.000000   179.000000   \n",
       "3       1.0  681.000000  12499.000000   4599.000000  1061.000000  1925.000000   \n",
       "4       1.0  186.000000    737.000000   1084.000000   165.904678   385.208388   \n",
       "..      ...         ...           ...           ...          ...          ...   \n",
       "625     1.0  742.014944  21929.647571   7370.915317   177.486243   679.736660   \n",
       "626     1.0  867.972833  30907.027960  16461.373945   347.019393  1029.949678   \n",
       "627     1.0  706.889493  16249.511146   6511.561069    23.076029   359.395519   \n",
       "628     1.0  900.658201  32746.988137  18301.761553   416.988275   744.746118   \n",
       "629     1.0  670.584963  24817.062392  15920.343225   424.266742  1428.686624   \n",
       "\n",
       "             reb         asts         stl         blk  ...          ftm  \\\n",
       "0     140.000000   101.000000   56.648372   28.293308  ...   137.000000   \n",
       "1    2893.000000  1061.000000  455.000000  758.000000  ...   548.000000   \n",
       "2     278.000000    64.000000   14.000000   46.000000  ...    66.000000   \n",
       "3    2986.000000   616.000000  305.000000  750.000000  ...   803.000000   \n",
       "4     510.000000   327.000000  101.596523   90.336316  ...   216.000000   \n",
       "..           ...          ...         ...         ...  ...          ...   \n",
       "625  2512.541715  3147.424658  458.503533   11.855151  ...  2064.743462   \n",
       "626  2071.812129  6368.737900  714.139513   81.994190  ...  4623.495946   \n",
       "627  2382.551753  3678.822581  405.627189    0.000000  ...  1782.840460   \n",
       "628  3401.214720  5411.752050  486.226584   88.890624  ...  4406.568383   \n",
       "629  2903.972923  3674.305332  594.083752  104.307406  ...  3545.687748   \n",
       "\n",
       "            tpa        tpm  totalSeasons  Position  firstSeason   lastSeason  \\\n",
       "0     18.000000   1.000000      2.000000       1.0  1967.000000  1968.000000   \n",
       "1     42.000000   5.000000     12.000000       2.0  1992.000000  2003.000000   \n",
       "2      1.000000   0.000000      2.000000       2.0  2003.000000  2004.000000   \n",
       "3      4.000000   0.858570     11.000000       2.0  1983.000000  1993.000000   \n",
       "4     44.675424   0.557814      3.000000       3.0  1949.000000  1951.000000   \n",
       "..          ...        ...           ...       ...          ...          ...   \n",
       "625  129.814392   0.591060     11.000000       1.0  1949.381071  1959.381071   \n",
       "626   82.422469  18.668603     13.852713       1.0  1970.000000  1982.852713   \n",
       "627  144.648481   3.289002     11.000000       1.0  1947.267704  1957.267704   \n",
       "628  134.500707   2.392574     12.027344       1.0  1966.054688  1977.082032   \n",
       "629   13.944973   9.489418     10.226077       1.0  1969.773923  1979.000000   \n",
       "\n",
       "     careerEnded  yrsRetired2004  class  \n",
       "0            1.0       36.000000    0.0  \n",
       "1            1.0        1.000000    0.0  \n",
       "2            1.0        0.000000    0.0  \n",
       "3            1.0       11.000000    0.0  \n",
       "4            1.0       53.000000    0.0  \n",
       "..           ...             ...    ...  \n",
       "625          1.0       44.618929    1.0  \n",
       "626          1.0       21.147287    1.0  \n",
       "627          1.0       46.732296    1.0  \n",
       "628          1.0       26.917968    1.0  \n",
       "629          1.0       25.000000    1.0  \n",
       "\n",
       "[630 rows x 25 columns]"
      ]
     },
     "execution_count": 17,
     "metadata": {},
     "output_type": "execute_result"
    }
   ],
   "source": [
    "sm = SMOTE(random_state=42)\n",
    "sm.fit_resample(training_data, training_data['class'])\n",
    "pd.DataFrame(sm.fit_resample(training_data, training_data['class'])[0])"
   ]
  },
  {
   "cell_type": "code",
   "execution_count": 18,
   "metadata": {
    "scrolled": true
   },
   "outputs": [
    {
     "data": {
      "image/png": "[encoded data removed]",
      "text/plain": [
       "<Figure size 432x288 with 1 Axes>"
      ]
     },
     "metadata": {},
     "output_type": "display_data"
    }
   ],
   "source": [
    "training_data = pd.DataFrame(sm.fit_resample(training_data, training_data['class'])[0])\n",
    "sns.countplot(x=\"class\", data=training_data)\n",
    "plt.show()"
   ]
  },
  {
   "cell_type": "code",
   "execution_count": 19,
   "metadata": {},
   "outputs": [],
   "source": [
    "training_data.to_csv(r'C:/Users/frame/OneDrive/Desktop/Weka projects/NBA_data_fixed.csv', index=False)"
   ]
  },
  {
   "cell_type": "code",
   "execution_count": 20,
   "metadata": {
    "scrolled": true
   },
   "outputs": [
    {
     "data": {
      "image/png": "[encoded data removed]",
      "text/plain": [
       "<Figure size 800x800 with 1 Axes>"
      ]
     },
     "metadata": {},
     "output_type": "display_data"
    }
   ],
   "source": [
    "plt.figure(figsize=(10,10), dpi=80)\n",
    "sns.boxplot(data=training_data, orient=\"h\")\n",
    "plt.show()"
   ]
  },
  {
   "cell_type": "markdown",
   "metadata": {},
   "source": [
    "Boxplot graph is useful to show outliers."
   ]
  },
  {
   "cell_type": "code",
   "execution_count": 21,
   "metadata": {
    "scrolled": true
   },
   "outputs": [
    {
     "data": {
      "image/png": "[encoded data removed]",
      "text/plain": [
       "<Figure size 1080x1080 with 25 Axes>"
      ]
     },
     "metadata": {},
     "output_type": "display_data"
    }
   ],
   "source": [
    "training_data.hist(bins=50,figsize=(15,15), color='#58A4B0', )\n",
    "plt.show()"
   ]
  },
  {
   "cell_type": "markdown",
   "metadata": {},
   "source": [
    "Data is definetly not standardized."
   ]
  },
  {
   "cell_type": "code",
   "execution_count": 22,
   "metadata": {},
   "outputs": [
    {
     "data": {
      "text/plain": [
       "class             1.000000\n",
       "ftm               0.795889\n",
       "fta               0.773841\n",
       "pf                0.759333\n",
       "fga               0.749537\n",
       "pts               0.739905\n",
       "fgm               0.719708\n",
       "totalSeasons      0.717763\n",
       "minutes           0.710421\n",
       "games             0.694698\n",
       "asts              0.659781\n",
       "reb               0.582386\n",
       "defReb            0.372980\n",
       "offReb            0.329328\n",
       "blk               0.322206\n",
       "stl               0.278659\n",
       "yrsRetired2004    0.253121\n",
       "turnover          0.129793\n",
       "league            0.098849\n",
       "tpa               0.029439\n",
       "Position         -0.004109\n",
       "tpm              -0.037946\n",
       "lastSeason       -0.253121\n",
       "firstSeason      -0.479002\n",
       "careerEnded            NaN\n",
       "Name: class, dtype: float64"
      ]
     },
     "execution_count": 22,
     "metadata": {},
     "output_type": "execute_result"
    }
   ],
   "source": [
    "corr_matrix = training_data.corr()\n",
    "corr_matrix[\"class\"].sort_values(ascending=False)"
   ]
  },
  {
   "cell_type": "code",
   "execution_count": 23,
   "metadata": {
    "scrolled": true
   },
   "outputs": [
    {
     "data": {
      "image/png": "[encoded data removed]",
      "text/plain": [
       "<Figure size 910x910 with 2 Axes>"
      ]
     },
     "metadata": {},
     "output_type": "display_data"
    }
   ],
   "source": [
    "plt.figure(figsize=(13,13), dpi=70)\n",
    "sns.heatmap(corr_matrix, cmap=\"viridis\", annot=False)\n",
    "plt.show()"
   ]
  },
  {
   "cell_type": "markdown",
   "metadata": {},
   "source": [
    "I start dividing the sample data into features and targets:"
   ]
  },
  {
   "cell_type": "code",
   "execution_count": 24,
   "metadata": {},
   "outputs": [
    {
     "data": {
      "text/html": [
       "<div>\n",
       "<style scoped>\n",
       "    .dataframe tbody tr th:only-of-type {\n",
       "        vertical-align: middle;\n",
       "    }\n",
       "\n",
       "    .dataframe tbody tr th {\n",
       "        vertical-align: top;\n",
       "    }\n",
       "\n",
       "    .dataframe thead th {\n",
       "        text-align: right;\n",
       "    }\n",
       "</style>\n",
       "<table border=\"1\" class=\"dataframe\">\n",
       "  <thead>\n",
       "    <tr style=\"text-align: right;\">\n",
       "      <th></th>\n",
       "      <th>league</th>\n",
       "      <th>games</th>\n",
       "      <th>minutes</th>\n",
       "      <th>pts</th>\n",
       "      <th>offReb</th>\n",
       "      <th>defReb</th>\n",
       "      <th>reb</th>\n",
       "      <th>asts</th>\n",
       "      <th>stl</th>\n",
       "      <th>blk</th>\n",
       "      <th>...</th>\n",
       "      <th>fta</th>\n",
       "      <th>ftm</th>\n",
       "      <th>tpa</th>\n",
       "      <th>tpm</th>\n",
       "      <th>totalSeasons</th>\n",
       "      <th>Position</th>\n",
       "      <th>firstSeason</th>\n",
       "      <th>lastSeason</th>\n",
       "      <th>careerEnded</th>\n",
       "      <th>yrsRetired2004</th>\n",
       "    </tr>\n",
       "  </thead>\n",
       "  <tbody>\n",
       "    <tr>\n",
       "      <th>0</th>\n",
       "      <td>0.0</td>\n",
       "      <td>58.0</td>\n",
       "      <td>1137.0</td>\n",
       "      <td>358.0</td>\n",
       "      <td>106.171079</td>\n",
       "      <td>221.106329</td>\n",
       "      <td>140.0</td>\n",
       "      <td>101.0</td>\n",
       "      <td>56.648372</td>\n",
       "      <td>28.293308</td>\n",
       "      <td>...</td>\n",
       "      <td>203.0</td>\n",
       "      <td>137.0</td>\n",
       "      <td>18.000000</td>\n",
       "      <td>1.000000</td>\n",
       "      <td>2.0</td>\n",
       "      <td>1.0</td>\n",
       "      <td>1967.0</td>\n",
       "      <td>1968.0</td>\n",
       "      <td>1.0</td>\n",
       "      <td>36.0</td>\n",
       "    </tr>\n",
       "    <tr>\n",
       "      <th>1</th>\n",
       "      <td>1.0</td>\n",
       "      <td>493.0</td>\n",
       "      <td>11338.0</td>\n",
       "      <td>3625.0</td>\n",
       "      <td>940.000000</td>\n",
       "      <td>1953.000000</td>\n",
       "      <td>2893.0</td>\n",
       "      <td>1061.0</td>\n",
       "      <td>455.000000</td>\n",
       "      <td>758.000000</td>\n",
       "      <td>...</td>\n",
       "      <td>857.0</td>\n",
       "      <td>548.0</td>\n",
       "      <td>42.000000</td>\n",
       "      <td>5.000000</td>\n",
       "      <td>12.0</td>\n",
       "      <td>2.0</td>\n",
       "      <td>1992.0</td>\n",
       "      <td>2003.0</td>\n",
       "      <td>1.0</td>\n",
       "      <td>1.0</td>\n",
       "    </tr>\n",
       "    <tr>\n",
       "      <th>2</th>\n",
       "      <td>1.0</td>\n",
       "      <td>83.0</td>\n",
       "      <td>1117.0</td>\n",
       "      <td>258.0</td>\n",
       "      <td>99.000000</td>\n",
       "      <td>179.000000</td>\n",
       "      <td>278.0</td>\n",
       "      <td>64.0</td>\n",
       "      <td>14.000000</td>\n",
       "      <td>46.000000</td>\n",
       "      <td>...</td>\n",
       "      <td>89.0</td>\n",
       "      <td>66.0</td>\n",
       "      <td>1.000000</td>\n",
       "      <td>0.000000</td>\n",
       "      <td>2.0</td>\n",
       "      <td>2.0</td>\n",
       "      <td>2003.0</td>\n",
       "      <td>2004.0</td>\n",
       "      <td>1.0</td>\n",
       "      <td>0.0</td>\n",
       "    </tr>\n",
       "    <tr>\n",
       "      <th>3</th>\n",
       "      <td>1.0</td>\n",
       "      <td>681.0</td>\n",
       "      <td>12499.0</td>\n",
       "      <td>4599.0</td>\n",
       "      <td>1061.000000</td>\n",
       "      <td>1925.000000</td>\n",
       "      <td>2986.0</td>\n",
       "      <td>616.0</td>\n",
       "      <td>305.000000</td>\n",
       "      <td>750.000000</td>\n",
       "      <td>...</td>\n",
       "      <td>1278.0</td>\n",
       "      <td>803.0</td>\n",
       "      <td>4.000000</td>\n",
       "      <td>0.858570</td>\n",
       "      <td>11.0</td>\n",
       "      <td>2.0</td>\n",
       "      <td>1983.0</td>\n",
       "      <td>1993.0</td>\n",
       "      <td>1.0</td>\n",
       "      <td>11.0</td>\n",
       "    </tr>\n",
       "    <tr>\n",
       "      <th>4</th>\n",
       "      <td>1.0</td>\n",
       "      <td>186.0</td>\n",
       "      <td>737.0</td>\n",
       "      <td>1084.0</td>\n",
       "      <td>165.904678</td>\n",
       "      <td>385.208388</td>\n",
       "      <td>510.0</td>\n",
       "      <td>327.0</td>\n",
       "      <td>101.596523</td>\n",
       "      <td>90.336316</td>\n",
       "      <td>...</td>\n",
       "      <td>348.0</td>\n",
       "      <td>216.0</td>\n",
       "      <td>44.675424</td>\n",
       "      <td>0.557814</td>\n",
       "      <td>3.0</td>\n",
       "      <td>3.0</td>\n",
       "      <td>1949.0</td>\n",
       "      <td>1951.0</td>\n",
       "      <td>1.0</td>\n",
       "      <td>53.0</td>\n",
       "    </tr>\n",
       "  </tbody>\n",
       "</table>\n",
       "<p>5 rows × 24 columns</p>\n",
       "</div>"
      ],
      "text/plain": [
       "   league  games  minutes     pts       offReb       defReb     reb    asts  \\\n",
       "0     0.0   58.0   1137.0   358.0   106.171079   221.106329   140.0   101.0   \n",
       "1     1.0  493.0  11338.0  3625.0   940.000000  1953.000000  2893.0  1061.0   \n",
       "2     1.0   83.0   1117.0   258.0    99.000000   179.000000   278.0    64.0   \n",
       "3     1.0  681.0  12499.0  4599.0  1061.000000  1925.000000  2986.0   616.0   \n",
       "4     1.0  186.0    737.0  1084.0   165.904678   385.208388   510.0   327.0   \n",
       "\n",
       "          stl         blk  ...     fta    ftm        tpa       tpm  \\\n",
       "0   56.648372   28.293308  ...   203.0  137.0  18.000000  1.000000   \n",
       "1  455.000000  758.000000  ...   857.0  548.0  42.000000  5.000000   \n",
       "2   14.000000   46.000000  ...    89.0   66.0   1.000000  0.000000   \n",
       "3  305.000000  750.000000  ...  1278.0  803.0   4.000000  0.858570   \n",
       "4  101.596523   90.336316  ...   348.0  216.0  44.675424  0.557814   \n",
       "\n",
       "   totalSeasons  Position  firstSeason  lastSeason  careerEnded  \\\n",
       "0           2.0       1.0       1967.0      1968.0          1.0   \n",
       "1          12.0       2.0       1992.0      2003.0          1.0   \n",
       "2           2.0       2.0       2003.0      2004.0          1.0   \n",
       "3          11.0       2.0       1983.0      1993.0          1.0   \n",
       "4           3.0       3.0       1949.0      1951.0          1.0   \n",
       "\n",
       "   yrsRetired2004  \n",
       "0            36.0  \n",
       "1             1.0  \n",
       "2             0.0  \n",
       "3            11.0  \n",
       "4            53.0  \n",
       "\n",
       "[5 rows x 24 columns]"
      ]
     },
     "execution_count": 24,
     "metadata": {},
     "output_type": "execute_result"
    }
   ],
   "source": [
    "df = training_data.iloc[:, :-1]\n",
    "df.head()"
   ]
  },
  {
   "cell_type": "code",
   "execution_count": 25,
   "metadata": {
    "scrolled": true
   },
   "outputs": [
    {
     "data": {
      "text/plain": [
       "0    0.0\n",
       "1    0.0\n",
       "2    0.0\n",
       "3    0.0\n",
       "4    0.0\n",
       "Name: class, dtype: float64"
      ]
     },
     "execution_count": 25,
     "metadata": {},
     "output_type": "execute_result"
    }
   ],
   "source": [
    "targets = training_data.iloc[:,-1]\n",
    "targets.head()"
   ]
  },
  {
   "cell_type": "markdown",
   "metadata": {},
   "source": [
    "# Data preparation\n"
   ]
  },
  {
   "cell_type": "code",
   "execution_count": 26,
   "metadata": {},
   "outputs": [],
   "source": [
    "training_targets = training_data.iloc[:, -1] \n",
    "test_targets =  test_data.iloc[:, -1]\n",
    "\n",
    "training_data.drop(columns=[\"class\"], inplace=True)\n",
    "test_data.drop(columns=[\"class\"], inplace=True)"
   ]
  },
  {
   "cell_type": "markdown",
   "metadata": {},
   "source": [
    "I split the data set into training (80%) and test data (20%) "
   ]
  },
  {
   "cell_type": "code",
   "execution_count": 27,
   "metadata": {},
   "outputs": [
    {
     "data": {
      "text/html": [
       "<div>\n",
       "<style scoped>\n",
       "    .dataframe tbody tr th:only-of-type {\n",
       "        vertical-align: middle;\n",
       "    }\n",
       "\n",
       "    .dataframe tbody tr th {\n",
       "        vertical-align: top;\n",
       "    }\n",
       "\n",
       "    .dataframe thead th {\n",
       "        text-align: right;\n",
       "    }\n",
       "</style>\n",
       "<table border=\"1\" class=\"dataframe\">\n",
       "  <thead>\n",
       "    <tr style=\"text-align: right;\">\n",
       "      <th></th>\n",
       "      <th>league</th>\n",
       "      <th>games</th>\n",
       "      <th>minutes</th>\n",
       "      <th>pts</th>\n",
       "      <th>offReb</th>\n",
       "      <th>defReb</th>\n",
       "      <th>reb</th>\n",
       "      <th>asts</th>\n",
       "      <th>stl</th>\n",
       "      <th>blk</th>\n",
       "      <th>...</th>\n",
       "      <th>fta</th>\n",
       "      <th>ftm</th>\n",
       "      <th>tpa</th>\n",
       "      <th>tpm</th>\n",
       "      <th>totalSeasons</th>\n",
       "      <th>Position</th>\n",
       "      <th>firstSeason</th>\n",
       "      <th>lastSeason</th>\n",
       "      <th>careerEnded</th>\n",
       "      <th>yrsRetired2004</th>\n",
       "    </tr>\n",
       "  </thead>\n",
       "  <tbody>\n",
       "    <tr>\n",
       "      <th>0</th>\n",
       "      <td>0.0</td>\n",
       "      <td>58.000000</td>\n",
       "      <td>1137.000000</td>\n",
       "      <td>358.000000</td>\n",
       "      <td>106.171079</td>\n",
       "      <td>221.106329</td>\n",
       "      <td>140.000000</td>\n",
       "      <td>101.000000</td>\n",
       "      <td>56.648372</td>\n",
       "      <td>28.293308</td>\n",
       "      <td>...</td>\n",
       "      <td>203.000000</td>\n",
       "      <td>137.000000</td>\n",
       "      <td>18.000000</td>\n",
       "      <td>1.000000</td>\n",
       "      <td>2.000000</td>\n",
       "      <td>1.0</td>\n",
       "      <td>1967.000000</td>\n",
       "      <td>1968.000000</td>\n",
       "      <td>1.0</td>\n",
       "      <td>36.000000</td>\n",
       "    </tr>\n",
       "    <tr>\n",
       "      <th>1</th>\n",
       "      <td>1.0</td>\n",
       "      <td>493.000000</td>\n",
       "      <td>11338.000000</td>\n",
       "      <td>3625.000000</td>\n",
       "      <td>940.000000</td>\n",
       "      <td>1953.000000</td>\n",
       "      <td>2893.000000</td>\n",
       "      <td>1061.000000</td>\n",
       "      <td>455.000000</td>\n",
       "      <td>758.000000</td>\n",
       "      <td>...</td>\n",
       "      <td>857.000000</td>\n",
       "      <td>548.000000</td>\n",
       "      <td>42.000000</td>\n",
       "      <td>5.000000</td>\n",
       "      <td>12.000000</td>\n",
       "      <td>2.0</td>\n",
       "      <td>1992.000000</td>\n",
       "      <td>2003.000000</td>\n",
       "      <td>1.0</td>\n",
       "      <td>1.000000</td>\n",
       "    </tr>\n",
       "    <tr>\n",
       "      <th>2</th>\n",
       "      <td>1.0</td>\n",
       "      <td>83.000000</td>\n",
       "      <td>1117.000000</td>\n",
       "      <td>258.000000</td>\n",
       "      <td>99.000000</td>\n",
       "      <td>179.000000</td>\n",
       "      <td>278.000000</td>\n",
       "      <td>64.000000</td>\n",
       "      <td>14.000000</td>\n",
       "      <td>46.000000</td>\n",
       "      <td>...</td>\n",
       "      <td>89.000000</td>\n",
       "      <td>66.000000</td>\n",
       "      <td>1.000000</td>\n",
       "      <td>0.000000</td>\n",
       "      <td>2.000000</td>\n",
       "      <td>2.0</td>\n",
       "      <td>2003.000000</td>\n",
       "      <td>2004.000000</td>\n",
       "      <td>1.0</td>\n",
       "      <td>0.000000</td>\n",
       "    </tr>\n",
       "    <tr>\n",
       "      <th>3</th>\n",
       "      <td>1.0</td>\n",
       "      <td>681.000000</td>\n",
       "      <td>12499.000000</td>\n",
       "      <td>4599.000000</td>\n",
       "      <td>1061.000000</td>\n",
       "      <td>1925.000000</td>\n",
       "      <td>2986.000000</td>\n",
       "      <td>616.000000</td>\n",
       "      <td>305.000000</td>\n",
       "      <td>750.000000</td>\n",
       "      <td>...</td>\n",
       "      <td>1278.000000</td>\n",
       "      <td>803.000000</td>\n",
       "      <td>4.000000</td>\n",
       "      <td>0.858570</td>\n",
       "      <td>11.000000</td>\n",
       "      <td>2.0</td>\n",
       "      <td>1983.000000</td>\n",
       "      <td>1993.000000</td>\n",
       "      <td>1.0</td>\n",
       "      <td>11.000000</td>\n",
       "    </tr>\n",
       "    <tr>\n",
       "      <th>4</th>\n",
       "      <td>1.0</td>\n",
       "      <td>186.000000</td>\n",
       "      <td>737.000000</td>\n",
       "      <td>1084.000000</td>\n",
       "      <td>165.904678</td>\n",
       "      <td>385.208388</td>\n",
       "      <td>510.000000</td>\n",
       "      <td>327.000000</td>\n",
       "      <td>101.596523</td>\n",
       "      <td>90.336316</td>\n",
       "      <td>...</td>\n",
       "      <td>348.000000</td>\n",
       "      <td>216.000000</td>\n",
       "      <td>44.675424</td>\n",
       "      <td>0.557814</td>\n",
       "      <td>3.000000</td>\n",
       "      <td>3.0</td>\n",
       "      <td>1949.000000</td>\n",
       "      <td>1951.000000</td>\n",
       "      <td>1.0</td>\n",
       "      <td>53.000000</td>\n",
       "    </tr>\n",
       "    <tr>\n",
       "      <th>...</th>\n",
       "      <td>...</td>\n",
       "      <td>...</td>\n",
       "      <td>...</td>\n",
       "      <td>...</td>\n",
       "      <td>...</td>\n",
       "      <td>...</td>\n",
       "      <td>...</td>\n",
       "      <td>...</td>\n",
       "      <td>...</td>\n",
       "      <td>...</td>\n",
       "      <td>...</td>\n",
       "      <td>...</td>\n",
       "      <td>...</td>\n",
       "      <td>...</td>\n",
       "      <td>...</td>\n",
       "      <td>...</td>\n",
       "      <td>...</td>\n",
       "      <td>...</td>\n",
       "      <td>...</td>\n",
       "      <td>...</td>\n",
       "      <td>...</td>\n",
       "    </tr>\n",
       "    <tr>\n",
       "      <th>625</th>\n",
       "      <td>1.0</td>\n",
       "      <td>742.014944</td>\n",
       "      <td>21929.647571</td>\n",
       "      <td>7370.915317</td>\n",
       "      <td>177.486243</td>\n",
       "      <td>679.736660</td>\n",
       "      <td>2512.541715</td>\n",
       "      <td>3147.424658</td>\n",
       "      <td>458.503533</td>\n",
       "      <td>11.855151</td>\n",
       "      <td>...</td>\n",
       "      <td>2709.584060</td>\n",
       "      <td>2064.743462</td>\n",
       "      <td>129.814392</td>\n",
       "      <td>0.591060</td>\n",
       "      <td>11.000000</td>\n",
       "      <td>1.0</td>\n",
       "      <td>1949.381071</td>\n",
       "      <td>1959.381071</td>\n",
       "      <td>1.0</td>\n",
       "      <td>44.618929</td>\n",
       "    </tr>\n",
       "    <tr>\n",
       "      <th>626</th>\n",
       "      <td>1.0</td>\n",
       "      <td>867.972833</td>\n",
       "      <td>30907.027960</td>\n",
       "      <td>16461.373945</td>\n",
       "      <td>347.019393</td>\n",
       "      <td>1029.949678</td>\n",
       "      <td>2071.812129</td>\n",
       "      <td>6368.737900</td>\n",
       "      <td>714.139513</td>\n",
       "      <td>81.994190</td>\n",
       "      <td>...</td>\n",
       "      <td>5707.860235</td>\n",
       "      <td>4623.495946</td>\n",
       "      <td>82.422469</td>\n",
       "      <td>18.668603</td>\n",
       "      <td>13.852713</td>\n",
       "      <td>1.0</td>\n",
       "      <td>1970.000000</td>\n",
       "      <td>1982.852713</td>\n",
       "      <td>1.0</td>\n",
       "      <td>21.147287</td>\n",
       "    </tr>\n",
       "    <tr>\n",
       "      <th>627</th>\n",
       "      <td>1.0</td>\n",
       "      <td>706.889493</td>\n",
       "      <td>16249.511146</td>\n",
       "      <td>6511.561069</td>\n",
       "      <td>23.076029</td>\n",
       "      <td>359.395519</td>\n",
       "      <td>2382.551753</td>\n",
       "      <td>3678.822581</td>\n",
       "      <td>405.627189</td>\n",
       "      <td>0.000000</td>\n",
       "      <td>...</td>\n",
       "      <td>2528.581318</td>\n",
       "      <td>1782.840460</td>\n",
       "      <td>144.648481</td>\n",
       "      <td>3.289002</td>\n",
       "      <td>11.000000</td>\n",
       "      <td>1.0</td>\n",
       "      <td>1947.267704</td>\n",
       "      <td>1957.267704</td>\n",
       "      <td>1.0</td>\n",
       "      <td>46.732296</td>\n",
       "    </tr>\n",
       "    <tr>\n",
       "      <th>628</th>\n",
       "      <td>1.0</td>\n",
       "      <td>900.658201</td>\n",
       "      <td>32746.988137</td>\n",
       "      <td>18301.761553</td>\n",
       "      <td>416.988275</td>\n",
       "      <td>744.746118</td>\n",
       "      <td>3401.214720</td>\n",
       "      <td>5411.752050</td>\n",
       "      <td>486.226584</td>\n",
       "      <td>88.890624</td>\n",
       "      <td>...</td>\n",
       "      <td>5684.052741</td>\n",
       "      <td>4406.568383</td>\n",
       "      <td>134.500707</td>\n",
       "      <td>2.392574</td>\n",
       "      <td>12.027344</td>\n",
       "      <td>1.0</td>\n",
       "      <td>1966.054688</td>\n",
       "      <td>1977.082032</td>\n",
       "      <td>1.0</td>\n",
       "      <td>26.917968</td>\n",
       "    </tr>\n",
       "    <tr>\n",
       "      <th>629</th>\n",
       "      <td>1.0</td>\n",
       "      <td>670.584963</td>\n",
       "      <td>24817.062392</td>\n",
       "      <td>15920.343225</td>\n",
       "      <td>424.266742</td>\n",
       "      <td>1428.686624</td>\n",
       "      <td>2903.972923</td>\n",
       "      <td>3674.305332</td>\n",
       "      <td>594.083752</td>\n",
       "      <td>104.307406</td>\n",
       "      <td>...</td>\n",
       "      <td>4335.107631</td>\n",
       "      <td>3545.687748</td>\n",
       "      <td>13.944973</td>\n",
       "      <td>9.489418</td>\n",
       "      <td>10.226077</td>\n",
       "      <td>1.0</td>\n",
       "      <td>1969.773923</td>\n",
       "      <td>1979.000000</td>\n",
       "      <td>1.0</td>\n",
       "      <td>25.000000</td>\n",
       "    </tr>\n",
       "  </tbody>\n",
       "</table>\n",
       "<p>630 rows × 24 columns</p>\n",
       "</div>"
      ],
      "text/plain": [
       "     league       games       minutes           pts       offReb       defReb  \\\n",
       "0       0.0   58.000000   1137.000000    358.000000   106.171079   221.106329   \n",
       "1       1.0  493.000000  11338.000000   3625.000000   940.000000  1953.000000   \n",
       "2       1.0   83.000000   1117.000000    258.000000    99.000000   179.000000   \n",
       "3       1.0  681.000000  12499.000000   4599.000000  1061.000000  1925.000000   \n",
       "4       1.0  186.000000    737.000000   1084.000000   165.904678   385.208388   \n",
       "..      ...         ...           ...           ...          ...          ...   \n",
       "625     1.0  742.014944  21929.647571   7370.915317   177.486243   679.736660   \n",
       "626     1.0  867.972833  30907.027960  16461.373945   347.019393  1029.949678   \n",
       "627     1.0  706.889493  16249.511146   6511.561069    23.076029   359.395519   \n",
       "628     1.0  900.658201  32746.988137  18301.761553   416.988275   744.746118   \n",
       "629     1.0  670.584963  24817.062392  15920.343225   424.266742  1428.686624   \n",
       "\n",
       "             reb         asts         stl         blk  ...          fta  \\\n",
       "0     140.000000   101.000000   56.648372   28.293308  ...   203.000000   \n",
       "1    2893.000000  1061.000000  455.000000  758.000000  ...   857.000000   \n",
       "2     278.000000    64.000000   14.000000   46.000000  ...    89.000000   \n",
       "3    2986.000000   616.000000  305.000000  750.000000  ...  1278.000000   \n",
       "4     510.000000   327.000000  101.596523   90.336316  ...   348.000000   \n",
       "..           ...          ...         ...         ...  ...          ...   \n",
       "625  2512.541715  3147.424658  458.503533   11.855151  ...  2709.584060   \n",
       "626  2071.812129  6368.737900  714.139513   81.994190  ...  5707.860235   \n",
       "627  2382.551753  3678.822581  405.627189    0.000000  ...  2528.581318   \n",
       "628  3401.214720  5411.752050  486.226584   88.890624  ...  5684.052741   \n",
       "629  2903.972923  3674.305332  594.083752  104.307406  ...  4335.107631   \n",
       "\n",
       "             ftm         tpa        tpm  totalSeasons  Position  firstSeason  \\\n",
       "0     137.000000   18.000000   1.000000      2.000000       1.0  1967.000000   \n",
       "1     548.000000   42.000000   5.000000     12.000000       2.0  1992.000000   \n",
       "2      66.000000    1.000000   0.000000      2.000000       2.0  2003.000000   \n",
       "3     803.000000    4.000000   0.858570     11.000000       2.0  1983.000000   \n",
       "4     216.000000   44.675424   0.557814      3.000000       3.0  1949.000000   \n",
       "..           ...         ...        ...           ...       ...          ...   \n",
       "625  2064.743462  129.814392   0.591060     11.000000       1.0  1949.381071   \n",
       "626  4623.495946   82.422469  18.668603     13.852713       1.0  1970.000000   \n",
       "627  1782.840460  144.648481   3.289002     11.000000       1.0  1947.267704   \n",
       "628  4406.568383  134.500707   2.392574     12.027344       1.0  1966.054688   \n",
       "629  3545.687748   13.944973   9.489418     10.226077       1.0  1969.773923   \n",
       "\n",
       "      lastSeason  careerEnded  yrsRetired2004  \n",
       "0    1968.000000          1.0       36.000000  \n",
       "1    2003.000000          1.0        1.000000  \n",
       "2    2004.000000          1.0        0.000000  \n",
       "3    1993.000000          1.0       11.000000  \n",
       "4    1951.000000          1.0       53.000000  \n",
       "..           ...          ...             ...  \n",
       "625  1959.381071          1.0       44.618929  \n",
       "626  1982.852713          1.0       21.147287  \n",
       "627  1957.267704          1.0       46.732296  \n",
       "628  1977.082032          1.0       26.917968  \n",
       "629  1979.000000          1.0       25.000000  \n",
       "\n",
       "[630 rows x 24 columns]"
      ]
     },
     "execution_count": 27,
     "metadata": {},
     "output_type": "execute_result"
    }
   ],
   "source": [
    "training_data"
   ]
  },
  {
   "cell_type": "markdown",
   "metadata": {},
   "source": [
    "# Standardization"
   ]
  },
  {
   "cell_type": "code",
   "execution_count": 28,
   "metadata": {},
   "outputs": [],
   "source": [
    "from sklearn.preprocessing import StandardScaler"
   ]
  },
  {
   "cell_type": "code",
   "execution_count": 29,
   "metadata": {},
   "outputs": [
    {
     "data": {
      "text/html": [
       "<style>#sk-container-id-1 {color: black;background-color: white;}#sk-container-id-1 pre{padding: 0;}#sk-container-id-1 div.sk-toggleable {background-color: white;}#sk-container-id-1 label.sk-toggleable__label {cursor: pointer;display: block;width: 100%;margin-bottom: 0;padding: 0.3em;box-sizing: border-box;text-align: center;}#sk-container-id-1 label.sk-toggleable__label-arrow:before {content: \"▸\";float: left;margin-right: 0.25em;color: #696969;}#sk-container-id-1 label.sk-toggleable__label-arrow:hover:before {color: black;}#sk-container-id-1 div.sk-estimator:hover label.sk-toggleable__label-arrow:before {color: black;}#sk-container-id-1 div.sk-toggleable__content {max-height: 0;max-width: 0;overflow: hidden;text-align: left;background-color: #f0f8ff;}#sk-container-id-1 div.sk-toggleable__content pre {margin: 0.2em;color: black;border-radius: 0.25em;background-color: #f0f8ff;}#sk-container-id-1 input.sk-toggleable__control:checked~div.sk-toggleable__content {max-height: 200px;max-width: 100%;overflow: auto;}#sk-container-id-1 input.sk-toggleable__control:checked~label.sk-toggleable__label-arrow:before {content: \"▾\";}#sk-container-id-1 div.sk-estimator input.sk-toggleable__control:checked~label.sk-toggleable__label {background-color: #d4ebff;}#sk-container-id-1 div.sk-label input.sk-toggleable__control:checked~label.sk-toggleable__label {background-color: #d4ebff;}#sk-container-id-1 input.sk-hidden--visually {border: 0;clip: rect(1px 1px 1px 1px);clip: rect(1px, 1px, 1px, 1px);height: 1px;margin: -1px;overflow: hidden;padding: 0;position: absolute;width: 1px;}#sk-container-id-1 div.sk-estimator {font-family: monospace;background-color: #f0f8ff;border: 1px dotted black;border-radius: 0.25em;box-sizing: border-box;margin-bottom: 0.5em;}#sk-container-id-1 div.sk-estimator:hover {background-color: #d4ebff;}#sk-container-id-1 div.sk-parallel-item::after {content: \"\";width: 100%;border-bottom: 1px solid gray;flex-grow: 1;}#sk-container-id-1 div.sk-label:hover label.sk-toggleable__label {background-color: #d4ebff;}#sk-container-id-1 div.sk-serial::before {content: \"\";position: absolute;border-left: 1px solid gray;box-sizing: border-box;top: 0;bottom: 0;left: 50%;z-index: 0;}#sk-container-id-1 div.sk-serial {display: flex;flex-direction: column;align-items: center;background-color: white;padding-right: 0.2em;padding-left: 0.2em;position: relative;}#sk-container-id-1 div.sk-item {position: relative;z-index: 1;}#sk-container-id-1 div.sk-parallel {display: flex;align-items: stretch;justify-content: center;background-color: white;position: relative;}#sk-container-id-1 div.sk-item::before, #sk-container-id-1 div.sk-parallel-item::before {content: \"\";position: absolute;border-left: 1px solid gray;box-sizing: border-box;top: 0;bottom: 0;left: 50%;z-index: -1;}#sk-container-id-1 div.sk-parallel-item {display: flex;flex-direction: column;z-index: 1;position: relative;background-color: white;}#sk-container-id-1 div.sk-parallel-item:first-child::after {align-self: flex-end;width: 50%;}#sk-container-id-1 div.sk-parallel-item:last-child::after {align-self: flex-start;width: 50%;}#sk-container-id-1 div.sk-parallel-item:only-child::after {width: 0;}#sk-container-id-1 div.sk-dashed-wrapped {border: 1px dashed gray;margin: 0 0.4em 0.5em 0.4em;box-sizing: border-box;padding-bottom: 0.4em;background-color: white;}#sk-container-id-1 div.sk-label label {font-family: monospace;font-weight: bold;display: inline-block;line-height: 1.2em;}#sk-container-id-1 div.sk-label-container {text-align: center;}#sk-container-id-1 div.sk-container {/* jupyter's `normalize.less` sets `[hidden] { display: none; }` but bootstrap.min.css set `[hidden] { display: none !important; }` so we also need the `!important` here to be able to override the default hidden behavior on the sphinx rendered scikit-learn.org. See: https://github.com/scikit-learn/scikit-learn/issues/21755 */display: inline-block !important;position: relative;}#sk-container-id-1 div.sk-text-repr-fallback {display: none;}</style><div id=\"sk-container-id-1\" class=\"sk-top-container\"><div class=\"sk-text-repr-fallback\"><pre>StandardScaler()</pre><b>In a Jupyter environment, please rerun this cell to show the HTML representation or trust the notebook. <br />On GitHub, the HTML representation is unable to render, please try loading this page with nbviewer.org.</b></div><div class=\"sk-container\" hidden><div class=\"sk-item\"><div class=\"sk-estimator sk-toggleable\"><input class=\"sk-toggleable__control sk-hidden--visually\" id=\"sk-estimator-id-1\" type=\"checkbox\" checked><label for=\"sk-estimator-id-1\" class=\"sk-toggleable__label sk-toggleable__label-arrow\">StandardScaler</label><div class=\"sk-toggleable__content\"><pre>StandardScaler()</pre></div></div></div></div></div>"
      ],
      "text/plain": [
       "StandardScaler()"
      ]
     },
     "execution_count": 29,
     "metadata": {},
     "output_type": "execute_result"
    }
   ],
   "source": [
    "scaler= StandardScaler()\n",
    "scaler.fit(training_data)"
   ]
  },
  {
   "cell_type": "code",
   "execution_count": 30,
   "metadata": {},
   "outputs": [
    {
     "data": {
      "text/html": [
       "<div>\n",
       "<style scoped>\n",
       "    .dataframe tbody tr th:only-of-type {\n",
       "        vertical-align: middle;\n",
       "    }\n",
       "\n",
       "    .dataframe tbody tr th {\n",
       "        vertical-align: top;\n",
       "    }\n",
       "\n",
       "    .dataframe thead th {\n",
       "        text-align: right;\n",
       "    }\n",
       "</style>\n",
       "<table border=\"1\" class=\"dataframe\">\n",
       "  <thead>\n",
       "    <tr style=\"text-align: right;\">\n",
       "      <th></th>\n",
       "      <th>league</th>\n",
       "      <th>games</th>\n",
       "      <th>minutes</th>\n",
       "      <th>pts</th>\n",
       "      <th>offReb</th>\n",
       "      <th>defReb</th>\n",
       "      <th>reb</th>\n",
       "      <th>asts</th>\n",
       "      <th>stl</th>\n",
       "      <th>blk</th>\n",
       "      <th>...</th>\n",
       "      <th>fta</th>\n",
       "      <th>ftm</th>\n",
       "      <th>tpa</th>\n",
       "      <th>tpm</th>\n",
       "      <th>totalSeasons</th>\n",
       "      <th>Position</th>\n",
       "      <th>firstSeason</th>\n",
       "      <th>lastSeason</th>\n",
       "      <th>careerEnded</th>\n",
       "      <th>yrsRetired2004</th>\n",
       "    </tr>\n",
       "  </thead>\n",
       "  <tbody>\n",
       "    <tr>\n",
       "      <th>0</th>\n",
       "      <td>-2.945043</td>\n",
       "      <td>-1.158748</td>\n",
       "      <td>-0.995912</td>\n",
       "      <td>-0.972617</td>\n",
       "      <td>-0.650872</td>\n",
       "      <td>-0.750808</td>\n",
       "      <td>-0.766385</td>\n",
       "      <td>-0.881421</td>\n",
       "      <td>-0.724508</td>\n",
       "      <td>-0.659322</td>\n",
       "      <td>...</td>\n",
       "      <td>-0.935461</td>\n",
       "      <td>-0.968715</td>\n",
       "      <td>-0.405768</td>\n",
       "      <td>-0.342104</td>\n",
       "      <td>-1.272273</td>\n",
       "      <td>-1.110998</td>\n",
       "      <td>-0.106776</td>\n",
       "      <td>-0.528050</td>\n",
       "      <td>0.0</td>\n",
       "      <td>0.528050</td>\n",
       "    </tr>\n",
       "    <tr>\n",
       "      <th>1</th>\n",
       "      <td>0.387861</td>\n",
       "      <td>0.037137</td>\n",
       "      <td>-0.247156</td>\n",
       "      <td>-0.546892</td>\n",
       "      <td>0.824387</td>\n",
       "      <td>0.960509</td>\n",
       "      <td>-0.092246</td>\n",
       "      <td>-0.350289</td>\n",
       "      <td>0.643531</td>\n",
       "      <td>2.860815</td>\n",
       "      <td>...</td>\n",
       "      <td>-0.666486</td>\n",
       "      <td>-0.737914</td>\n",
       "      <td>-0.344859</td>\n",
       "      <td>-0.314019</td>\n",
       "      <td>0.761147</td>\n",
       "      <td>0.055975</td>\n",
       "      <td>1.531366</td>\n",
       "      <td>1.815462</td>\n",
       "      <td>0.0</td>\n",
       "      <td>-1.815462</td>\n",
       "    </tr>\n",
       "    <tr>\n",
       "      <th>2</th>\n",
       "      <td>0.387861</td>\n",
       "      <td>-1.090019</td>\n",
       "      <td>-0.997380</td>\n",
       "      <td>-0.985648</td>\n",
       "      <td>-0.663559</td>\n",
       "      <td>-0.792414</td>\n",
       "      <td>-0.732593</td>\n",
       "      <td>-0.901891</td>\n",
       "      <td>-0.870973</td>\n",
       "      <td>-0.573904</td>\n",
       "      <td>...</td>\n",
       "      <td>-0.982347</td>\n",
       "      <td>-1.008586</td>\n",
       "      <td>-0.448912</td>\n",
       "      <td>-0.349125</td>\n",
       "      <td>-1.272273</td>\n",
       "      <td>0.055975</td>\n",
       "      <td>2.252148</td>\n",
       "      <td>1.882420</td>\n",
       "      <td>0.0</td>\n",
       "      <td>-1.882420</td>\n",
       "    </tr>\n",
       "    <tr>\n",
       "      <th>3</th>\n",
       "      <td>0.387861</td>\n",
       "      <td>0.553980</td>\n",
       "      <td>-0.161938</td>\n",
       "      <td>-0.419969</td>\n",
       "      <td>1.038467</td>\n",
       "      <td>0.932842</td>\n",
       "      <td>-0.069473</td>\n",
       "      <td>-0.596491</td>\n",
       "      <td>0.128394</td>\n",
       "      <td>2.822223</td>\n",
       "      <td>...</td>\n",
       "      <td>-0.493337</td>\n",
       "      <td>-0.594717</td>\n",
       "      <td>-0.441298</td>\n",
       "      <td>-0.343097</td>\n",
       "      <td>0.557805</td>\n",
       "      <td>0.055975</td>\n",
       "      <td>0.941634</td>\n",
       "      <td>1.145887</td>\n",
       "      <td>0.0</td>\n",
       "      <td>-1.145887</td>\n",
       "    </tr>\n",
       "    <tr>\n",
       "      <th>4</th>\n",
       "      <td>0.387861</td>\n",
       "      <td>-0.806855</td>\n",
       "      <td>-1.025272</td>\n",
       "      <td>-0.878011</td>\n",
       "      <td>-0.545188</td>\n",
       "      <td>-0.588656</td>\n",
       "      <td>-0.675782</td>\n",
       "      <td>-0.756383</td>\n",
       "      <td>-0.570145</td>\n",
       "      <td>-0.360024</td>\n",
       "      <td>...</td>\n",
       "      <td>-0.875826</td>\n",
       "      <td>-0.924352</td>\n",
       "      <td>-0.338069</td>\n",
       "      <td>-0.345209</td>\n",
       "      <td>-1.068931</td>\n",
       "      <td>1.222947</td>\n",
       "      <td>-1.286239</td>\n",
       "      <td>-1.666328</td>\n",
       "      <td>0.0</td>\n",
       "      <td>1.666328</td>\n",
       "    </tr>\n",
       "    <tr>\n",
       "      <th>...</th>\n",
       "      <td>...</td>\n",
       "      <td>...</td>\n",
       "      <td>...</td>\n",
       "      <td>...</td>\n",
       "      <td>...</td>\n",
       "      <td>...</td>\n",
       "      <td>...</td>\n",
       "      <td>...</td>\n",
       "      <td>...</td>\n",
       "      <td>...</td>\n",
       "      <td>...</td>\n",
       "      <td>...</td>\n",
       "      <td>...</td>\n",
       "      <td>...</td>\n",
       "      <td>...</td>\n",
       "      <td>...</td>\n",
       "      <td>...</td>\n",
       "      <td>...</td>\n",
       "      <td>...</td>\n",
       "      <td>...</td>\n",
       "      <td>...</td>\n",
       "    </tr>\n",
       "    <tr>\n",
       "      <th>625</th>\n",
       "      <td>0.387861</td>\n",
       "      <td>0.721720</td>\n",
       "      <td>0.530273</td>\n",
       "      <td>-0.058759</td>\n",
       "      <td>-0.524697</td>\n",
       "      <td>-0.297627</td>\n",
       "      <td>-0.185410</td>\n",
       "      <td>0.804051</td>\n",
       "      <td>0.655563</td>\n",
       "      <td>-0.738621</td>\n",
       "      <td>...</td>\n",
       "      <td>0.095442</td>\n",
       "      <td>0.113827</td>\n",
       "      <td>-0.121998</td>\n",
       "      <td>-0.344975</td>\n",
       "      <td>0.557805</td>\n",
       "      <td>-1.110998</td>\n",
       "      <td>-1.261269</td>\n",
       "      <td>-1.105152</td>\n",
       "      <td>0.0</td>\n",
       "      <td>1.105152</td>\n",
       "    </tr>\n",
       "    <tr>\n",
       "      <th>626</th>\n",
       "      <td>0.387861</td>\n",
       "      <td>1.067998</td>\n",
       "      <td>1.189215</td>\n",
       "      <td>1.125826</td>\n",
       "      <td>-0.224749</td>\n",
       "      <td>0.048426</td>\n",
       "      <td>-0.293334</td>\n",
       "      <td>2.586281</td>\n",
       "      <td>1.533481</td>\n",
       "      <td>-0.400267</td>\n",
       "      <td>...</td>\n",
       "      <td>1.328568</td>\n",
       "      <td>1.550719</td>\n",
       "      <td>-0.242272</td>\n",
       "      <td>-0.218049</td>\n",
       "      <td>1.137882</td>\n",
       "      <td>-1.110998</td>\n",
       "      <td>0.089801</td>\n",
       "      <td>0.466450</td>\n",
       "      <td>0.0</td>\n",
       "      <td>-0.466450</td>\n",
       "    </tr>\n",
       "    <tr>\n",
       "      <th>627</th>\n",
       "      <td>0.387861</td>\n",
       "      <td>0.625154</td>\n",
       "      <td>0.113350</td>\n",
       "      <td>-0.170742</td>\n",
       "      <td>-0.797888</td>\n",
       "      <td>-0.614162</td>\n",
       "      <td>-0.217242</td>\n",
       "      <td>1.098053</td>\n",
       "      <td>0.473973</td>\n",
       "      <td>-0.795810</td>\n",
       "      <td>...</td>\n",
       "      <td>0.020999</td>\n",
       "      <td>-0.044478</td>\n",
       "      <td>-0.084351</td>\n",
       "      <td>-0.326032</td>\n",
       "      <td>0.557805</td>\n",
       "      <td>-1.110998</td>\n",
       "      <td>-1.399748</td>\n",
       "      <td>-1.246658</td>\n",
       "      <td>0.0</td>\n",
       "      <td>1.246658</td>\n",
       "    </tr>\n",
       "    <tr>\n",
       "      <th>628</th>\n",
       "      <td>0.387861</td>\n",
       "      <td>1.157856</td>\n",
       "      <td>1.324268</td>\n",
       "      <td>1.365648</td>\n",
       "      <td>-0.100956</td>\n",
       "      <td>-0.233390</td>\n",
       "      <td>0.032203</td>\n",
       "      <td>2.056817</td>\n",
       "      <td>0.750771</td>\n",
       "      <td>-0.366998</td>\n",
       "      <td>...</td>\n",
       "      <td>1.318776</td>\n",
       "      <td>1.428901</td>\n",
       "      <td>-0.110104</td>\n",
       "      <td>-0.332326</td>\n",
       "      <td>0.766707</td>\n",
       "      <td>-1.110998</td>\n",
       "      <td>-0.168719</td>\n",
       "      <td>0.080060</td>\n",
       "      <td>0.0</td>\n",
       "      <td>-0.080060</td>\n",
       "    </tr>\n",
       "    <tr>\n",
       "      <th>629</th>\n",
       "      <td>0.387861</td>\n",
       "      <td>0.525347</td>\n",
       "      <td>0.742210</td>\n",
       "      <td>1.055323</td>\n",
       "      <td>-0.088078</td>\n",
       "      <td>0.442425</td>\n",
       "      <td>-0.089559</td>\n",
       "      <td>1.095554</td>\n",
       "      <td>1.121180</td>\n",
       "      <td>-0.292627</td>\n",
       "      <td>...</td>\n",
       "      <td>0.763984</td>\n",
       "      <td>0.945465</td>\n",
       "      <td>-0.416059</td>\n",
       "      <td>-0.282498</td>\n",
       "      <td>0.400434</td>\n",
       "      <td>-1.110998</td>\n",
       "      <td>0.074987</td>\n",
       "      <td>0.208482</td>\n",
       "      <td>0.0</td>\n",
       "      <td>-0.208482</td>\n",
       "    </tr>\n",
       "  </tbody>\n",
       "</table>\n",
       "<p>630 rows × 24 columns</p>\n",
       "</div>"
      ],
      "text/plain": [
       "       league     games   minutes       pts    offReb    defReb       reb  \\\n",
       "0   -2.945043 -1.158748 -0.995912 -0.972617 -0.650872 -0.750808 -0.766385   \n",
       "1    0.387861  0.037137 -0.247156 -0.546892  0.824387  0.960509 -0.092246   \n",
       "2    0.387861 -1.090019 -0.997380 -0.985648 -0.663559 -0.792414 -0.732593   \n",
       "3    0.387861  0.553980 -0.161938 -0.419969  1.038467  0.932842 -0.069473   \n",
       "4    0.387861 -0.806855 -1.025272 -0.878011 -0.545188 -0.588656 -0.675782   \n",
       "..        ...       ...       ...       ...       ...       ...       ...   \n",
       "625  0.387861  0.721720  0.530273 -0.058759 -0.524697 -0.297627 -0.185410   \n",
       "626  0.387861  1.067998  1.189215  1.125826 -0.224749  0.048426 -0.293334   \n",
       "627  0.387861  0.625154  0.113350 -0.170742 -0.797888 -0.614162 -0.217242   \n",
       "628  0.387861  1.157856  1.324268  1.365648 -0.100956 -0.233390  0.032203   \n",
       "629  0.387861  0.525347  0.742210  1.055323 -0.088078  0.442425 -0.089559   \n",
       "\n",
       "         asts       stl       blk  ...       fta       ftm       tpa  \\\n",
       "0   -0.881421 -0.724508 -0.659322  ... -0.935461 -0.968715 -0.405768   \n",
       "1   -0.350289  0.643531  2.860815  ... -0.666486 -0.737914 -0.344859   \n",
       "2   -0.901891 -0.870973 -0.573904  ... -0.982347 -1.008586 -0.448912   \n",
       "3   -0.596491  0.128394  2.822223  ... -0.493337 -0.594717 -0.441298   \n",
       "4   -0.756383 -0.570145 -0.360024  ... -0.875826 -0.924352 -0.338069   \n",
       "..        ...       ...       ...  ...       ...       ...       ...   \n",
       "625  0.804051  0.655563 -0.738621  ...  0.095442  0.113827 -0.121998   \n",
       "626  2.586281  1.533481 -0.400267  ...  1.328568  1.550719 -0.242272   \n",
       "627  1.098053  0.473973 -0.795810  ...  0.020999 -0.044478 -0.084351   \n",
       "628  2.056817  0.750771 -0.366998  ...  1.318776  1.428901 -0.110104   \n",
       "629  1.095554  1.121180 -0.292627  ...  0.763984  0.945465 -0.416059   \n",
       "\n",
       "          tpm  totalSeasons  Position  firstSeason  lastSeason  careerEnded  \\\n",
       "0   -0.342104     -1.272273 -1.110998    -0.106776   -0.528050          0.0   \n",
       "1   -0.314019      0.761147  0.055975     1.531366    1.815462          0.0   \n",
       "2   -0.349125     -1.272273  0.055975     2.252148    1.882420          0.0   \n",
       "3   -0.343097      0.557805  0.055975     0.941634    1.145887          0.0   \n",
       "4   -0.345209     -1.068931  1.222947    -1.286239   -1.666328          0.0   \n",
       "..        ...           ...       ...          ...         ...          ...   \n",
       "625 -0.344975      0.557805 -1.110998    -1.261269   -1.105152          0.0   \n",
       "626 -0.218049      1.137882 -1.110998     0.089801    0.466450          0.0   \n",
       "627 -0.326032      0.557805 -1.110998    -1.399748   -1.246658          0.0   \n",
       "628 -0.332326      0.766707 -1.110998    -0.168719    0.080060          0.0   \n",
       "629 -0.282498      0.400434 -1.110998     0.074987    0.208482          0.0   \n",
       "\n",
       "     yrsRetired2004  \n",
       "0          0.528050  \n",
       "1         -1.815462  \n",
       "2         -1.882420  \n",
       "3         -1.145887  \n",
       "4          1.666328  \n",
       "..              ...  \n",
       "625        1.105152  \n",
       "626       -0.466450  \n",
       "627        1.246658  \n",
       "628       -0.080060  \n",
       "629       -0.208482  \n",
       "\n",
       "[630 rows x 24 columns]"
      ]
     },
     "execution_count": 30,
     "metadata": {},
     "output_type": "execute_result"
    }
   ],
   "source": [
    "training_scaled_data= pd.DataFrame(scaler.transform(training_data))\n",
    "training_scaled_data.columns = list(df.columns)\n",
    "\n",
    "test_scaled_data= pd.DataFrame(scaler.transform(test_data))\n",
    "test_scaled_data.columns = list(df.columns)\n",
    "\n",
    "df_st = np.concatenate((training_scaled_data.copy(), test_scaled_data.copy()), axis = 0) #to store all the standadized data for later\n",
    "\n",
    "training_scaled_data"
   ]
  },
  {
   "cell_type": "markdown",
   "metadata": {},
   "source": [
    "I decided to convert my data after scaling into Pandas DataFrame to visualize it better."
   ]
  },
  {
   "cell_type": "code",
   "execution_count": 31,
   "metadata": {},
   "outputs": [
    {
     "data": {
      "text/html": [
       "<div>\n",
       "<style scoped>\n",
       "    .dataframe tbody tr th:only-of-type {\n",
       "        vertical-align: middle;\n",
       "    }\n",
       "\n",
       "    .dataframe tbody tr th {\n",
       "        vertical-align: top;\n",
       "    }\n",
       "\n",
       "    .dataframe thead th {\n",
       "        text-align: right;\n",
       "    }\n",
       "</style>\n",
       "<table border=\"1\" class=\"dataframe\">\n",
       "  <thead>\n",
       "    <tr style=\"text-align: right;\">\n",
       "      <th></th>\n",
       "      <th>league</th>\n",
       "      <th>games</th>\n",
       "      <th>minutes</th>\n",
       "      <th>pts</th>\n",
       "      <th>offReb</th>\n",
       "      <th>defReb</th>\n",
       "      <th>reb</th>\n",
       "      <th>asts</th>\n",
       "      <th>stl</th>\n",
       "      <th>blk</th>\n",
       "      <th>...</th>\n",
       "      <th>fta</th>\n",
       "      <th>ftm</th>\n",
       "      <th>tpa</th>\n",
       "      <th>tpm</th>\n",
       "      <th>totalSeasons</th>\n",
       "      <th>Position</th>\n",
       "      <th>firstSeason</th>\n",
       "      <th>lastSeason</th>\n",
       "      <th>careerEnded</th>\n",
       "      <th>yrsRetired2004</th>\n",
       "    </tr>\n",
       "  </thead>\n",
       "  <tbody>\n",
       "    <tr>\n",
       "      <th>count</th>\n",
       "      <td>6.300000e+02</td>\n",
       "      <td>6.300000e+02</td>\n",
       "      <td>6.300000e+02</td>\n",
       "      <td>6.300000e+02</td>\n",
       "      <td>6.300000e+02</td>\n",
       "      <td>6.300000e+02</td>\n",
       "      <td>6.300000e+02</td>\n",
       "      <td>6.300000e+02</td>\n",
       "      <td>6.300000e+02</td>\n",
       "      <td>6.300000e+02</td>\n",
       "      <td>...</td>\n",
       "      <td>6.300000e+02</td>\n",
       "      <td>6.300000e+02</td>\n",
       "      <td>6.300000e+02</td>\n",
       "      <td>6.300000e+02</td>\n",
       "      <td>6.300000e+02</td>\n",
       "      <td>6.300000e+02</td>\n",
       "      <td>6.300000e+02</td>\n",
       "      <td>6.300000e+02</td>\n",
       "      <td>630.0</td>\n",
       "      <td>6.300000e+02</td>\n",
       "    </tr>\n",
       "    <tr>\n",
       "      <th>mean</th>\n",
       "      <td>-5.098215e-16</td>\n",
       "      <td>-6.344132e-17</td>\n",
       "      <td>-3.016987e-16</td>\n",
       "      <td>-1.578984e-16</td>\n",
       "      <td>-6.500532e-17</td>\n",
       "      <td>1.882092e-16</td>\n",
       "      <td>1.949278e-16</td>\n",
       "      <td>-5.290301e-16</td>\n",
       "      <td>-2.467162e-17</td>\n",
       "      <td>6.018114e-17</td>\n",
       "      <td>...</td>\n",
       "      <td>1.774595e-16</td>\n",
       "      <td>1.462675e-17</td>\n",
       "      <td>-5.101739e-17</td>\n",
       "      <td>-3.965082e-18</td>\n",
       "      <td>6.913341e-16</td>\n",
       "      <td>2.058318e-16</td>\n",
       "      <td>-4.149216e-15</td>\n",
       "      <td>1.174140e-14</td>\n",
       "      <td>0.0</td>\n",
       "      <td>-1.159566e-16</td>\n",
       "    </tr>\n",
       "    <tr>\n",
       "      <th>std</th>\n",
       "      <td>1.000795e+00</td>\n",
       "      <td>1.000795e+00</td>\n",
       "      <td>1.000795e+00</td>\n",
       "      <td>1.000795e+00</td>\n",
       "      <td>1.000795e+00</td>\n",
       "      <td>1.000795e+00</td>\n",
       "      <td>1.000795e+00</td>\n",
       "      <td>1.000795e+00</td>\n",
       "      <td>1.000795e+00</td>\n",
       "      <td>1.000795e+00</td>\n",
       "      <td>...</td>\n",
       "      <td>1.000795e+00</td>\n",
       "      <td>1.000795e+00</td>\n",
       "      <td>1.000795e+00</td>\n",
       "      <td>1.000795e+00</td>\n",
       "      <td>1.000795e+00</td>\n",
       "      <td>1.000795e+00</td>\n",
       "      <td>1.000795e+00</td>\n",
       "      <td>1.000795e+00</td>\n",
       "      <td>0.0</td>\n",
       "      <td>1.000795e+00</td>\n",
       "    </tr>\n",
       "    <tr>\n",
       "      <th>min</th>\n",
       "      <td>-2.945043e+00</td>\n",
       "      <td>-1.315450e+00</td>\n",
       "      <td>-1.079368e+00</td>\n",
       "      <td>-1.019138e+00</td>\n",
       "      <td>-8.387157e-01</td>\n",
       "      <td>-9.692876e-01</td>\n",
       "      <td>-8.006678e-01</td>\n",
       "      <td>-9.373001e-01</td>\n",
       "      <td>-9.190524e-01</td>\n",
       "      <td>-7.958105e-01</td>\n",
       "      <td>...</td>\n",
       "      <td>-1.018540e+00</td>\n",
       "      <td>-1.045593e+00</td>\n",
       "      <td>-4.514500e-01</td>\n",
       "      <td>-3.491251e-01</td>\n",
       "      <td>-1.475615e+00</td>\n",
       "      <td>-1.110998e+00</td>\n",
       "      <td>-1.482816e+00</td>\n",
       "      <td>-2.001115e+00</td>\n",
       "      <td>0.0</td>\n",
       "      <td>-1.882420e+00</td>\n",
       "    </tr>\n",
       "    <tr>\n",
       "      <th>25%</th>\n",
       "      <td>3.878610e-01</td>\n",
       "      <td>-9.883001e-01</td>\n",
       "      <td>-9.715612e-01</td>\n",
       "      <td>-9.266826e-01</td>\n",
       "      <td>-5.382075e-01</td>\n",
       "      <td>-6.070227e-01</td>\n",
       "      <td>-7.335388e-01</td>\n",
       "      <td>-8.599817e-01</td>\n",
       "      <td>-7.038063e-01</td>\n",
       "      <td>-6.263675e-01</td>\n",
       "      <td>...</td>\n",
       "      <td>-9.338164e-01</td>\n",
       "      <td>-9.675920e-01</td>\n",
       "      <td>-4.159198e-01</td>\n",
       "      <td>-3.446298e-01</td>\n",
       "      <td>-8.655892e-01</td>\n",
       "      <td>-1.110998e+00</td>\n",
       "      <td>-8.243921e-01</td>\n",
       "      <td>-7.681744e-01</td>\n",
       "      <td>0.0</td>\n",
       "      <td>-6.771848e-01</td>\n",
       "    </tr>\n",
       "    <tr>\n",
       "      <th>50%</th>\n",
       "      <td>3.878610e-01</td>\n",
       "      <td>2.117019e-03</td>\n",
       "      <td>-1.288921e-01</td>\n",
       "      <td>-2.334403e-01</td>\n",
       "      <td>-3.261466e-01</td>\n",
       "      <td>-2.983546e-01</td>\n",
       "      <td>-2.786108e-01</td>\n",
       "      <td>-3.364549e-01</td>\n",
       "      <td>-4.295213e-01</td>\n",
       "      <td>-4.052258e-01</td>\n",
       "      <td>...</td>\n",
       "      <td>-3.294781e-01</td>\n",
       "      <td>-3.314867e-01</td>\n",
       "      <td>-3.012357e-01</td>\n",
       "      <td>-3.202755e-01</td>\n",
       "      <td>2.260211e-01</td>\n",
       "      <td>5.597459e-02</td>\n",
       "      <td>-1.067764e-01</td>\n",
       "      <td>-5.934770e-02</td>\n",
       "      <td>0.0</td>\n",
       "      <td>5.934770e-02</td>\n",
       "    </tr>\n",
       "    <tr>\n",
       "      <th>75%</th>\n",
       "      <td>3.878610e-01</td>\n",
       "      <td>7.319881e-01</td>\n",
       "      <td>7.687036e-01</td>\n",
       "      <td>8.666152e-01</td>\n",
       "      <td>7.144810e-02</td>\n",
       "      <td>2.526184e-01</td>\n",
       "      <td>4.064996e-01</td>\n",
       "      <td>6.139787e-01</td>\n",
       "      <td>4.789404e-01</td>\n",
       "      <td>1.575882e-01</td>\n",
       "      <td>...</td>\n",
       "      <td>7.727157e-01</td>\n",
       "      <td>8.303384e-01</td>\n",
       "      <td>-1.019971e-01</td>\n",
       "      <td>-2.057998e-01</td>\n",
       "      <td>8.947418e-01</td>\n",
       "      <td>1.222947e+00</td>\n",
       "      <td>6.697984e-01</td>\n",
       "      <td>6.771848e-01</td>\n",
       "      <td>0.0</td>\n",
       "      <td>7.681744e-01</td>\n",
       "    </tr>\n",
       "    <tr>\n",
       "      <th>max</th>\n",
       "      <td>3.878610e-01</td>\n",
       "      <td>2.195230e+00</td>\n",
       "      <td>2.433493e+00</td>\n",
       "      <td>3.074965e+00</td>\n",
       "      <td>5.095375e+00</td>\n",
       "      <td>5.077014e+00</td>\n",
       "      <td>5.057710e+00</td>\n",
       "      <td>3.052273e+00</td>\n",
       "      <td>4.153335e+00</td>\n",
       "      <td>4.737368e+00</td>\n",
       "      <td>...</td>\n",
       "      <td>3.859631e+00</td>\n",
       "      <td>2.355716e+00</td>\n",
       "      <td>8.263605e+00</td>\n",
       "      <td>8.785471e+00</td>\n",
       "      <td>2.591226e+00</td>\n",
       "      <td>1.222947e+00</td>\n",
       "      <td>2.317674e+00</td>\n",
       "      <td>1.882420e+00</td>\n",
       "      <td>0.0</td>\n",
       "      <td>2.001115e+00</td>\n",
       "    </tr>\n",
       "  </tbody>\n",
       "</table>\n",
       "<p>8 rows × 24 columns</p>\n",
       "</div>"
      ],
      "text/plain": [
       "             league         games       minutes           pts        offReb  \\\n",
       "count  6.300000e+02  6.300000e+02  6.300000e+02  6.300000e+02  6.300000e+02   \n",
       "mean  -5.098215e-16 -6.344132e-17 -3.016987e-16 -1.578984e-16 -6.500532e-17   \n",
       "std    1.000795e+00  1.000795e+00  1.000795e+00  1.000795e+00  1.000795e+00   \n",
       "min   -2.945043e+00 -1.315450e+00 -1.079368e+00 -1.019138e+00 -8.387157e-01   \n",
       "25%    3.878610e-01 -9.883001e-01 -9.715612e-01 -9.266826e-01 -5.382075e-01   \n",
       "50%    3.878610e-01  2.117019e-03 -1.288921e-01 -2.334403e-01 -3.261466e-01   \n",
       "75%    3.878610e-01  7.319881e-01  7.687036e-01  8.666152e-01  7.144810e-02   \n",
       "max    3.878610e-01  2.195230e+00  2.433493e+00  3.074965e+00  5.095375e+00   \n",
       "\n",
       "             defReb           reb          asts           stl           blk  \\\n",
       "count  6.300000e+02  6.300000e+02  6.300000e+02  6.300000e+02  6.300000e+02   \n",
       "mean   1.882092e-16  1.949278e-16 -5.290301e-16 -2.467162e-17  6.018114e-17   \n",
       "std    1.000795e+00  1.000795e+00  1.000795e+00  1.000795e+00  1.000795e+00   \n",
       "min   -9.692876e-01 -8.006678e-01 -9.373001e-01 -9.190524e-01 -7.958105e-01   \n",
       "25%   -6.070227e-01 -7.335388e-01 -8.599817e-01 -7.038063e-01 -6.263675e-01   \n",
       "50%   -2.983546e-01 -2.786108e-01 -3.364549e-01 -4.295213e-01 -4.052258e-01   \n",
       "75%    2.526184e-01  4.064996e-01  6.139787e-01  4.789404e-01  1.575882e-01   \n",
       "max    5.077014e+00  5.057710e+00  3.052273e+00  4.153335e+00  4.737368e+00   \n",
       "\n",
       "       ...           fta           ftm           tpa           tpm  \\\n",
       "count  ...  6.300000e+02  6.300000e+02  6.300000e+02  6.300000e+02   \n",
       "mean   ...  1.774595e-16  1.462675e-17 -5.101739e-17 -3.965082e-18   \n",
       "std    ...  1.000795e+00  1.000795e+00  1.000795e+00  1.000795e+00   \n",
       "min    ... -1.018540e+00 -1.045593e+00 -4.514500e-01 -3.491251e-01   \n",
       "25%    ... -9.338164e-01 -9.675920e-01 -4.159198e-01 -3.446298e-01   \n",
       "50%    ... -3.294781e-01 -3.314867e-01 -3.012357e-01 -3.202755e-01   \n",
       "75%    ...  7.727157e-01  8.303384e-01 -1.019971e-01 -2.057998e-01   \n",
       "max    ...  3.859631e+00  2.355716e+00  8.263605e+00  8.785471e+00   \n",
       "\n",
       "       totalSeasons      Position   firstSeason    lastSeason  careerEnded  \\\n",
       "count  6.300000e+02  6.300000e+02  6.300000e+02  6.300000e+02        630.0   \n",
       "mean   6.913341e-16  2.058318e-16 -4.149216e-15  1.174140e-14          0.0   \n",
       "std    1.000795e+00  1.000795e+00  1.000795e+00  1.000795e+00          0.0   \n",
       "min   -1.475615e+00 -1.110998e+00 -1.482816e+00 -2.001115e+00          0.0   \n",
       "25%   -8.655892e-01 -1.110998e+00 -8.243921e-01 -7.681744e-01          0.0   \n",
       "50%    2.260211e-01  5.597459e-02 -1.067764e-01 -5.934770e-02          0.0   \n",
       "75%    8.947418e-01  1.222947e+00  6.697984e-01  6.771848e-01          0.0   \n",
       "max    2.591226e+00  1.222947e+00  2.317674e+00  1.882420e+00          0.0   \n",
       "\n",
       "       yrsRetired2004  \n",
       "count    6.300000e+02  \n",
       "mean    -1.159566e-16  \n",
       "std      1.000795e+00  \n",
       "min     -1.882420e+00  \n",
       "25%     -6.771848e-01  \n",
       "50%      5.934770e-02  \n",
       "75%      7.681744e-01  \n",
       "max      2.001115e+00  \n",
       "\n",
       "[8 rows x 24 columns]"
      ]
     },
     "execution_count": 31,
     "metadata": {},
     "output_type": "execute_result"
    }
   ],
   "source": [
    "training_scaled_data.describe()"
   ]
  },
  {
   "cell_type": "markdown",
   "metadata": {},
   "source": [
    "Performing PCA on data that is not standardized could lead to scaling problems, therefore I standardize the data using StandardScaler before applying PCA."
   ]
  },
  {
   "cell_type": "markdown",
   "metadata": {},
   "source": [
    "# PCA (Explained Variance Method)"
   ]
  },
  {
   "cell_type": "code",
   "execution_count": 32,
   "metadata": {},
   "outputs": [],
   "source": [
    "from sklearn.decomposition import PCA"
   ]
  },
  {
   "cell_type": "code",
   "execution_count": 33,
   "metadata": {},
   "outputs": [],
   "source": [
    "pca = PCA(0.95)"
   ]
  },
  {
   "cell_type": "markdown",
   "metadata": {},
   "source": [
    "Instead of exhaustively trying every possible number of principal components and evaluating the performance, to choose the best number of principal components for PCA, I decided to input in pca a number between 0 and 1, by doing this \n",
    "PCA selects the minimum number of components such that the amount of explained variance is greater than the percentage specified by n_components."
   ]
  },
  {
   "cell_type": "code",
   "execution_count": 34,
   "metadata": {
    "scrolled": true
   },
   "outputs": [
    {
     "data": {
      "text/html": [
       "<style>#sk-container-id-2 {color: black;background-color: white;}#sk-container-id-2 pre{padding: 0;}#sk-container-id-2 div.sk-toggleable {background-color: white;}#sk-container-id-2 label.sk-toggleable__label {cursor: pointer;display: block;width: 100%;margin-bottom: 0;padding: 0.3em;box-sizing: border-box;text-align: center;}#sk-container-id-2 label.sk-toggleable__label-arrow:before {content: \"▸\";float: left;margin-right: 0.25em;color: #696969;}#sk-container-id-2 label.sk-toggleable__label-arrow:hover:before {color: black;}#sk-container-id-2 div.sk-estimator:hover label.sk-toggleable__label-arrow:before {color: black;}#sk-container-id-2 div.sk-toggleable__content {max-height: 0;max-width: 0;overflow: hidden;text-align: left;background-color: #f0f8ff;}#sk-container-id-2 div.sk-toggleable__content pre {margin: 0.2em;color: black;border-radius: 0.25em;background-color: #f0f8ff;}#sk-container-id-2 input.sk-toggleable__control:checked~div.sk-toggleable__content {max-height: 200px;max-width: 100%;overflow: auto;}#sk-container-id-2 input.sk-toggleable__control:checked~label.sk-toggleable__label-arrow:before {content: \"▾\";}#sk-container-id-2 div.sk-estimator input.sk-toggleable__control:checked~label.sk-toggleable__label {background-color: #d4ebff;}#sk-container-id-2 div.sk-label input.sk-toggleable__control:checked~label.sk-toggleable__label {background-color: #d4ebff;}#sk-container-id-2 input.sk-hidden--visually {border: 0;clip: rect(1px 1px 1px 1px);clip: rect(1px, 1px, 1px, 1px);height: 1px;margin: -1px;overflow: hidden;padding: 0;position: absolute;width: 1px;}#sk-container-id-2 div.sk-estimator {font-family: monospace;background-color: #f0f8ff;border: 1px dotted black;border-radius: 0.25em;box-sizing: border-box;margin-bottom: 0.5em;}#sk-container-id-2 div.sk-estimator:hover {background-color: #d4ebff;}#sk-container-id-2 div.sk-parallel-item::after {content: \"\";width: 100%;border-bottom: 1px solid gray;flex-grow: 1;}#sk-container-id-2 div.sk-label:hover label.sk-toggleable__label {background-color: #d4ebff;}#sk-container-id-2 div.sk-serial::before {content: \"\";position: absolute;border-left: 1px solid gray;box-sizing: border-box;top: 0;bottom: 0;left: 50%;z-index: 0;}#sk-container-id-2 div.sk-serial {display: flex;flex-direction: column;align-items: center;background-color: white;padding-right: 0.2em;padding-left: 0.2em;position: relative;}#sk-container-id-2 div.sk-item {position: relative;z-index: 1;}#sk-container-id-2 div.sk-parallel {display: flex;align-items: stretch;justify-content: center;background-color: white;position: relative;}#sk-container-id-2 div.sk-item::before, #sk-container-id-2 div.sk-parallel-item::before {content: \"\";position: absolute;border-left: 1px solid gray;box-sizing: border-box;top: 0;bottom: 0;left: 50%;z-index: -1;}#sk-container-id-2 div.sk-parallel-item {display: flex;flex-direction: column;z-index: 1;position: relative;background-color: white;}#sk-container-id-2 div.sk-parallel-item:first-child::after {align-self: flex-end;width: 50%;}#sk-container-id-2 div.sk-parallel-item:last-child::after {align-self: flex-start;width: 50%;}#sk-container-id-2 div.sk-parallel-item:only-child::after {width: 0;}#sk-container-id-2 div.sk-dashed-wrapped {border: 1px dashed gray;margin: 0 0.4em 0.5em 0.4em;box-sizing: border-box;padding-bottom: 0.4em;background-color: white;}#sk-container-id-2 div.sk-label label {font-family: monospace;font-weight: bold;display: inline-block;line-height: 1.2em;}#sk-container-id-2 div.sk-label-container {text-align: center;}#sk-container-id-2 div.sk-container {/* jupyter's `normalize.less` sets `[hidden] { display: none; }` but bootstrap.min.css set `[hidden] { display: none !important; }` so we also need the `!important` here to be able to override the default hidden behavior on the sphinx rendered scikit-learn.org. See: https://github.com/scikit-learn/scikit-learn/issues/21755 */display: inline-block !important;position: relative;}#sk-container-id-2 div.sk-text-repr-fallback {display: none;}</style><div id=\"sk-container-id-2\" class=\"sk-top-container\"><div class=\"sk-text-repr-fallback\"><pre>PCA(n_components=0.95)</pre><b>In a Jupyter environment, please rerun this cell to show the HTML representation or trust the notebook. <br />On GitHub, the HTML representation is unable to render, please try loading this page with nbviewer.org.</b></div><div class=\"sk-container\" hidden><div class=\"sk-item\"><div class=\"sk-estimator sk-toggleable\"><input class=\"sk-toggleable__control sk-hidden--visually\" id=\"sk-estimator-id-2\" type=\"checkbox\" checked><label for=\"sk-estimator-id-2\" class=\"sk-toggleable__label sk-toggleable__label-arrow\">PCA</label><div class=\"sk-toggleable__content\"><pre>PCA(n_components=0.95)</pre></div></div></div></div></div>"
      ],
      "text/plain": [
       "PCA(n_components=0.95)"
      ]
     },
     "execution_count": 34,
     "metadata": {},
     "output_type": "execute_result"
    }
   ],
   "source": [
    "pca.fit(training_scaled_data)"
   ]
  },
  {
   "cell_type": "code",
   "execution_count": 35,
   "metadata": {},
   "outputs": [],
   "source": [
    "x_pca = pca.transform(training_scaled_data)"
   ]
  },
  {
   "cell_type": "code",
   "execution_count": 36,
   "metadata": {},
   "outputs": [
    {
     "data": {
      "text/plain": [
       "(630, 24)"
      ]
     },
     "execution_count": 36,
     "metadata": {},
     "output_type": "execute_result"
    }
   ],
   "source": [
    "training_scaled_data.shape"
   ]
  },
  {
   "cell_type": "code",
   "execution_count": 37,
   "metadata": {},
   "outputs": [
    {
     "data": {
      "text/plain": [
       "array([0.51829125, 0.18036793, 0.08596908, 0.06237225, 0.04472251,\n",
       "       0.03915982, 0.02569253])"
      ]
     },
     "execution_count": 37,
     "metadata": {},
     "output_type": "execute_result"
    }
   ],
   "source": [
    "pca.explained_variance_ratio_"
   ]
  },
  {
   "cell_type": "code",
   "execution_count": 38,
   "metadata": {},
   "outputs": [
    {
     "data": {
      "text/plain": [
       "0.9565753783668617"
      ]
     },
     "execution_count": 38,
     "metadata": {},
     "output_type": "execute_result"
    }
   ],
   "source": [
    "np.sum(pca.explained_variance_ratio_)"
   ]
  },
  {
   "cell_type": "code",
   "execution_count": 39,
   "metadata": {},
   "outputs": [
    {
     "data": {
      "text/plain": [
       "(630, 7)"
      ]
     },
     "execution_count": 39,
     "metadata": {},
     "output_type": "execute_result"
    }
   ],
   "source": [
    "x_pca.shape"
   ]
  },
  {
   "cell_type": "markdown",
   "metadata": {},
   "source": [
    "In this case the algorithm has chosen 7 principal components so that the sum of the explained variance is greater than 0.95."
   ]
  },
  {
   "cell_type": "code",
   "execution_count": 40,
   "metadata": {},
   "outputs": [],
   "source": [
    "training_data_pca = pca.transform(training_data)\n",
    "test_data_pca = pca.transform(test_data)"
   ]
  },
  {
   "cell_type": "markdown",
   "metadata": {},
   "source": [
    "Finally, I apply the mapping transform also to the test set."
   ]
  },
  {
   "cell_type": "code",
   "execution_count": 41,
   "metadata": {},
   "outputs": [],
   "source": [
    "training_features_pca = pd.DataFrame(training_data_pca)\n",
    "test_features_pca = pd.DataFrame(test_data_pca)\n",
    "\n",
    "df_pca = np.concatenate((training_data_pca.copy(), test_data_pca.copy()), axis = 0)\n",
    "\n",
    "training_features_pca.columns = list(df.columns[0:x_pca.shape[1]])\n",
    "test_features_pca.columns = list(df.columns[0:x_pca.shape[1]])"
   ]
  },
  {
   "cell_type": "markdown",
   "metadata": {},
   "source": [
    "I also convert all the data into Pandas DataFrame."
   ]
  },
  {
   "cell_type": "code",
   "execution_count": 42,
   "metadata": {},
   "outputs": [
    {
     "data": {
      "text/html": [
       "<div>\n",
       "<style scoped>\n",
       "    .dataframe tbody tr th:only-of-type {\n",
       "        vertical-align: middle;\n",
       "    }\n",
       "\n",
       "    .dataframe tbody tr th {\n",
       "        vertical-align: top;\n",
       "    }\n",
       "\n",
       "    .dataframe thead th {\n",
       "        text-align: right;\n",
       "    }\n",
       "</style>\n",
       "<table border=\"1\" class=\"dataframe\">\n",
       "  <thead>\n",
       "    <tr style=\"text-align: right;\">\n",
       "      <th></th>\n",
       "      <th>league</th>\n",
       "      <th>games</th>\n",
       "      <th>minutes</th>\n",
       "      <th>pts</th>\n",
       "      <th>offReb</th>\n",
       "      <th>defReb</th>\n",
       "      <th>reb</th>\n",
       "    </tr>\n",
       "  </thead>\n",
       "  <tbody>\n",
       "    <tr>\n",
       "      <th>0</th>\n",
       "      <td>825.501541</td>\n",
       "      <td>1494.047802</td>\n",
       "      <td>-1158.679587</td>\n",
       "      <td>-1126.942917</td>\n",
       "      <td>149.667949</td>\n",
       "      <td>412.970892</td>\n",
       "      <td>179.706089</td>\n",
       "    </tr>\n",
       "    <tr>\n",
       "      <th>1</th>\n",
       "      <td>8193.245847</td>\n",
       "      <td>391.039195</td>\n",
       "      <td>-1952.818131</td>\n",
       "      <td>-2231.621780</td>\n",
       "      <td>830.310858</td>\n",
       "      <td>966.401931</td>\n",
       "      <td>1741.208089</td>\n",
       "    </tr>\n",
       "    <tr>\n",
       "      <th>2</th>\n",
       "      <td>716.264599</td>\n",
       "      <td>1526.324074</td>\n",
       "      <td>-1164.997119</td>\n",
       "      <td>-1206.975378</td>\n",
       "      <td>209.141188</td>\n",
       "      <td>400.811123</td>\n",
       "      <td>265.916108</td>\n",
       "    </tr>\n",
       "    <tr>\n",
       "      <th>3</th>\n",
       "      <td>9320.293739</td>\n",
       "      <td>-18.388545</td>\n",
       "      <td>-2213.426644</td>\n",
       "      <td>-2426.803863</td>\n",
       "      <td>1230.792376</td>\n",
       "      <td>1165.619233</td>\n",
       "      <td>1869.075083</td>\n",
       "    </tr>\n",
       "    <tr>\n",
       "      <th>4</th>\n",
       "      <td>1715.996211</td>\n",
       "      <td>1351.865810</td>\n",
       "      <td>-1169.949268</td>\n",
       "      <td>-1168.829039</td>\n",
       "      <td>175.389114</td>\n",
       "      <td>489.897228</td>\n",
       "      <td>164.730632</td>\n",
       "    </tr>\n",
       "    <tr>\n",
       "      <th>...</th>\n",
       "      <td>...</td>\n",
       "      <td>...</td>\n",
       "      <td>...</td>\n",
       "      <td>...</td>\n",
       "      <td>...</td>\n",
       "      <td>...</td>\n",
       "      <td>...</td>\n",
       "    </tr>\n",
       "    <tr>\n",
       "      <th>625</th>\n",
       "      <td>14654.710436</td>\n",
       "      <td>-2215.367631</td>\n",
       "      <td>-5746.629605</td>\n",
       "      <td>-1913.506126</td>\n",
       "      <td>1816.260277</td>\n",
       "      <td>2788.467199</td>\n",
       "      <td>776.557118</td>\n",
       "    </tr>\n",
       "    <tr>\n",
       "      <th>626</th>\n",
       "      <td>24585.504540</td>\n",
       "      <td>-4459.925303</td>\n",
       "      <td>-8866.576428</td>\n",
       "      <td>-1883.912868</td>\n",
       "      <td>1914.158176</td>\n",
       "      <td>4804.976049</td>\n",
       "      <td>-315.485677</td>\n",
       "    </tr>\n",
       "    <tr>\n",
       "      <th>627</th>\n",
       "      <td>12311.115234</td>\n",
       "      <td>-1690.415105</td>\n",
       "      <td>-5165.880203</td>\n",
       "      <td>-1617.568643</td>\n",
       "      <td>1407.738383</td>\n",
       "      <td>2520.964813</td>\n",
       "      <td>414.737058</td>\n",
       "    </tr>\n",
       "    <tr>\n",
       "      <th>628</th>\n",
       "      <td>26699.860244</td>\n",
       "      <td>-5400.156412</td>\n",
       "      <td>-9429.978679</td>\n",
       "      <td>-2469.432392</td>\n",
       "      <td>3157.768306</td>\n",
       "      <td>5204.875029</td>\n",
       "      <td>447.439735</td>\n",
       "    </tr>\n",
       "    <tr>\n",
       "      <th>629</th>\n",
       "      <td>21941.398322</td>\n",
       "      <td>-3734.448890</td>\n",
       "      <td>-7191.432833</td>\n",
       "      <td>-2341.703696</td>\n",
       "      <td>2375.979023</td>\n",
       "      <td>4119.415507</td>\n",
       "      <td>475.962642</td>\n",
       "    </tr>\n",
       "  </tbody>\n",
       "</table>\n",
       "<p>630 rows × 7 columns</p>\n",
       "</div>"
      ],
      "text/plain": [
       "           league        games      minutes          pts       offReb  \\\n",
       "0      825.501541  1494.047802 -1158.679587 -1126.942917   149.667949   \n",
       "1     8193.245847   391.039195 -1952.818131 -2231.621780   830.310858   \n",
       "2      716.264599  1526.324074 -1164.997119 -1206.975378   209.141188   \n",
       "3     9320.293739   -18.388545 -2213.426644 -2426.803863  1230.792376   \n",
       "4     1715.996211  1351.865810 -1169.949268 -1168.829039   175.389114   \n",
       "..            ...          ...          ...          ...          ...   \n",
       "625  14654.710436 -2215.367631 -5746.629605 -1913.506126  1816.260277   \n",
       "626  24585.504540 -4459.925303 -8866.576428 -1883.912868  1914.158176   \n",
       "627  12311.115234 -1690.415105 -5165.880203 -1617.568643  1407.738383   \n",
       "628  26699.860244 -5400.156412 -9429.978679 -2469.432392  3157.768306   \n",
       "629  21941.398322 -3734.448890 -7191.432833 -2341.703696  2375.979023   \n",
       "\n",
       "          defReb          reb  \n",
       "0     412.970892   179.706089  \n",
       "1     966.401931  1741.208089  \n",
       "2     400.811123   265.916108  \n",
       "3    1165.619233  1869.075083  \n",
       "4     489.897228   164.730632  \n",
       "..           ...          ...  \n",
       "625  2788.467199   776.557118  \n",
       "626  4804.976049  -315.485677  \n",
       "627  2520.964813   414.737058  \n",
       "628  5204.875029   447.439735  \n",
       "629  4119.415507   475.962642  \n",
       "\n",
       "[630 rows x 7 columns]"
      ]
     },
     "execution_count": 42,
     "metadata": {},
     "output_type": "execute_result"
    }
   ],
   "source": [
    "training_features_pca"
   ]
  },
  {
   "cell_type": "code",
   "execution_count": 43,
   "metadata": {},
   "outputs": [
    {
     "data": {
      "text/plain": [
       "0      0.0\n",
       "1      0.0\n",
       "2      0.0\n",
       "3      0.0\n",
       "4      0.0\n",
       "      ... \n",
       "625    1.0\n",
       "626    1.0\n",
       "627    1.0\n",
       "628    1.0\n",
       "629    1.0\n",
       "Name: class, Length: 630, dtype: float64"
      ]
     },
     "execution_count": 43,
     "metadata": {},
     "output_type": "execute_result"
    }
   ],
   "source": [
    "training_targets"
   ]
  },
  {
   "cell_type": "markdown",
   "metadata": {},
   "source": [
    "# Random Forest Classifier on PCA data"
   ]
  },
  {
   "cell_type": "code",
   "execution_count": 44,
   "metadata": {},
   "outputs": [],
   "source": [
    "import timeit"
   ]
  },
  {
   "cell_type": "code",
   "execution_count": 45,
   "metadata": {},
   "outputs": [],
   "source": [
    "training_targets = training_targets.astype(int)\n",
    "test_targets = test_targets.astype(int)"
   ]
  },
  {
   "cell_type": "markdown",
   "metadata": {},
   "source": [
    "This will allow me to make further considerations about performance based on speed."
   ]
  },
  {
   "cell_type": "code",
   "execution_count": 46,
   "metadata": {},
   "outputs": [],
   "source": [
    "def profit_score(model, x, y=None):\n",
    "    cost = 0\n",
    "    profit = 0\n",
    "    preds = model.predict(x)\n",
    "    for i in range(len(x.index)-1):\n",
    "        value = x.get(x.index[i])\n",
    "        if preds[i] == 1:\n",
    "            if value != preds[i]:\n",
    "                cost += 20000\n",
    "            else:\n",
    "                profit += 80000\n",
    "    return profit-cost"
   ]
  },
  {
   "cell_type": "markdown",
   "metadata": {},
   "source": [
    "This scoring function allows to calculate the estimated profit of our model and optimize our model based on profit."
   ]
  },
  {
   "cell_type": "code",
   "execution_count": 47,
   "metadata": {},
   "outputs": [],
   "source": [
    "from sklearn.ensemble import RandomForestClassifier\n",
    "from sklearn.model_selection import GridSearchCV"
   ]
  },
  {
   "cell_type": "code",
   "execution_count": 48,
   "metadata": {},
   "outputs": [
    {
     "data": {
      "text/plain": [
       "{'criterion': 'gini',\n",
       " 'max_depth': 50,\n",
       " 'min_samples_leaf': 4,\n",
       " 'n_estimators': 200}"
      ]
     },
     "execution_count": 48,
     "metadata": {},
     "output_type": "execute_result"
    }
   ],
   "source": [
    "start = timeit.default_timer() #to keep track of running time\n",
    "param_grid={\n",
    "        'n_estimators' : [100, 200, 500],\n",
    "        'criterion': ['gini'],\n",
    "        'max_depth': [10, 50, 100],\n",
    "        'min_samples_leaf': [4, 8, 12],\n",
    "        \n",
    "        \n",
    "    }\n",
    "\n",
    "grid_pca = GridSearchCV(RandomForestClassifier(), param_grid, cv=10, scoring='roc_auc', refit='True', verbose=0)\n",
    "grid_pca.fit(training_features_pca, training_targets)\n",
    "\n",
    "best_n_estimators_pca = grid_pca.best_params_['n_estimators']\n",
    "grid_pca.best_params_"
   ]
  },
  {
   "cell_type": "code",
   "execution_count": 49,
   "metadata": {},
   "outputs": [],
   "source": [
    "rand_forest_pca = RandomForestClassifier(n_estimators=best_n_estimators_pca, criterion=\"gini\", random_state=42, max_depth=grid_pca.best_params_['max_depth'], min_samples_leaf=grid_pca.best_params_['min_samples_leaf']) \n",
    "rand_forest_pca.fit(training_features_pca, training_targets)\n",
    "\n",
    "stop = timeit.default_timer()\n",
    "Time_pca= (stop-start)"
   ]
  },
  {
   "cell_type": "markdown",
   "metadata": {},
   "source": [
    "And performed RandomForestClassifier with the best parameters obtained."
   ]
  },
  {
   "cell_type": "code",
   "execution_count": 50,
   "metadata": {},
   "outputs": [
    {
     "data": {
      "image/png": "[encoded data removed]",
      "text/plain": [
       "<Figure size 2160x720 with 1 Axes>"
      ]
     },
     "metadata": {},
     "output_type": "display_data"
    }
   ],
   "source": [
    "from sklearn import tree\n",
    "len(rand_forest_pca.estimators_)\n",
    "plt.figure(figsize=(30,10))\n",
    "_ = tree.plot_tree(rand_forest_pca.estimators_[0], filled=False)"
   ]
  },
  {
   "cell_type": "markdown",
   "metadata": {},
   "source": [
    "# Random Forest Classifier (without PCA)"
   ]
  },
  {
   "cell_type": "code",
   "execution_count": 51,
   "metadata": {},
   "outputs": [
    {
     "data": {
      "text/plain": [
       "{'criterion': 'gini',\n",
       " 'max_depth': 10,\n",
       " 'min_samples_leaf': 4,\n",
       " 'n_estimators': 500}"
      ]
     },
     "execution_count": 51,
     "metadata": {},
     "output_type": "execute_result"
    }
   ],
   "source": [
    "start_1 = timeit.default_timer()\n",
    "\n",
    "param_grid={\n",
    "        'n_estimators' : [100, 200, 500],\n",
    "        'criterion': ['gini'],\n",
    "        'max_depth': [10, 50, 100],\n",
    "        'min_samples_leaf': [4, 8, 12],\n",
    "        \n",
    "        \n",
    "    }\n",
    "\n",
    "\n",
    "grid = GridSearchCV(RandomForestClassifier(), param_grid, cv=10, scoring='roc_auc', refit='True', verbose=0)\n",
    "grid.fit(training_scaled_data, training_targets)\n",
    "\n",
    "best_n_estimators_not_pca = grid.best_params_['n_estimators']\n",
    "grid.best_params_"
   ]
  },
  {
   "cell_type": "code",
   "execution_count": 52,
   "metadata": {},
   "outputs": [],
   "source": [
    "rand_forest = RandomForestClassifier(n_estimators=best_n_estimators_pca, criterion=\"gini\", random_state=42, max_depth=grid_pca.best_params_['max_depth'], min_samples_leaf=grid.best_params_['min_samples_leaf'])\n",
    "rand_forest.fit(training_scaled_data, training_targets)\n",
    "\n",
    "stop_1 = timeit.default_timer()\n",
    "Time_not_pca= (stop_1-start_1)"
   ]
  },
  {
   "cell_type": "code",
   "execution_count": 53,
   "metadata": {
    "scrolled": true
   },
   "outputs": [
    {
     "data": {
      "image/png": "[encoded data removed]",
      "text/plain": [
       "<Figure size 2160x720 with 1 Axes>"
      ]
     },
     "metadata": {},
     "output_type": "display_data"
    }
   ],
   "source": [
    "from sklearn import tree\n",
    "len(rand_forest.estimators_)\n",
    "plt.figure(figsize=(30,10))\n",
    "_ = tree.plot_tree(rand_forest.estimators_[0], filled=False)"
   ]
  },
  {
   "cell_type": "markdown",
   "metadata": {},
   "source": [
    "# Performance metrics"
   ]
  },
  {
   "cell_type": "code",
   "execution_count": 54,
   "metadata": {},
   "outputs": [],
   "source": [
    "from sklearn.metrics import mean_squared_error, accuracy_score, classification_report, confusion_matrix\n",
    "from sklearn.model_selection import cross_val_score"
   ]
  },
  {
   "cell_type": "code",
   "execution_count": 55,
   "metadata": {},
   "outputs": [],
   "source": [
    "predictions_pca = rand_forest_pca.predict(test_features_pca)\n",
    "predictions_not_pca = rand_forest.predict(test_scaled_data)"
   ]
  },
  {
   "cell_type": "code",
   "execution_count": 56,
   "metadata": {},
   "outputs": [
    {
     "data": {
      "text/plain": [
       "0.06711409395973154"
      ]
     },
     "execution_count": 56,
     "metadata": {},
     "output_type": "execute_result"
    }
   ],
   "source": [
    "mean_squared_error_pca= mean_squared_error(test_targets, predictions_pca)\n",
    "mean_squared_error_pca"
   ]
  },
  {
   "cell_type": "code",
   "execution_count": 57,
   "metadata": {
    "scrolled": true
   },
   "outputs": [
    {
     "data": {
      "text/plain": [
       "array([0, 1, 0, 0, 1, 1, 0, 0, 0, 0, 0, 1, 0, 0, 1, 0, 0, 0, 0, 0, 0, 0,\n",
       "       0, 0, 0, 1, 0, 0, 0, 0, 1, 0, 0, 0, 0, 0, 1, 0, 1, 1, 0, 0, 0, 0,\n",
       "       0, 0, 0, 0, 1, 0, 1, 0, 1, 1, 0, 0, 1, 0, 0, 1, 0, 0, 0, 0, 0, 0,\n",
       "       0, 0, 0, 0, 0, 0, 0, 0, 0, 0, 0, 0, 0, 0, 0, 0, 0, 0, 0, 0, 0, 0,\n",
       "       1, 0, 0, 0, 0, 0, 0, 0, 0, 0, 0, 0, 0, 0, 1, 0, 1, 0, 0, 0, 0, 0,\n",
       "       0, 0, 0, 0, 0, 0, 0, 0, 0, 0, 0, 0, 1, 0, 0, 0, 0, 0, 0, 0, 1, 1,\n",
       "       0, 0, 0, 0, 0, 0, 0, 0, 0, 0, 0, 0, 0, 0, 0, 0, 0])"
      ]
     },
     "execution_count": 57,
     "metadata": {},
     "output_type": "execute_result"
    }
   ],
   "source": [
    "predictions_pca"
   ]
  },
  {
   "cell_type": "code",
   "execution_count": 58,
   "metadata": {},
   "outputs": [
    {
     "data": {
      "text/plain": [
       "0.9328859060402684"
      ]
     },
     "execution_count": 58,
     "metadata": {},
     "output_type": "execute_result"
    }
   ],
   "source": [
    "accuracy_pca = accuracy_score(test_targets, predictions_pca)\n",
    "accuracy_pca"
   ]
  },
  {
   "cell_type": "code",
   "execution_count": 59,
   "metadata": {
    "scrolled": true
   },
   "outputs": [
    {
     "name": "stdout",
     "output_type": "stream",
     "text": [
      "Profit with PCA is 860000\n",
      "Out of a potential maximum profit of 1120000\n"
     ]
    }
   ],
   "source": [
    "def profit(x,y):\n",
    "    cost = 0\n",
    "    profit = 0\n",
    "    for i in range(len(x.index)-1):\n",
    "        value = x.get(x.index[i])\n",
    "        if y[i] == 1:\n",
    "            if value != y[i]:\n",
    "                cost += 20000\n",
    "            else:\n",
    "                profit += 80000\n",
    "    return profit-cost\n",
    "\n",
    "def possible_profit(x):\n",
    "    profit = 0\n",
    "    for i in range(len(x.index)-1):\n",
    "        value = x.get(x.index[i])\n",
    "        if value == 1:\n",
    "            profit += 80000\n",
    "    return profit\n",
    "\n",
    "print(f'Profit with PCA is {profit(test_targets, predictions_pca)}')\n",
    "print(f'Out of a potential maximum profit of {possible_profit(test_targets)}')"
   ]
  },
  {
   "cell_type": "code",
   "execution_count": 60,
   "metadata": {
    "scrolled": true
   },
   "outputs": [
    {
     "data": {
      "image/png": "[encoded data removed]",
      "text/plain": [
       "<Figure size 1080x432 with 4 Axes>"
      ]
     },
     "metadata": {},
     "output_type": "display_data"
    }
   ],
   "source": [
    "fig = plt.figure(figsize=(15,6))\n",
    "\n",
    "ax1 = fig.add_subplot(121)\n",
    "clf_report = classification_report(test_targets, predictions_pca, output_dict=True)\n",
    "sns.heatmap(pd.DataFrame(clf_report).iloc[:-1, :].T, linewidths=2, annot=True)\n",
    "\n",
    "ax2 = fig.add_subplot(122)\n",
    "cm = confusion_matrix(test_targets, predictions_pca)\n",
    "sns.heatmap(cm, annot=True, linewidths=3, square = True, cmap = 'Blues_r')\n",
    "plt.show()"
   ]
  },
  {
   "cell_type": "markdown",
   "metadata": {},
   "source": [
    "Here I show the classification report including differnt perfomance measures such as recall and f-1 score and the confusion matrix that shows if the model is mislabeling one class as another one."
   ]
  },
  {
   "cell_type": "code",
   "execution_count": 61,
   "metadata": {
    "scrolled": true
   },
   "outputs": [
    {
     "data": {
      "text/plain": [
       "array([0, 0, 0, 0, 1, 0, 0, 0, 1, 0, 0, 1, 0, 0, 1, 0, 0, 0, 0, 0, 0, 0,\n",
       "       0, 0, 0, 1, 0, 0, 0, 0, 0, 0, 0, 0, 0, 0, 1, 0, 0, 0, 0, 0, 0, 0,\n",
       "       0, 0, 0, 0, 1, 0, 1, 0, 1, 0, 0, 0, 1, 0, 0, 0, 0, 0, 0, 0, 0, 0,\n",
       "       0, 0, 0, 0, 0, 0, 0, 0, 0, 0, 0, 0, 0, 0, 0, 0, 0, 0, 0, 0, 0, 0,\n",
       "       1, 0, 0, 0, 0, 0, 0, 0, 0, 0, 0, 0, 0, 0, 1, 0, 1, 0, 0, 0, 0, 0,\n",
       "       0, 0, 0, 0, 0, 0, 0, 0, 0, 0, 0, 0, 1, 0, 0, 0, 0, 0, 0, 0, 1, 1,\n",
       "       0, 0, 0, 0, 0, 0, 0, 0, 0, 0, 0, 0, 0, 0, 0, 0, 0])"
      ]
     },
     "execution_count": 61,
     "metadata": {},
     "output_type": "execute_result"
    }
   ],
   "source": [
    "predictions_not_pca"
   ]
  },
  {
   "cell_type": "code",
   "execution_count": 62,
   "metadata": {
    "scrolled": true
   },
   "outputs": [
    {
     "name": "stdout",
     "output_type": "stream",
     "text": [
      "cross_validation_accuracy = 0.9428571428571428\n"
     ]
    }
   ],
   "source": [
    "cross_val_score_train_pca =  cross_val_score(rand_forest_pca, training_data_pca, training_targets, cv=10).mean()\n",
    "print(f'cross_validation_accuracy = {cross_val_score_train_pca}')"
   ]
  },
  {
   "cell_type": "code",
   "execution_count": 63,
   "metadata": {},
   "outputs": [
    {
     "name": "stdout",
     "output_type": "stream",
     "text": [
      "cross_validation_roc_auc = 0.9891129032258064\n"
     ]
    }
   ],
   "source": [
    "cross_val_score_train_pca =  cross_val_score(rand_forest_pca, training_data_pca, training_targets, scoring='roc_auc', cv=10).mean()\n",
    "print(f'cross_validation_roc_auc = {cross_val_score_train_pca}')"
   ]
  },
  {
   "cell_type": "markdown",
   "metadata": {},
   "source": [
    "Then I show the same performance measures relative to the RandomForest_Classifier without PCA data."
   ]
  },
  {
   "cell_type": "code",
   "execution_count": 64,
   "metadata": {},
   "outputs": [
    {
     "data": {
      "text/plain": [
       "0.026845637583892617"
      ]
     },
     "execution_count": 64,
     "metadata": {},
     "output_type": "execute_result"
    }
   ],
   "source": [
    "mean_squared_error_not_pca= mean_squared_error(test_targets, predictions_not_pca)\n",
    "mean_squared_error_not_pca"
   ]
  },
  {
   "cell_type": "code",
   "execution_count": 65,
   "metadata": {},
   "outputs": [
    {
     "data": {
      "text/plain": [
       "0.9731543624161074"
      ]
     },
     "execution_count": 65,
     "metadata": {},
     "output_type": "execute_result"
    }
   ],
   "source": [
    "accuracy_not_pca = accuracy_score(test_targets, predictions_not_pca)\n",
    "accuracy_not_pca"
   ]
  },
  {
   "cell_type": "code",
   "execution_count": 66,
   "metadata": {
    "scrolled": false
   },
   "outputs": [
    {
     "name": "stdout",
     "output_type": "stream",
     "text": [
      "Profit without PCA is 980000\n",
      "Out of a potential maximum profit of 1120000\n"
     ]
    }
   ],
   "source": [
    "print(f'Profit without PCA is {profit(test_targets, predictions_not_pca)}')\n",
    "print(f'Out of a potential maximum profit of {possible_profit(test_targets)}')"
   ]
  },
  {
   "cell_type": "code",
   "execution_count": 67,
   "metadata": {
    "scrolled": true
   },
   "outputs": [
    {
     "data": {
      "image/png": "[encoded data removed]",
      "text/plain": [
       "<Figure size 1080x432 with 4 Axes>"
      ]
     },
     "metadata": {},
     "output_type": "display_data"
    }
   ],
   "source": [
    "fig = plt.figure(figsize=(15,6))\n",
    "\n",
    "ax1 = fig.add_subplot(121)\n",
    "clf_report = classification_report(test_targets, predictions_not_pca, output_dict=True)\n",
    "sns.heatmap(pd.DataFrame(clf_report).iloc[:-1, :].T, linewidths=2, annot=True)\n",
    "\n",
    "ax2 = fig.add_subplot(122)\n",
    "cm = confusion_matrix(test_targets, predictions_not_pca)\n",
    "sns.heatmap(cm, annot=True, linewidths=3, square = True, cmap = 'Blues_r')\n",
    "plt.show()"
   ]
  },
  {
   "cell_type": "code",
   "execution_count": 68,
   "metadata": {
    "scrolled": true
   },
   "outputs": [
    {
     "name": "stdout",
     "output_type": "stream",
     "text": [
      "cross_validation_accuracy = 0.9746031746031745\n"
     ]
    }
   ],
   "source": [
    "cross_val_score_train =  cross_val_score(rand_forest, training_scaled_data, training_targets, cv=10).mean()\n",
    "print(f'cross_validation_accuracy = {cross_val_score_train}')"
   ]
  },
  {
   "cell_type": "markdown",
   "metadata": {},
   "source": [
    "The accuracy in both cases is pretty high."
   ]
  },
  {
   "cell_type": "code",
   "execution_count": 69,
   "metadata": {},
   "outputs": [
    {
     "name": "stdout",
     "output_type": "stream",
     "text": [
      "cross_validation_roc_auc = 0.9966733870967742\n"
     ]
    }
   ],
   "source": [
    "cross_val_score_train =  cross_val_score(rand_forest, training_scaled_data, training_targets,scoring='roc_auc', cv=10).mean()\n",
    "print(f'cross_validation_roc_auc = {cross_val_score_train}')"
   ]
  },
  {
   "cell_type": "markdown",
   "metadata": {},
   "source": [
    "# Pipeline strategy"
   ]
  },
  {
   "cell_type": "markdown",
   "metadata": {},
   "source": [
    "In this section I decided to implement a different strategy in order to find the optimal vallue for the model and the optimal number of principal components:\n",
    "\n",
    "I use a pipeline to optimize my parameters, including the number of principal components, using GridSearchCV, so that I can also check my results by cross validation."
   ]
  },
  {
   "cell_type": "code",
   "execution_count": 70,
   "metadata": {},
   "outputs": [],
   "source": [
    "from sklearn.pipeline import Pipeline\n",
    "from sklearn import linear_model, decomposition"
   ]
  },
  {
   "cell_type": "code",
   "execution_count": 71,
   "metadata": {},
   "outputs": [],
   "source": [
    "start_3 = timeit.default_timer()\n",
    "\n",
    "sc = StandardScaler() #scaler object\n",
    "\n",
    "pca = decomposition.PCA() #PCA object\n",
    "\n",
    "RandomForest = sklearn.ensemble.RandomForestClassifier #RandomForestClassifier object"
   ]
  },
  {
   "cell_type": "code",
   "execution_count": 72,
   "metadata": {},
   "outputs": [],
   "source": [
    "pipe= Pipeline(steps=[('sc', sc),\n",
    "                     ('pca', pca),\n",
    "                     ('classifier', RandomForestClassifier())])"
   ]
  },
  {
   "cell_type": "markdown",
   "metadata": {},
   "source": [
    "Here I implemented the pipeline using StandardScaler and PCA:"
   ]
  },
  {
   "cell_type": "code",
   "execution_count": 73,
   "metadata": {},
   "outputs": [],
   "source": [
    "hyperparameters = { \n",
    "                    'pca__n_components': [5, 7, 8, 9, 10, 15, 20, 24],\n",
    "                    'classifier__n_estimators': [50, 100, 200],\n",
    "                    'classifier__max_depth': [4, 8, 12],\n",
    "                    'classifier__min_samples_leaf': [4, 8, 12]\n",
    "                  }"
   ]
  },
  {
   "cell_type": "markdown",
   "metadata": {},
   "source": [
    "These are the parameters to optimize and by using scoring=None in GridSearchCV, the strategy to evaluate performance will be the roc_auc."
   ]
  },
  {
   "cell_type": "code",
   "execution_count": 74,
   "metadata": {},
   "outputs": [
    {
     "data": {
      "text/html": [
       "<style>#sk-container-id-3 {color: black;background-color: white;}#sk-container-id-3 pre{padding: 0;}#sk-container-id-3 div.sk-toggleable {background-color: white;}#sk-container-id-3 label.sk-toggleable__label {cursor: pointer;display: block;width: 100%;margin-bottom: 0;padding: 0.3em;box-sizing: border-box;text-align: center;}#sk-container-id-3 label.sk-toggleable__label-arrow:before {content: \"▸\";float: left;margin-right: 0.25em;color: #696969;}#sk-container-id-3 label.sk-toggleable__label-arrow:hover:before {color: black;}#sk-container-id-3 div.sk-estimator:hover label.sk-toggleable__label-arrow:before {color: black;}#sk-container-id-3 div.sk-toggleable__content {max-height: 0;max-width: 0;overflow: hidden;text-align: left;background-color: #f0f8ff;}#sk-container-id-3 div.sk-toggleable__content pre {margin: 0.2em;color: black;border-radius: 0.25em;background-color: #f0f8ff;}#sk-container-id-3 input.sk-toggleable__control:checked~div.sk-toggleable__content {max-height: 200px;max-width: 100%;overflow: auto;}#sk-container-id-3 input.sk-toggleable__control:checked~label.sk-toggleable__label-arrow:before {content: \"▾\";}#sk-container-id-3 div.sk-estimator input.sk-toggleable__control:checked~label.sk-toggleable__label {background-color: #d4ebff;}#sk-container-id-3 div.sk-label input.sk-toggleable__control:checked~label.sk-toggleable__label {background-color: #d4ebff;}#sk-container-id-3 input.sk-hidden--visually {border: 0;clip: rect(1px 1px 1px 1px);clip: rect(1px, 1px, 1px, 1px);height: 1px;margin: -1px;overflow: hidden;padding: 0;position: absolute;width: 1px;}#sk-container-id-3 div.sk-estimator {font-family: monospace;background-color: #f0f8ff;border: 1px dotted black;border-radius: 0.25em;box-sizing: border-box;margin-bottom: 0.5em;}#sk-container-id-3 div.sk-estimator:hover {background-color: #d4ebff;}#sk-container-id-3 div.sk-parallel-item::after {content: \"\";width: 100%;border-bottom: 1px solid gray;flex-grow: 1;}#sk-container-id-3 div.sk-label:hover label.sk-toggleable__label {background-color: #d4ebff;}#sk-container-id-3 div.sk-serial::before {content: \"\";position: absolute;border-left: 1px solid gray;box-sizing: border-box;top: 0;bottom: 0;left: 50%;z-index: 0;}#sk-container-id-3 div.sk-serial {display: flex;flex-direction: column;align-items: center;background-color: white;padding-right: 0.2em;padding-left: 0.2em;position: relative;}#sk-container-id-3 div.sk-item {position: relative;z-index: 1;}#sk-container-id-3 div.sk-parallel {display: flex;align-items: stretch;justify-content: center;background-color: white;position: relative;}#sk-container-id-3 div.sk-item::before, #sk-container-id-3 div.sk-parallel-item::before {content: \"\";position: absolute;border-left: 1px solid gray;box-sizing: border-box;top: 0;bottom: 0;left: 50%;z-index: -1;}#sk-container-id-3 div.sk-parallel-item {display: flex;flex-direction: column;z-index: 1;position: relative;background-color: white;}#sk-container-id-3 div.sk-parallel-item:first-child::after {align-self: flex-end;width: 50%;}#sk-container-id-3 div.sk-parallel-item:last-child::after {align-self: flex-start;width: 50%;}#sk-container-id-3 div.sk-parallel-item:only-child::after {width: 0;}#sk-container-id-3 div.sk-dashed-wrapped {border: 1px dashed gray;margin: 0 0.4em 0.5em 0.4em;box-sizing: border-box;padding-bottom: 0.4em;background-color: white;}#sk-container-id-3 div.sk-label label {font-family: monospace;font-weight: bold;display: inline-block;line-height: 1.2em;}#sk-container-id-3 div.sk-label-container {text-align: center;}#sk-container-id-3 div.sk-container {/* jupyter's `normalize.less` sets `[hidden] { display: none; }` but bootstrap.min.css set `[hidden] { display: none !important; }` so we also need the `!important` here to be able to override the default hidden behavior on the sphinx rendered scikit-learn.org. See: https://github.com/scikit-learn/scikit-learn/issues/21755 */display: inline-block !important;position: relative;}#sk-container-id-3 div.sk-text-repr-fallback {display: none;}</style><div id=\"sk-container-id-3\" class=\"sk-top-container\"><div class=\"sk-text-repr-fallback\"><pre>GridSearchCV(cv=5,\n",
       "             estimator=Pipeline(steps=[(&#x27;sc&#x27;, StandardScaler()), (&#x27;pca&#x27;, PCA()),\n",
       "                                       (&#x27;classifier&#x27;,\n",
       "                                        RandomForestClassifier())]),\n",
       "             param_grid={&#x27;classifier__max_depth&#x27;: [4, 8, 12],\n",
       "                         &#x27;classifier__min_samples_leaf&#x27;: [4, 8, 12],\n",
       "                         &#x27;classifier__n_estimators&#x27;: [50, 100, 200],\n",
       "                         &#x27;pca__n_components&#x27;: [5, 7, 8, 9, 10, 15, 20, 24]},\n",
       "             scoring=&#x27;roc_auc&#x27;)</pre><b>In a Jupyter environment, please rerun this cell to show the HTML representation or trust the notebook. <br />On GitHub, the HTML representation is unable to render, please try loading this page with nbviewer.org.</b></div><div class=\"sk-container\" hidden><div class=\"sk-item sk-dashed-wrapped\"><div class=\"sk-label-container\"><div class=\"sk-label sk-toggleable\"><input class=\"sk-toggleable__control sk-hidden--visually\" id=\"sk-estimator-id-3\" type=\"checkbox\" ><label for=\"sk-estimator-id-3\" class=\"sk-toggleable__label sk-toggleable__label-arrow\">GridSearchCV</label><div class=\"sk-toggleable__content\"><pre>GridSearchCV(cv=5,\n",
       "             estimator=Pipeline(steps=[(&#x27;sc&#x27;, StandardScaler()), (&#x27;pca&#x27;, PCA()),\n",
       "                                       (&#x27;classifier&#x27;,\n",
       "                                        RandomForestClassifier())]),\n",
       "             param_grid={&#x27;classifier__max_depth&#x27;: [4, 8, 12],\n",
       "                         &#x27;classifier__min_samples_leaf&#x27;: [4, 8, 12],\n",
       "                         &#x27;classifier__n_estimators&#x27;: [50, 100, 200],\n",
       "                         &#x27;pca__n_components&#x27;: [5, 7, 8, 9, 10, 15, 20, 24]},\n",
       "             scoring=&#x27;roc_auc&#x27;)</pre></div></div></div><div class=\"sk-parallel\"><div class=\"sk-parallel-item\"><div class=\"sk-item\"><div class=\"sk-label-container\"><div class=\"sk-label sk-toggleable\"><input class=\"sk-toggleable__control sk-hidden--visually\" id=\"sk-estimator-id-4\" type=\"checkbox\" ><label for=\"sk-estimator-id-4\" class=\"sk-toggleable__label sk-toggleable__label-arrow\">estimator: Pipeline</label><div class=\"sk-toggleable__content\"><pre>Pipeline(steps=[(&#x27;sc&#x27;, StandardScaler()), (&#x27;pca&#x27;, PCA()),\n",
       "                (&#x27;classifier&#x27;, RandomForestClassifier())])</pre></div></div></div><div class=\"sk-serial\"><div class=\"sk-item\"><div class=\"sk-serial\"><div class=\"sk-item\"><div class=\"sk-estimator sk-toggleable\"><input class=\"sk-toggleable__control sk-hidden--visually\" id=\"sk-estimator-id-5\" type=\"checkbox\" ><label for=\"sk-estimator-id-5\" class=\"sk-toggleable__label sk-toggleable__label-arrow\">StandardScaler</label><div class=\"sk-toggleable__content\"><pre>StandardScaler()</pre></div></div></div><div class=\"sk-item\"><div class=\"sk-estimator sk-toggleable\"><input class=\"sk-toggleable__control sk-hidden--visually\" id=\"sk-estimator-id-6\" type=\"checkbox\" ><label for=\"sk-estimator-id-6\" class=\"sk-toggleable__label sk-toggleable__label-arrow\">PCA</label><div class=\"sk-toggleable__content\"><pre>PCA()</pre></div></div></div><div class=\"sk-item\"><div class=\"sk-estimator sk-toggleable\"><input class=\"sk-toggleable__control sk-hidden--visually\" id=\"sk-estimator-id-7\" type=\"checkbox\" ><label for=\"sk-estimator-id-7\" class=\"sk-toggleable__label sk-toggleable__label-arrow\">RandomForestClassifier</label><div class=\"sk-toggleable__content\"><pre>RandomForestClassifier()</pre></div></div></div></div></div></div></div></div></div></div></div></div>"
      ],
      "text/plain": [
       "GridSearchCV(cv=5,\n",
       "             estimator=Pipeline(steps=[('sc', StandardScaler()), ('pca', PCA()),\n",
       "                                       ('classifier',\n",
       "                                        RandomForestClassifier())]),\n",
       "             param_grid={'classifier__max_depth': [4, 8, 12],\n",
       "                         'classifier__min_samples_leaf': [4, 8, 12],\n",
       "                         'classifier__n_estimators': [50, 100, 200],\n",
       "                         'pca__n_components': [5, 7, 8, 9, 10, 15, 20, 24]},\n",
       "             scoring='roc_auc')"
      ]
     },
     "execution_count": 74,
     "metadata": {},
     "output_type": "execute_result"
    }
   ],
   "source": [
    "clf = GridSearchCV(pipe, hyperparameters, cv=5, scoring='roc_auc')\n",
    "\n",
    "clf.fit(training_data, training_targets)"
   ]
  },
  {
   "cell_type": "code",
   "execution_count": 75,
   "metadata": {},
   "outputs": [],
   "source": [
    "stop_3 = timeit.default_timer()\n",
    "Time_pipeline= (stop_3-start_3)"
   ]
  },
  {
   "cell_type": "code",
   "execution_count": 76,
   "metadata": {},
   "outputs": [
    {
     "name": "stdout",
     "output_type": "stream",
     "text": [
      "Best classifier__pca__n_components: 20\n",
      "Best classifier__n_estimators: 50\n",
      "Best classifier__max_depth: 12\n",
      "Best classifier__min_samples_leaf: 4\n",
      "\n",
      "RandomForestClassifier(max_depth=12, min_samples_leaf=4, n_estimators=50)\n"
     ]
    }
   ],
   "source": [
    "print('Best classifier__pca__n_components:', clf.best_estimator_.get_params()['pca__n_components'])\n",
    "print('Best classifier__n_estimators:', clf.best_estimator_.get_params()['classifier__n_estimators'])\n",
    "print('Best classifier__max_depth:', clf.best_estimator_.get_params()['classifier__max_depth'])\n",
    "print('Best classifier__min_samples_leaf:', clf.best_estimator_.get_params()['classifier__min_samples_leaf'])\n",
    "print(); print(clf.best_estimator_.get_params()['classifier'])\n",
    "\n"
   ]
  },
  {
   "cell_type": "code",
   "execution_count": 77,
   "metadata": {},
   "outputs": [
    {
     "name": "stdout",
     "output_type": "stream",
     "text": [
      "\n",
      "CV_result: [0.99269337 1.         0.99899219 0.99974805 1.        ]\n",
      "\n",
      "Mean of CV_Result: 0.9982867220962458\n",
      "\n",
      "Standard Deviation of CV_Result: 0.0028209695141907017\n"
     ]
    }
   ],
   "source": [
    "CV_Result = cross_val_score(clf, training_data, training_targets, scoring='roc_auc',cv=5, n_jobs=-1)\n",
    "print(); print('CV_result:', CV_Result)\n",
    "print(); print('Mean of CV_Result:',CV_Result.mean())\n",
    "print(); print('Standard Deviation of CV_Result:',CV_Result.std())"
   ]
  },
  {
   "cell_type": "markdown",
   "metadata": {},
   "source": [
    "I also use cross validation to check the Cross Validation score of our RandomForestClassifier."
   ]
  },
  {
   "cell_type": "markdown",
   "metadata": {},
   "source": [
    "# Feature selection using a Pipeline"
   ]
  },
  {
   "cell_type": "markdown",
   "metadata": {},
   "source": [
    "Here I perform a twin version of the previous Pipeline where I implement feature selection inside the Pipeline to compare the results"
   ]
  },
  {
   "cell_type": "code",
   "execution_count": 79,
   "metadata": {},
   "outputs": [],
   "source": [
    "from sklearn.feature_selection import SelectFromModel\n",
    "from sklearn.svm import LinearSVC"
   ]
  },
  {
   "cell_type": "code",
   "execution_count": 80,
   "metadata": {},
   "outputs": [],
   "source": [
    "pipe= Pipeline(steps=[('sc', sc),\n",
    "                     ('feature_selection', SelectFromModel(LinearSVC(C=0.01, penalty=\"l1\", dual=False))),\n",
    "                     ('classifier', RandomForestClassifier())])"
   ]
  },
  {
   "cell_type": "code",
   "execution_count": 81,
   "metadata": {},
   "outputs": [],
   "source": [
    "hyperparameters = { \n",
    "                    'feature_selection__max_features': [3, 5, 7, 8, 9, 10, 15, 20, 24],\n",
    "                    'classifier__n_estimators': [50, 100, 200],\n",
    "                    'classifier__max_depth': [4, 8, 12],\n",
    "                    'classifier__min_samples_leaf': [4, 8, 12]\n",
    "                  }"
   ]
  },
  {
   "cell_type": "code",
   "execution_count": 82,
   "metadata": {},
   "outputs": [
    {
     "data": {
      "text/html": [
       "<style>#sk-container-id-4 {color: black;background-color: white;}#sk-container-id-4 pre{padding: 0;}#sk-container-id-4 div.sk-toggleable {background-color: white;}#sk-container-id-4 label.sk-toggleable__label {cursor: pointer;display: block;width: 100%;margin-bottom: 0;padding: 0.3em;box-sizing: border-box;text-align: center;}#sk-container-id-4 label.sk-toggleable__label-arrow:before {content: \"▸\";float: left;margin-right: 0.25em;color: #696969;}#sk-container-id-4 label.sk-toggleable__label-arrow:hover:before {color: black;}#sk-container-id-4 div.sk-estimator:hover label.sk-toggleable__label-arrow:before {color: black;}#sk-container-id-4 div.sk-toggleable__content {max-height: 0;max-width: 0;overflow: hidden;text-align: left;background-color: #f0f8ff;}#sk-container-id-4 div.sk-toggleable__content pre {margin: 0.2em;color: black;border-radius: 0.25em;background-color: #f0f8ff;}#sk-container-id-4 input.sk-toggleable__control:checked~div.sk-toggleable__content {max-height: 200px;max-width: 100%;overflow: auto;}#sk-container-id-4 input.sk-toggleable__control:checked~label.sk-toggleable__label-arrow:before {content: \"▾\";}#sk-container-id-4 div.sk-estimator input.sk-toggleable__control:checked~label.sk-toggleable__label {background-color: #d4ebff;}#sk-container-id-4 div.sk-label input.sk-toggleable__control:checked~label.sk-toggleable__label {background-color: #d4ebff;}#sk-container-id-4 input.sk-hidden--visually {border: 0;clip: rect(1px 1px 1px 1px);clip: rect(1px, 1px, 1px, 1px);height: 1px;margin: -1px;overflow: hidden;padding: 0;position: absolute;width: 1px;}#sk-container-id-4 div.sk-estimator {font-family: monospace;background-color: #f0f8ff;border: 1px dotted black;border-radius: 0.25em;box-sizing: border-box;margin-bottom: 0.5em;}#sk-container-id-4 div.sk-estimator:hover {background-color: #d4ebff;}#sk-container-id-4 div.sk-parallel-item::after {content: \"\";width: 100%;border-bottom: 1px solid gray;flex-grow: 1;}#sk-container-id-4 div.sk-label:hover label.sk-toggleable__label {background-color: #d4ebff;}#sk-container-id-4 div.sk-serial::before {content: \"\";position: absolute;border-left: 1px solid gray;box-sizing: border-box;top: 0;bottom: 0;left: 50%;z-index: 0;}#sk-container-id-4 div.sk-serial {display: flex;flex-direction: column;align-items: center;background-color: white;padding-right: 0.2em;padding-left: 0.2em;position: relative;}#sk-container-id-4 div.sk-item {position: relative;z-index: 1;}#sk-container-id-4 div.sk-parallel {display: flex;align-items: stretch;justify-content: center;background-color: white;position: relative;}#sk-container-id-4 div.sk-item::before, #sk-container-id-4 div.sk-parallel-item::before {content: \"\";position: absolute;border-left: 1px solid gray;box-sizing: border-box;top: 0;bottom: 0;left: 50%;z-index: -1;}#sk-container-id-4 div.sk-parallel-item {display: flex;flex-direction: column;z-index: 1;position: relative;background-color: white;}#sk-container-id-4 div.sk-parallel-item:first-child::after {align-self: flex-end;width: 50%;}#sk-container-id-4 div.sk-parallel-item:last-child::after {align-self: flex-start;width: 50%;}#sk-container-id-4 div.sk-parallel-item:only-child::after {width: 0;}#sk-container-id-4 div.sk-dashed-wrapped {border: 1px dashed gray;margin: 0 0.4em 0.5em 0.4em;box-sizing: border-box;padding-bottom: 0.4em;background-color: white;}#sk-container-id-4 div.sk-label label {font-family: monospace;font-weight: bold;display: inline-block;line-height: 1.2em;}#sk-container-id-4 div.sk-label-container {text-align: center;}#sk-container-id-4 div.sk-container {/* jupyter's `normalize.less` sets `[hidden] { display: none; }` but bootstrap.min.css set `[hidden] { display: none !important; }` so we also need the `!important` here to be able to override the default hidden behavior on the sphinx rendered scikit-learn.org. See: https://github.com/scikit-learn/scikit-learn/issues/21755 */display: inline-block !important;position: relative;}#sk-container-id-4 div.sk-text-repr-fallback {display: none;}</style><div id=\"sk-container-id-4\" class=\"sk-top-container\"><div class=\"sk-text-repr-fallback\"><pre>GridSearchCV(cv=5,\n",
       "             estimator=Pipeline(steps=[(&#x27;sc&#x27;, StandardScaler()),\n",
       "                                       (&#x27;feature_selection&#x27;,\n",
       "                                        SelectFromModel(estimator=LinearSVC(C=0.01,\n",
       "                                                                            dual=False,\n",
       "                                                                            penalty=&#x27;l1&#x27;))),\n",
       "                                       (&#x27;classifier&#x27;,\n",
       "                                        RandomForestClassifier())]),\n",
       "             param_grid={&#x27;classifier__max_depth&#x27;: [4, 8, 12],\n",
       "                         &#x27;classifier__min_samples_leaf&#x27;: [4, 8, 12],\n",
       "                         &#x27;classifier__n_estimators&#x27;: [50, 100, 200],\n",
       "                         &#x27;feature_selection__max_features&#x27;: [3, 5, 7, 8, 9, 10,\n",
       "                                                             15, 20, 24]},\n",
       "             scoring=&#x27;roc_auc&#x27;)</pre><b>In a Jupyter environment, please rerun this cell to show the HTML representation or trust the notebook. <br />On GitHub, the HTML representation is unable to render, please try loading this page with nbviewer.org.</b></div><div class=\"sk-container\" hidden><div class=\"sk-item sk-dashed-wrapped\"><div class=\"sk-label-container\"><div class=\"sk-label sk-toggleable\"><input class=\"sk-toggleable__control sk-hidden--visually\" id=\"sk-estimator-id-8\" type=\"checkbox\" ><label for=\"sk-estimator-id-8\" class=\"sk-toggleable__label sk-toggleable__label-arrow\">GridSearchCV</label><div class=\"sk-toggleable__content\"><pre>GridSearchCV(cv=5,\n",
       "             estimator=Pipeline(steps=[(&#x27;sc&#x27;, StandardScaler()),\n",
       "                                       (&#x27;feature_selection&#x27;,\n",
       "                                        SelectFromModel(estimator=LinearSVC(C=0.01,\n",
       "                                                                            dual=False,\n",
       "                                                                            penalty=&#x27;l1&#x27;))),\n",
       "                                       (&#x27;classifier&#x27;,\n",
       "                                        RandomForestClassifier())]),\n",
       "             param_grid={&#x27;classifier__max_depth&#x27;: [4, 8, 12],\n",
       "                         &#x27;classifier__min_samples_leaf&#x27;: [4, 8, 12],\n",
       "                         &#x27;classifier__n_estimators&#x27;: [50, 100, 200],\n",
       "                         &#x27;feature_selection__max_features&#x27;: [3, 5, 7, 8, 9, 10,\n",
       "                                                             15, 20, 24]},\n",
       "             scoring=&#x27;roc_auc&#x27;)</pre></div></div></div><div class=\"sk-parallel\"><div class=\"sk-parallel-item\"><div class=\"sk-item\"><div class=\"sk-label-container\"><div class=\"sk-label sk-toggleable\"><input class=\"sk-toggleable__control sk-hidden--visually\" id=\"sk-estimator-id-9\" type=\"checkbox\" ><label for=\"sk-estimator-id-9\" class=\"sk-toggleable__label sk-toggleable__label-arrow\">estimator: Pipeline</label><div class=\"sk-toggleable__content\"><pre>Pipeline(steps=[(&#x27;sc&#x27;, StandardScaler()),\n",
       "                (&#x27;feature_selection&#x27;,\n",
       "                 SelectFromModel(estimator=LinearSVC(C=0.01, dual=False,\n",
       "                                                     penalty=&#x27;l1&#x27;))),\n",
       "                (&#x27;classifier&#x27;, RandomForestClassifier())])</pre></div></div></div><div class=\"sk-serial\"><div class=\"sk-item\"><div class=\"sk-serial\"><div class=\"sk-item\"><div class=\"sk-estimator sk-toggleable\"><input class=\"sk-toggleable__control sk-hidden--visually\" id=\"sk-estimator-id-10\" type=\"checkbox\" ><label for=\"sk-estimator-id-10\" class=\"sk-toggleable__label sk-toggleable__label-arrow\">StandardScaler</label><div class=\"sk-toggleable__content\"><pre>StandardScaler()</pre></div></div></div><div class=\"sk-item sk-dashed-wrapped\"><div class=\"sk-label-container\"><div class=\"sk-label sk-toggleable\"><input class=\"sk-toggleable__control sk-hidden--visually\" id=\"sk-estimator-id-11\" type=\"checkbox\" ><label for=\"sk-estimator-id-11\" class=\"sk-toggleable__label sk-toggleable__label-arrow\">feature_selection: SelectFromModel</label><div class=\"sk-toggleable__content\"><pre>SelectFromModel(estimator=LinearSVC(C=0.01, dual=False, penalty=&#x27;l1&#x27;))</pre></div></div></div><div class=\"sk-parallel\"><div class=\"sk-parallel-item\"><div class=\"sk-item\"><div class=\"sk-label-container\"><div class=\"sk-label sk-toggleable\"><input class=\"sk-toggleable__control sk-hidden--visually\" id=\"sk-estimator-id-12\" type=\"checkbox\" ><label for=\"sk-estimator-id-12\" class=\"sk-toggleable__label sk-toggleable__label-arrow\">estimator: LinearSVC</label><div class=\"sk-toggleable__content\"><pre>LinearSVC(C=0.01, dual=False, penalty=&#x27;l1&#x27;)</pre></div></div></div><div class=\"sk-serial\"><div class=\"sk-item\"><div class=\"sk-estimator sk-toggleable\"><input class=\"sk-toggleable__control sk-hidden--visually\" id=\"sk-estimator-id-13\" type=\"checkbox\" ><label for=\"sk-estimator-id-13\" class=\"sk-toggleable__label sk-toggleable__label-arrow\">LinearSVC</label><div class=\"sk-toggleable__content\"><pre>LinearSVC(C=0.01, dual=False, penalty=&#x27;l1&#x27;)</pre></div></div></div></div></div></div></div></div><div class=\"sk-item\"><div class=\"sk-estimator sk-toggleable\"><input class=\"sk-toggleable__control sk-hidden--visually\" id=\"sk-estimator-id-14\" type=\"checkbox\" ><label for=\"sk-estimator-id-14\" class=\"sk-toggleable__label sk-toggleable__label-arrow\">RandomForestClassifier</label><div class=\"sk-toggleable__content\"><pre>RandomForestClassifier()</pre></div></div></div></div></div></div></div></div></div></div></div></div>"
      ],
      "text/plain": [
       "GridSearchCV(cv=5,\n",
       "             estimator=Pipeline(steps=[('sc', StandardScaler()),\n",
       "                                       ('feature_selection',\n",
       "                                        SelectFromModel(estimator=LinearSVC(C=0.01,\n",
       "                                                                            dual=False,\n",
       "                                                                            penalty='l1'))),\n",
       "                                       ('classifier',\n",
       "                                        RandomForestClassifier())]),\n",
       "             param_grid={'classifier__max_depth': [4, 8, 12],\n",
       "                         'classifier__min_samples_leaf': [4, 8, 12],\n",
       "                         'classifier__n_estimators': [50, 100, 200],\n",
       "                         'feature_selection__max_features': [3, 5, 7, 8, 9, 10,\n",
       "                                                             15, 20, 24]},\n",
       "             scoring='roc_auc')"
      ]
     },
     "execution_count": 82,
     "metadata": {},
     "output_type": "execute_result"
    }
   ],
   "source": [
    "clf = GridSearchCV(pipe, hyperparameters, cv=5, scoring='roc_auc')\n",
    "\n",
    "clf.fit(training_data, training_targets)"
   ]
  },
  {
   "cell_type": "code",
   "execution_count": 83,
   "metadata": {},
   "outputs": [
    {
     "name": "stdout",
     "output_type": "stream",
     "text": [
      "Best feature_selection__max_features: 8\n",
      "Best classifier__n_estimators: 200\n",
      "Best classifier__max_depth: 8\n",
      "Best classifier__min_samples_leaf: 4\n",
      "\n",
      "RandomForestClassifier(max_depth=8, min_samples_leaf=4, n_estimators=200)\n"
     ]
    }
   ],
   "source": [
    "print('Best feature_selection__max_features:', clf.best_estimator_.get_params()['feature_selection__max_features'])\n",
    "print('Best classifier__n_estimators:', clf.best_estimator_.get_params()['classifier__n_estimators'])\n",
    "print('Best classifier__max_depth:', clf.best_estimator_.get_params()['classifier__max_depth'])\n",
    "print('Best classifier__min_samples_leaf:', clf.best_estimator_.get_params()['classifier__min_samples_leaf'])\n",
    "print(); print(clf.best_estimator_.get_params()['classifier'])"
   ]
  },
  {
   "cell_type": "code",
   "execution_count": 84,
   "metadata": {},
   "outputs": [
    {
     "name": "stdout",
     "output_type": "stream",
     "text": [
      "\n",
      "CV_result: [0.99697657 0.98966994 0.99395314 0.99697657 0.98412698]\n",
      "\n",
      "Mean of CV_Result: 0.9923406399596877\n",
      "\n",
      "Standard Deviation of CV_Result: 0.00490266418703163\n"
     ]
    }
   ],
   "source": [
    "CV_Result = cross_val_score(clf, training_data, training_targets, scoring='roc_auc',cv=5, n_jobs=-1)\n",
    "print(); print('CV_result:', CV_Result)\n",
    "print(); print('Mean of CV_Result:',CV_Result.mean())\n",
    "print(); print('Standard Deviation of CV_Result:',CV_Result.std())"
   ]
  },
  {
   "cell_type": "markdown",
   "metadata": {},
   "source": [
    "# Alternative models"
   ]
  },
  {
   "cell_type": "markdown",
   "metadata": {},
   "source": [
    "In this section I try to choose an alternative model, based on mean_squared_error, so I randomly split my data again and I perform PCA."
   ]
  },
  {
   "cell_type": "code",
   "execution_count": 86,
   "metadata": {},
   "outputs": [],
   "source": [
    "pd.set_option('mode.chained_assignment',None) #to avoid display of chained assignment warning\n",
    "training_data, test_data = train_test_split(data, test_size=0.20)\n",
    "\n",
    "training_targets = training_data.iloc[:, 0] \n",
    "test_targets =  test_data.iloc[:, 0]\n",
    "\n",
    "training_data.drop(columns=[\"class\"], inplace=True)\n",
    "test_data.drop(columns=[\"class\"], inplace=True)"
   ]
  },
  {
   "cell_type": "code",
   "execution_count": 87,
   "metadata": {},
   "outputs": [],
   "source": [
    "training_targets = training_targets.astype(int)\n",
    "test_target = test_targets.astype(int)"
   ]
  },
  {
   "cell_type": "code",
   "execution_count": 88,
   "metadata": {},
   "outputs": [
    {
     "data": {
      "text/html": [
       "<style>#sk-container-id-5 {color: black;background-color: white;}#sk-container-id-5 pre{padding: 0;}#sk-container-id-5 div.sk-toggleable {background-color: white;}#sk-container-id-5 label.sk-toggleable__label {cursor: pointer;display: block;width: 100%;margin-bottom: 0;padding: 0.3em;box-sizing: border-box;text-align: center;}#sk-container-id-5 label.sk-toggleable__label-arrow:before {content: \"▸\";float: left;margin-right: 0.25em;color: #696969;}#sk-container-id-5 label.sk-toggleable__label-arrow:hover:before {color: black;}#sk-container-id-5 div.sk-estimator:hover label.sk-toggleable__label-arrow:before {color: black;}#sk-container-id-5 div.sk-toggleable__content {max-height: 0;max-width: 0;overflow: hidden;text-align: left;background-color: #f0f8ff;}#sk-container-id-5 div.sk-toggleable__content pre {margin: 0.2em;color: black;border-radius: 0.25em;background-color: #f0f8ff;}#sk-container-id-5 input.sk-toggleable__control:checked~div.sk-toggleable__content {max-height: 200px;max-width: 100%;overflow: auto;}#sk-container-id-5 input.sk-toggleable__control:checked~label.sk-toggleable__label-arrow:before {content: \"▾\";}#sk-container-id-5 div.sk-estimator input.sk-toggleable__control:checked~label.sk-toggleable__label {background-color: #d4ebff;}#sk-container-id-5 div.sk-label input.sk-toggleable__control:checked~label.sk-toggleable__label {background-color: #d4ebff;}#sk-container-id-5 input.sk-hidden--visually {border: 0;clip: rect(1px 1px 1px 1px);clip: rect(1px, 1px, 1px, 1px);height: 1px;margin: -1px;overflow: hidden;padding: 0;position: absolute;width: 1px;}#sk-container-id-5 div.sk-estimator {font-family: monospace;background-color: #f0f8ff;border: 1px dotted black;border-radius: 0.25em;box-sizing: border-box;margin-bottom: 0.5em;}#sk-container-id-5 div.sk-estimator:hover {background-color: #d4ebff;}#sk-container-id-5 div.sk-parallel-item::after {content: \"\";width: 100%;border-bottom: 1px solid gray;flex-grow: 1;}#sk-container-id-5 div.sk-label:hover label.sk-toggleable__label {background-color: #d4ebff;}#sk-container-id-5 div.sk-serial::before {content: \"\";position: absolute;border-left: 1px solid gray;box-sizing: border-box;top: 0;bottom: 0;left: 50%;z-index: 0;}#sk-container-id-5 div.sk-serial {display: flex;flex-direction: column;align-items: center;background-color: white;padding-right: 0.2em;padding-left: 0.2em;position: relative;}#sk-container-id-5 div.sk-item {position: relative;z-index: 1;}#sk-container-id-5 div.sk-parallel {display: flex;align-items: stretch;justify-content: center;background-color: white;position: relative;}#sk-container-id-5 div.sk-item::before, #sk-container-id-5 div.sk-parallel-item::before {content: \"\";position: absolute;border-left: 1px solid gray;box-sizing: border-box;top: 0;bottom: 0;left: 50%;z-index: -1;}#sk-container-id-5 div.sk-parallel-item {display: flex;flex-direction: column;z-index: 1;position: relative;background-color: white;}#sk-container-id-5 div.sk-parallel-item:first-child::after {align-self: flex-end;width: 50%;}#sk-container-id-5 div.sk-parallel-item:last-child::after {align-self: flex-start;width: 50%;}#sk-container-id-5 div.sk-parallel-item:only-child::after {width: 0;}#sk-container-id-5 div.sk-dashed-wrapped {border: 1px dashed gray;margin: 0 0.4em 0.5em 0.4em;box-sizing: border-box;padding-bottom: 0.4em;background-color: white;}#sk-container-id-5 div.sk-label label {font-family: monospace;font-weight: bold;display: inline-block;line-height: 1.2em;}#sk-container-id-5 div.sk-label-container {text-align: center;}#sk-container-id-5 div.sk-container {/* jupyter's `normalize.less` sets `[hidden] { display: none; }` but bootstrap.min.css set `[hidden] { display: none !important; }` so we also need the `!important` here to be able to override the default hidden behavior on the sphinx rendered scikit-learn.org. See: https://github.com/scikit-learn/scikit-learn/issues/21755 */display: inline-block !important;position: relative;}#sk-container-id-5 div.sk-text-repr-fallback {display: none;}</style><div id=\"sk-container-id-5\" class=\"sk-top-container\"><div class=\"sk-text-repr-fallback\"><pre>StandardScaler()</pre><b>In a Jupyter environment, please rerun this cell to show the HTML representation or trust the notebook. <br />On GitHub, the HTML representation is unable to render, please try loading this page with nbviewer.org.</b></div><div class=\"sk-container\" hidden><div class=\"sk-item\"><div class=\"sk-estimator sk-toggleable\"><input class=\"sk-toggleable__control sk-hidden--visually\" id=\"sk-estimator-id-15\" type=\"checkbox\" checked><label for=\"sk-estimator-id-15\" class=\"sk-toggleable__label sk-toggleable__label-arrow\">StandardScaler</label><div class=\"sk-toggleable__content\"><pre>StandardScaler()</pre></div></div></div></div></div>"
      ],
      "text/plain": [
       "StandardScaler()"
      ]
     },
     "execution_count": 88,
     "metadata": {},
     "output_type": "execute_result"
    }
   ],
   "source": [
    "scaler= StandardScaler()\n",
    "scaler.fit(training_data)"
   ]
  },
  {
   "cell_type": "code",
   "execution_count": 89,
   "metadata": {},
   "outputs": [],
   "source": [
    "training_scaled_data= pd.DataFrame(scaler.transform(training_data))\n",
    "test_scaled_data= pd.DataFrame(scaler.transform(test_data))"
   ]
  },
  {
   "cell_type": "code",
   "execution_count": 90,
   "metadata": {
    "scrolled": true
   },
   "outputs": [
    {
     "name": "stdout",
     "output_type": "stream",
     "text": [
      "Support Vector Machine Regressor:0.009655261970209088\n",
      "Gradient Boosting Regressor:8.054926561119308e-11\n",
      "RandomForestClassifier:0.0\n",
      "AdaBoost Classifier:0.0\n",
      "Logistic Regression:0.0\n"
     ]
    }
   ],
   "source": [
    "from sklearn.ensemble import RandomForestRegressor\n",
    "from sklearn.ensemble import RandomForestClassifier\n",
    "from sklearn.svm import SVR\n",
    "from sklearn.ensemble import GradientBoostingRegressor\n",
    "from sklearn.ensemble import AdaBoostClassifier\n",
    "\n",
    "\n",
    "models=dict()\n",
    "\n",
    "models[\"Support Vector Machine Regressor\"]=SVR()\n",
    "models[\"Gradient Boosting Regressor\"]=GradientBoostingRegressor()\n",
    "models[\"RandomForestClassifier\"]=RandomForestClassifier()\n",
    "models[\"AdaBoost Classifier\"]=AdaBoostClassifier()\n",
    "models[\"Logistic Regression\"]=LogisticRegression()\n",
    "\n",
    "\n",
    "for model in models:\n",
    "    model_inuse=models[model].fit(training_scaled_data,training_targets)\n",
    "    prediction=model_inuse.predict(test_scaled_data)\n",
    "    print(f\"{model}:{mean_squared_error(test_targets,prediction)}\")"
   ]
  },
  {
   "cell_type": "markdown",
   "metadata": {},
   "source": [
    "Random Forest Classifier seems to achieve the lowest MSE."
   ]
  },
  {
   "cell_type": "markdown",
   "metadata": {},
   "source": [
    "# Conclusion"
   ]
  },
  {
   "cell_type": "code",
   "execution_count": 91,
   "metadata": {},
   "outputs": [
    {
     "name": "stdout",
     "output_type": "stream",
     "text": [
      "Running time without PCA:214.99257370000004\n"
     ]
    }
   ],
   "source": [
    "print(f'Running time without PCA:{Time_not_pca}')"
   ]
  },
  {
   "cell_type": "code",
   "execution_count": 92,
   "metadata": {},
   "outputs": [
    {
     "name": "stdout",
     "output_type": "stream",
     "text": [
      "Running time with method of explained_variance:310.8935572\n"
     ]
    }
   ],
   "source": [
    "print(f'Running time with method of explained_variance:{Time_pca}')"
   ]
  },
  {
   "cell_type": "code",
   "execution_count": 93,
   "metadata": {},
   "outputs": [
    {
     "name": "stdout",
     "output_type": "stream",
     "text": [
      "Running time with pipeline method:316.64226800000006\n"
     ]
    }
   ],
   "source": [
    "print(f'Running time with pipeline method:{Time_pipeline}')"
   ]
  }
 ],
 "metadata": {
  "kernelspec": {
   "display_name": "Python 3",
   "language": "python",
   "name": "python3"
  },
  "language_info": {
   "codemirror_mode": {
    "name": "ipython",
    "version": 3
   },
   "file_extension": ".py",
   "mimetype": "text/x-python",
   "name": "python",
   "nbconvert_exporter": "python",
   "pygments_lexer": "ipython3",
   "version": "3.8.5"
  }
 },
 "nbformat": 4,
 "nbformat_minor": 4
}
